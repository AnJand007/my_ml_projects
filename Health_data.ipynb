{
  "cells": [
    {
      "cell_type": "code",
      "execution_count": null,
      "metadata": {
        "id": "uDSWBqDntmb0"
      },
      "outputs": [],
      "source": [
        "import numpy as np\n",
        "import pandas as pd\n",
        "import matplotlib.pyplot as plt\n",
        "import seaborn as sns\n",
        "%matplotlib inline"
      ]
    },
    {
      "cell_type": "code",
      "execution_count": null,
      "metadata": {
        "id": "9tkCkAAdtmb2"
      },
      "outputs": [],
      "source": [
        "temp1=pd.read_csv('mdata.csv')"
      ]
    },
    {
      "cell_type": "code",
      "source": [
        "temp1.head(5)"
      ],
      "metadata": {
        "colab": {
          "base_uri": "https://localhost:8080/",
          "height": 386
        },
        "id": "eMjfVYkGuQAY",
        "outputId": "c61ee9f7-79ab-4352-8f81-624af4c64e61"
      },
      "execution_count": null,
      "outputs": [
        {
          "output_type": "execute_result",
          "data": {
            "text/plain": [
              "   patient_nbr  number_diagnoses admission_type_id discharge_disposition_id  \\\n",
              "0     55629189                 9         Emergency                   ToHome   \n",
              "1     86047875                 6         Emergency                   ToHome   \n",
              "2     82442376                 7         Emergency                   ToHome   \n",
              "3     42519267                 5         Emergency                   ToHome   \n",
              "4     82637451                 9            Urgent                   ToHome   \n",
              "\n",
              "  admission_source_id  time_in_hospital  encounter_id             race  \\\n",
              "0       EmergencyRoom                 3        149190        Caucasian   \n",
              "1       EmergencyRoom                 2         64410  AfricanAmerican   \n",
              "2       EmergencyRoom                 2        500364        Caucasian   \n",
              "3       EmergencyRoom                 1         16680        Caucasian   \n",
              "4            Referral                 3         35754        Caucasian   \n",
              "\n",
              "   gender      age  ...  num_procedures  num_medications  number_outpatient  \\\n",
              "0  Female  [10-20)  ...               0               18                  0   \n",
              "1  Female  [20-30)  ...               5               13                  2   \n",
              "2    Male  [30-40)  ...               1               16                  0   \n",
              "3    Male  [40-50)  ...               0                8                  0   \n",
              "4    Male  [50-60)  ...               6               16                  0   \n",
              "\n",
              "   number_emergency  number_inpatient  change readmitted Total_drugs  \\\n",
              "0                 0                 0      Ch        >30           1   \n",
              "1                 0                 1      No         NO           1   \n",
              "2                 0                 0      Ch         NO           1   \n",
              "3                 0                 0      Ch         NO           2   \n",
              "4                 0                 0      No        >30           1   \n",
              "\n",
              "   Solo_Insulin  diagnosis  \n",
              "0             1          1  \n",
              "1             0          1  \n",
              "2             1          1  \n",
              "3             0          1  \n",
              "4             1          1  \n",
              "\n",
              "[5 rows x 21 columns]"
            ],
            "text/html": [
              "\n",
              "  <div id=\"df-6f6ac1e6-5142-4f98-abbe-92ff0bb0b409\">\n",
              "    <div class=\"colab-df-container\">\n",
              "      <div>\n",
              "<style scoped>\n",
              "    .dataframe tbody tr th:only-of-type {\n",
              "        vertical-align: middle;\n",
              "    }\n",
              "\n",
              "    .dataframe tbody tr th {\n",
              "        vertical-align: top;\n",
              "    }\n",
              "\n",
              "    .dataframe thead th {\n",
              "        text-align: right;\n",
              "    }\n",
              "</style>\n",
              "<table border=\"1\" class=\"dataframe\">\n",
              "  <thead>\n",
              "    <tr style=\"text-align: right;\">\n",
              "      <th></th>\n",
              "      <th>patient_nbr</th>\n",
              "      <th>number_diagnoses</th>\n",
              "      <th>admission_type_id</th>\n",
              "      <th>discharge_disposition_id</th>\n",
              "      <th>admission_source_id</th>\n",
              "      <th>time_in_hospital</th>\n",
              "      <th>encounter_id</th>\n",
              "      <th>race</th>\n",
              "      <th>gender</th>\n",
              "      <th>age</th>\n",
              "      <th>...</th>\n",
              "      <th>num_procedures</th>\n",
              "      <th>num_medications</th>\n",
              "      <th>number_outpatient</th>\n",
              "      <th>number_emergency</th>\n",
              "      <th>number_inpatient</th>\n",
              "      <th>change</th>\n",
              "      <th>readmitted</th>\n",
              "      <th>Total_drugs</th>\n",
              "      <th>Solo_Insulin</th>\n",
              "      <th>diagnosis</th>\n",
              "    </tr>\n",
              "  </thead>\n",
              "  <tbody>\n",
              "    <tr>\n",
              "      <th>0</th>\n",
              "      <td>55629189</td>\n",
              "      <td>9</td>\n",
              "      <td>Emergency</td>\n",
              "      <td>ToHome</td>\n",
              "      <td>EmergencyRoom</td>\n",
              "      <td>3</td>\n",
              "      <td>149190</td>\n",
              "      <td>Caucasian</td>\n",
              "      <td>Female</td>\n",
              "      <td>[10-20)</td>\n",
              "      <td>...</td>\n",
              "      <td>0</td>\n",
              "      <td>18</td>\n",
              "      <td>0</td>\n",
              "      <td>0</td>\n",
              "      <td>0</td>\n",
              "      <td>Ch</td>\n",
              "      <td>&gt;30</td>\n",
              "      <td>1</td>\n",
              "      <td>1</td>\n",
              "      <td>1</td>\n",
              "    </tr>\n",
              "    <tr>\n",
              "      <th>1</th>\n",
              "      <td>86047875</td>\n",
              "      <td>6</td>\n",
              "      <td>Emergency</td>\n",
              "      <td>ToHome</td>\n",
              "      <td>EmergencyRoom</td>\n",
              "      <td>2</td>\n",
              "      <td>64410</td>\n",
              "      <td>AfricanAmerican</td>\n",
              "      <td>Female</td>\n",
              "      <td>[20-30)</td>\n",
              "      <td>...</td>\n",
              "      <td>5</td>\n",
              "      <td>13</td>\n",
              "      <td>2</td>\n",
              "      <td>0</td>\n",
              "      <td>1</td>\n",
              "      <td>No</td>\n",
              "      <td>NO</td>\n",
              "      <td>1</td>\n",
              "      <td>0</td>\n",
              "      <td>1</td>\n",
              "    </tr>\n",
              "    <tr>\n",
              "      <th>2</th>\n",
              "      <td>82442376</td>\n",
              "      <td>7</td>\n",
              "      <td>Emergency</td>\n",
              "      <td>ToHome</td>\n",
              "      <td>EmergencyRoom</td>\n",
              "      <td>2</td>\n",
              "      <td>500364</td>\n",
              "      <td>Caucasian</td>\n",
              "      <td>Male</td>\n",
              "      <td>[30-40)</td>\n",
              "      <td>...</td>\n",
              "      <td>1</td>\n",
              "      <td>16</td>\n",
              "      <td>0</td>\n",
              "      <td>0</td>\n",
              "      <td>0</td>\n",
              "      <td>Ch</td>\n",
              "      <td>NO</td>\n",
              "      <td>1</td>\n",
              "      <td>1</td>\n",
              "      <td>1</td>\n",
              "    </tr>\n",
              "    <tr>\n",
              "      <th>3</th>\n",
              "      <td>42519267</td>\n",
              "      <td>5</td>\n",
              "      <td>Emergency</td>\n",
              "      <td>ToHome</td>\n",
              "      <td>EmergencyRoom</td>\n",
              "      <td>1</td>\n",
              "      <td>16680</td>\n",
              "      <td>Caucasian</td>\n",
              "      <td>Male</td>\n",
              "      <td>[40-50)</td>\n",
              "      <td>...</td>\n",
              "      <td>0</td>\n",
              "      <td>8</td>\n",
              "      <td>0</td>\n",
              "      <td>0</td>\n",
              "      <td>0</td>\n",
              "      <td>Ch</td>\n",
              "      <td>NO</td>\n",
              "      <td>2</td>\n",
              "      <td>0</td>\n",
              "      <td>1</td>\n",
              "    </tr>\n",
              "    <tr>\n",
              "      <th>4</th>\n",
              "      <td>82637451</td>\n",
              "      <td>9</td>\n",
              "      <td>Urgent</td>\n",
              "      <td>ToHome</td>\n",
              "      <td>Referral</td>\n",
              "      <td>3</td>\n",
              "      <td>35754</td>\n",
              "      <td>Caucasian</td>\n",
              "      <td>Male</td>\n",
              "      <td>[50-60)</td>\n",
              "      <td>...</td>\n",
              "      <td>6</td>\n",
              "      <td>16</td>\n",
              "      <td>0</td>\n",
              "      <td>0</td>\n",
              "      <td>0</td>\n",
              "      <td>No</td>\n",
              "      <td>&gt;30</td>\n",
              "      <td>1</td>\n",
              "      <td>1</td>\n",
              "      <td>1</td>\n",
              "    </tr>\n",
              "  </tbody>\n",
              "</table>\n",
              "<p>5 rows × 21 columns</p>\n",
              "</div>\n",
              "      <button class=\"colab-df-convert\" onclick=\"convertToInteractive('df-6f6ac1e6-5142-4f98-abbe-92ff0bb0b409')\"\n",
              "              title=\"Convert this dataframe to an interactive table.\"\n",
              "              style=\"display:none;\">\n",
              "        \n",
              "  <svg xmlns=\"http://www.w3.org/2000/svg\" height=\"24px\"viewBox=\"0 0 24 24\"\n",
              "       width=\"24px\">\n",
              "    <path d=\"M0 0h24v24H0V0z\" fill=\"none\"/>\n",
              "    <path d=\"M18.56 5.44l.94 2.06.94-2.06 2.06-.94-2.06-.94-.94-2.06-.94 2.06-2.06.94zm-11 1L8.5 8.5l.94-2.06 2.06-.94-2.06-.94L8.5 2.5l-.94 2.06-2.06.94zm10 10l.94 2.06.94-2.06 2.06-.94-2.06-.94-.94-2.06-.94 2.06-2.06.94z\"/><path d=\"M17.41 7.96l-1.37-1.37c-.4-.4-.92-.59-1.43-.59-.52 0-1.04.2-1.43.59L10.3 9.45l-7.72 7.72c-.78.78-.78 2.05 0 2.83L4 21.41c.39.39.9.59 1.41.59.51 0 1.02-.2 1.41-.59l7.78-7.78 2.81-2.81c.8-.78.8-2.07 0-2.86zM5.41 20L4 18.59l7.72-7.72 1.47 1.35L5.41 20z\"/>\n",
              "  </svg>\n",
              "      </button>\n",
              "      \n",
              "  <style>\n",
              "    .colab-df-container {\n",
              "      display:flex;\n",
              "      flex-wrap:wrap;\n",
              "      gap: 12px;\n",
              "    }\n",
              "\n",
              "    .colab-df-convert {\n",
              "      background-color: #E8F0FE;\n",
              "      border: none;\n",
              "      border-radius: 50%;\n",
              "      cursor: pointer;\n",
              "      display: none;\n",
              "      fill: #1967D2;\n",
              "      height: 32px;\n",
              "      padding: 0 0 0 0;\n",
              "      width: 32px;\n",
              "    }\n",
              "\n",
              "    .colab-df-convert:hover {\n",
              "      background-color: #E2EBFA;\n",
              "      box-shadow: 0px 1px 2px rgba(60, 64, 67, 0.3), 0px 1px 3px 1px rgba(60, 64, 67, 0.15);\n",
              "      fill: #174EA6;\n",
              "    }\n",
              "\n",
              "    [theme=dark] .colab-df-convert {\n",
              "      background-color: #3B4455;\n",
              "      fill: #D2E3FC;\n",
              "    }\n",
              "\n",
              "    [theme=dark] .colab-df-convert:hover {\n",
              "      background-color: #434B5C;\n",
              "      box-shadow: 0px 1px 3px 1px rgba(0, 0, 0, 0.15);\n",
              "      filter: drop-shadow(0px 1px 2px rgba(0, 0, 0, 0.3));\n",
              "      fill: #FFFFFF;\n",
              "    }\n",
              "  </style>\n",
              "\n",
              "      <script>\n",
              "        const buttonEl =\n",
              "          document.querySelector('#df-6f6ac1e6-5142-4f98-abbe-92ff0bb0b409 button.colab-df-convert');\n",
              "        buttonEl.style.display =\n",
              "          google.colab.kernel.accessAllowed ? 'block' : 'none';\n",
              "\n",
              "        async function convertToInteractive(key) {\n",
              "          const element = document.querySelector('#df-6f6ac1e6-5142-4f98-abbe-92ff0bb0b409');\n",
              "          const dataTable =\n",
              "            await google.colab.kernel.invokeFunction('convertToInteractive',\n",
              "                                                     [key], {});\n",
              "          if (!dataTable) return;\n",
              "\n",
              "          const docLinkHtml = 'Like what you see? Visit the ' +\n",
              "            '<a target=\"_blank\" href=https://colab.research.google.com/notebooks/data_table.ipynb>data table notebook</a>'\n",
              "            + ' to learn more about interactive tables.';\n",
              "          element.innerHTML = '';\n",
              "          dataTable['output_type'] = 'display_data';\n",
              "          await google.colab.output.renderOutput(dataTable, element);\n",
              "          const docLink = document.createElement('div');\n",
              "          docLink.innerHTML = docLinkHtml;\n",
              "          element.appendChild(docLink);\n",
              "        }\n",
              "      </script>\n",
              "    </div>\n",
              "  </div>\n",
              "  "
            ]
          },
          "metadata": {},
          "execution_count": 8
        }
      ]
    },
    {
      "cell_type": "code",
      "source": [
        "temp1.shape"
      ],
      "metadata": {
        "colab": {
          "base_uri": "https://localhost:8080/"
        },
        "id": "yzNK6c44uS7r",
        "outputId": "6994fd9d-16fc-49bc-eb1e-34fb92e1ac47"
      },
      "execution_count": null,
      "outputs": [
        {
          "output_type": "execute_result",
          "data": {
            "text/plain": [
              "(77272, 21)"
            ]
          },
          "metadata": {},
          "execution_count": 9
        }
      ]
    },
    {
      "cell_type": "code",
      "source": [
        "temp1.describe()"
      ],
      "metadata": {
        "colab": {
          "base_uri": "https://localhost:8080/",
          "height": 364
        },
        "id": "_dMiyAQYuT2m",
        "outputId": "ac8bdf61-8958-4040-d2a7-51f7f794dca4"
      },
      "execution_count": null,
      "outputs": [
        {
          "output_type": "execute_result",
          "data": {
            "text/plain": [
              "        patient_nbr  number_diagnoses  time_in_hospital  encounter_id  \\\n",
              "count  7.727200e+04      77272.000000      77272.000000  7.727200e+04   \n",
              "mean   5.470419e+07          7.441997          4.453942  1.682145e+08   \n",
              "std    3.860828e+07          1.883602          2.896939  1.029331e+08   \n",
              "min    1.350000e+02          3.000000          1.000000  1.252200e+04   \n",
              "25%    2.354589e+07          6.000000          2.000000  8.803799e+07   \n",
              "50%    4.558235e+07          8.000000          4.000000  1.553654e+08   \n",
              "75%    8.794880e+07          9.000000          6.000000  2.344952e+08   \n",
              "max    1.895026e+08          9.000000         12.000000  4.438572e+08   \n",
              "\n",
              "       num_lab_procedures  num_procedures  num_medications  number_outpatient  \\\n",
              "count        77272.000000    77272.000000     77272.000000       77272.000000   \n",
              "mean            43.157793        1.322161        16.623874           0.381833   \n",
              "std             19.454088        1.708569         7.448546           1.302233   \n",
              "min              1.000000        0.000000         5.000000           0.000000   \n",
              "25%             32.000000        0.000000        11.000000           0.000000   \n",
              "50%             44.000000        1.000000        15.000000           0.000000   \n",
              "75%             57.000000        2.000000        21.000000           0.000000   \n",
              "max             79.000000        6.000000        37.000000          42.000000   \n",
              "\n",
              "       number_emergency  number_inpatient   Total_drugs  Solo_Insulin  \\\n",
              "count      77272.000000      77272.000000  77272.000000  77272.000000   \n",
              "mean           0.211551          0.598354      1.536029      0.390853   \n",
              "std            0.975962          1.019884      0.749765      0.487945   \n",
              "min            0.000000          0.000000      1.000000      0.000000   \n",
              "25%            0.000000          0.000000      1.000000      0.000000   \n",
              "50%            0.000000          0.000000      1.000000      0.000000   \n",
              "75%            0.000000          1.000000      2.000000      1.000000   \n",
              "max           76.000000          4.000000      6.000000      1.000000   \n",
              "\n",
              "          diagnosis  \n",
              "count  77272.000000  \n",
              "mean       0.392225  \n",
              "std        0.488250  \n",
              "min        0.000000  \n",
              "25%        0.000000  \n",
              "50%        0.000000  \n",
              "75%        1.000000  \n",
              "max        1.000000  "
            ],
            "text/html": [
              "\n",
              "  <div id=\"df-c38c00ec-19fb-4644-9afa-ab2fcacabecf\">\n",
              "    <div class=\"colab-df-container\">\n",
              "      <div>\n",
              "<style scoped>\n",
              "    .dataframe tbody tr th:only-of-type {\n",
              "        vertical-align: middle;\n",
              "    }\n",
              "\n",
              "    .dataframe tbody tr th {\n",
              "        vertical-align: top;\n",
              "    }\n",
              "\n",
              "    .dataframe thead th {\n",
              "        text-align: right;\n",
              "    }\n",
              "</style>\n",
              "<table border=\"1\" class=\"dataframe\">\n",
              "  <thead>\n",
              "    <tr style=\"text-align: right;\">\n",
              "      <th></th>\n",
              "      <th>patient_nbr</th>\n",
              "      <th>number_diagnoses</th>\n",
              "      <th>time_in_hospital</th>\n",
              "      <th>encounter_id</th>\n",
              "      <th>num_lab_procedures</th>\n",
              "      <th>num_procedures</th>\n",
              "      <th>num_medications</th>\n",
              "      <th>number_outpatient</th>\n",
              "      <th>number_emergency</th>\n",
              "      <th>number_inpatient</th>\n",
              "      <th>Total_drugs</th>\n",
              "      <th>Solo_Insulin</th>\n",
              "      <th>diagnosis</th>\n",
              "    </tr>\n",
              "  </thead>\n",
              "  <tbody>\n",
              "    <tr>\n",
              "      <th>count</th>\n",
              "      <td>7.727200e+04</td>\n",
              "      <td>77272.000000</td>\n",
              "      <td>77272.000000</td>\n",
              "      <td>7.727200e+04</td>\n",
              "      <td>77272.000000</td>\n",
              "      <td>77272.000000</td>\n",
              "      <td>77272.000000</td>\n",
              "      <td>77272.000000</td>\n",
              "      <td>77272.000000</td>\n",
              "      <td>77272.000000</td>\n",
              "      <td>77272.000000</td>\n",
              "      <td>77272.000000</td>\n",
              "      <td>77272.000000</td>\n",
              "    </tr>\n",
              "    <tr>\n",
              "      <th>mean</th>\n",
              "      <td>5.470419e+07</td>\n",
              "      <td>7.441997</td>\n",
              "      <td>4.453942</td>\n",
              "      <td>1.682145e+08</td>\n",
              "      <td>43.157793</td>\n",
              "      <td>1.322161</td>\n",
              "      <td>16.623874</td>\n",
              "      <td>0.381833</td>\n",
              "      <td>0.211551</td>\n",
              "      <td>0.598354</td>\n",
              "      <td>1.536029</td>\n",
              "      <td>0.390853</td>\n",
              "      <td>0.392225</td>\n",
              "    </tr>\n",
              "    <tr>\n",
              "      <th>std</th>\n",
              "      <td>3.860828e+07</td>\n",
              "      <td>1.883602</td>\n",
              "      <td>2.896939</td>\n",
              "      <td>1.029331e+08</td>\n",
              "      <td>19.454088</td>\n",
              "      <td>1.708569</td>\n",
              "      <td>7.448546</td>\n",
              "      <td>1.302233</td>\n",
              "      <td>0.975962</td>\n",
              "      <td>1.019884</td>\n",
              "      <td>0.749765</td>\n",
              "      <td>0.487945</td>\n",
              "      <td>0.488250</td>\n",
              "    </tr>\n",
              "    <tr>\n",
              "      <th>min</th>\n",
              "      <td>1.350000e+02</td>\n",
              "      <td>3.000000</td>\n",
              "      <td>1.000000</td>\n",
              "      <td>1.252200e+04</td>\n",
              "      <td>1.000000</td>\n",
              "      <td>0.000000</td>\n",
              "      <td>5.000000</td>\n",
              "      <td>0.000000</td>\n",
              "      <td>0.000000</td>\n",
              "      <td>0.000000</td>\n",
              "      <td>1.000000</td>\n",
              "      <td>0.000000</td>\n",
              "      <td>0.000000</td>\n",
              "    </tr>\n",
              "    <tr>\n",
              "      <th>25%</th>\n",
              "      <td>2.354589e+07</td>\n",
              "      <td>6.000000</td>\n",
              "      <td>2.000000</td>\n",
              "      <td>8.803799e+07</td>\n",
              "      <td>32.000000</td>\n",
              "      <td>0.000000</td>\n",
              "      <td>11.000000</td>\n",
              "      <td>0.000000</td>\n",
              "      <td>0.000000</td>\n",
              "      <td>0.000000</td>\n",
              "      <td>1.000000</td>\n",
              "      <td>0.000000</td>\n",
              "      <td>0.000000</td>\n",
              "    </tr>\n",
              "    <tr>\n",
              "      <th>50%</th>\n",
              "      <td>4.558235e+07</td>\n",
              "      <td>8.000000</td>\n",
              "      <td>4.000000</td>\n",
              "      <td>1.553654e+08</td>\n",
              "      <td>44.000000</td>\n",
              "      <td>1.000000</td>\n",
              "      <td>15.000000</td>\n",
              "      <td>0.000000</td>\n",
              "      <td>0.000000</td>\n",
              "      <td>0.000000</td>\n",
              "      <td>1.000000</td>\n",
              "      <td>0.000000</td>\n",
              "      <td>0.000000</td>\n",
              "    </tr>\n",
              "    <tr>\n",
              "      <th>75%</th>\n",
              "      <td>8.794880e+07</td>\n",
              "      <td>9.000000</td>\n",
              "      <td>6.000000</td>\n",
              "      <td>2.344952e+08</td>\n",
              "      <td>57.000000</td>\n",
              "      <td>2.000000</td>\n",
              "      <td>21.000000</td>\n",
              "      <td>0.000000</td>\n",
              "      <td>0.000000</td>\n",
              "      <td>1.000000</td>\n",
              "      <td>2.000000</td>\n",
              "      <td>1.000000</td>\n",
              "      <td>1.000000</td>\n",
              "    </tr>\n",
              "    <tr>\n",
              "      <th>max</th>\n",
              "      <td>1.895026e+08</td>\n",
              "      <td>9.000000</td>\n",
              "      <td>12.000000</td>\n",
              "      <td>4.438572e+08</td>\n",
              "      <td>79.000000</td>\n",
              "      <td>6.000000</td>\n",
              "      <td>37.000000</td>\n",
              "      <td>42.000000</td>\n",
              "      <td>76.000000</td>\n",
              "      <td>4.000000</td>\n",
              "      <td>6.000000</td>\n",
              "      <td>1.000000</td>\n",
              "      <td>1.000000</td>\n",
              "    </tr>\n",
              "  </tbody>\n",
              "</table>\n",
              "</div>\n",
              "      <button class=\"colab-df-convert\" onclick=\"convertToInteractive('df-c38c00ec-19fb-4644-9afa-ab2fcacabecf')\"\n",
              "              title=\"Convert this dataframe to an interactive table.\"\n",
              "              style=\"display:none;\">\n",
              "        \n",
              "  <svg xmlns=\"http://www.w3.org/2000/svg\" height=\"24px\"viewBox=\"0 0 24 24\"\n",
              "       width=\"24px\">\n",
              "    <path d=\"M0 0h24v24H0V0z\" fill=\"none\"/>\n",
              "    <path d=\"M18.56 5.44l.94 2.06.94-2.06 2.06-.94-2.06-.94-.94-2.06-.94 2.06-2.06.94zm-11 1L8.5 8.5l.94-2.06 2.06-.94-2.06-.94L8.5 2.5l-.94 2.06-2.06.94zm10 10l.94 2.06.94-2.06 2.06-.94-2.06-.94-.94-2.06-.94 2.06-2.06.94z\"/><path d=\"M17.41 7.96l-1.37-1.37c-.4-.4-.92-.59-1.43-.59-.52 0-1.04.2-1.43.59L10.3 9.45l-7.72 7.72c-.78.78-.78 2.05 0 2.83L4 21.41c.39.39.9.59 1.41.59.51 0 1.02-.2 1.41-.59l7.78-7.78 2.81-2.81c.8-.78.8-2.07 0-2.86zM5.41 20L4 18.59l7.72-7.72 1.47 1.35L5.41 20z\"/>\n",
              "  </svg>\n",
              "      </button>\n",
              "      \n",
              "  <style>\n",
              "    .colab-df-container {\n",
              "      display:flex;\n",
              "      flex-wrap:wrap;\n",
              "      gap: 12px;\n",
              "    }\n",
              "\n",
              "    .colab-df-convert {\n",
              "      background-color: #E8F0FE;\n",
              "      border: none;\n",
              "      border-radius: 50%;\n",
              "      cursor: pointer;\n",
              "      display: none;\n",
              "      fill: #1967D2;\n",
              "      height: 32px;\n",
              "      padding: 0 0 0 0;\n",
              "      width: 32px;\n",
              "    }\n",
              "\n",
              "    .colab-df-convert:hover {\n",
              "      background-color: #E2EBFA;\n",
              "      box-shadow: 0px 1px 2px rgba(60, 64, 67, 0.3), 0px 1px 3px 1px rgba(60, 64, 67, 0.15);\n",
              "      fill: #174EA6;\n",
              "    }\n",
              "\n",
              "    [theme=dark] .colab-df-convert {\n",
              "      background-color: #3B4455;\n",
              "      fill: #D2E3FC;\n",
              "    }\n",
              "\n",
              "    [theme=dark] .colab-df-convert:hover {\n",
              "      background-color: #434B5C;\n",
              "      box-shadow: 0px 1px 3px 1px rgba(0, 0, 0, 0.15);\n",
              "      filter: drop-shadow(0px 1px 2px rgba(0, 0, 0, 0.3));\n",
              "      fill: #FFFFFF;\n",
              "    }\n",
              "  </style>\n",
              "\n",
              "      <script>\n",
              "        const buttonEl =\n",
              "          document.querySelector('#df-c38c00ec-19fb-4644-9afa-ab2fcacabecf button.colab-df-convert');\n",
              "        buttonEl.style.display =\n",
              "          google.colab.kernel.accessAllowed ? 'block' : 'none';\n",
              "\n",
              "        async function convertToInteractive(key) {\n",
              "          const element = document.querySelector('#df-c38c00ec-19fb-4644-9afa-ab2fcacabecf');\n",
              "          const dataTable =\n",
              "            await google.colab.kernel.invokeFunction('convertToInteractive',\n",
              "                                                     [key], {});\n",
              "          if (!dataTable) return;\n",
              "\n",
              "          const docLinkHtml = 'Like what you see? Visit the ' +\n",
              "            '<a target=\"_blank\" href=https://colab.research.google.com/notebooks/data_table.ipynb>data table notebook</a>'\n",
              "            + ' to learn more about interactive tables.';\n",
              "          element.innerHTML = '';\n",
              "          dataTable['output_type'] = 'display_data';\n",
              "          await google.colab.output.renderOutput(dataTable, element);\n",
              "          const docLink = document.createElement('div');\n",
              "          docLink.innerHTML = docLinkHtml;\n",
              "          element.appendChild(docLink);\n",
              "        }\n",
              "      </script>\n",
              "    </div>\n",
              "  </div>\n",
              "  "
            ]
          },
          "metadata": {},
          "execution_count": 10
        }
      ]
    },
    {
      "cell_type": "code",
      "execution_count": null,
      "metadata": {
        "colab": {
          "base_uri": "https://localhost:8080/"
        },
        "id": "yyi4ZVBPtmb2",
        "outputId": "b57e2cf4-2bd3-4af3-916b-b44b138bc4fa"
      },
      "outputs": [
        {
          "output_type": "execute_result",
          "data": {
            "text/plain": [
              "patient_nbr                    0\n",
              "number_diagnoses               0\n",
              "admission_type_id           7845\n",
              "discharge_disposition_id    3050\n",
              "admission_source_id         5392\n",
              "time_in_hospital               0\n",
              "encounter_id                   0\n",
              "race                           0\n",
              "gender                         0\n",
              "age                            0\n",
              "num_lab_procedures             0\n",
              "num_procedures                 0\n",
              "num_medications                0\n",
              "number_outpatient              0\n",
              "number_emergency               0\n",
              "number_inpatient               0\n",
              "change                         0\n",
              "readmitted                     0\n",
              "Total_drugs                    0\n",
              "Solo_Insulin                   0\n",
              "diagnosis                      0\n",
              "dtype: int64"
            ]
          },
          "metadata": {},
          "execution_count": 11
        }
      ],
      "source": [
        "temp1.isnull().sum()"
      ]
    },
    {
      "cell_type": "code",
      "execution_count": null,
      "metadata": {
        "colab": {
          "base_uri": "https://localhost:8080/"
        },
        "id": "goJ4ErwZtmb4",
        "outputId": "3adaa7a4-c19d-48d5-b253-7048d9a2de77"
      },
      "outputs": [
        {
          "output_type": "stream",
          "name": "stdout",
          "text": [
            "<class 'pandas.core.frame.DataFrame'>\n",
            "RangeIndex: 77272 entries, 0 to 77271\n",
            "Data columns (total 21 columns):\n",
            " #   Column                    Non-Null Count  Dtype \n",
            "---  ------                    --------------  ----- \n",
            " 0   patient_nbr               77272 non-null  int64 \n",
            " 1   number_diagnoses          77272 non-null  int64 \n",
            " 2   admission_type_id         69427 non-null  object\n",
            " 3   discharge_disposition_id  74222 non-null  object\n",
            " 4   admission_source_id       71880 non-null  object\n",
            " 5   time_in_hospital          77272 non-null  int64 \n",
            " 6   encounter_id              77272 non-null  int64 \n",
            " 7   race                      77272 non-null  object\n",
            " 8   gender                    77272 non-null  object\n",
            " 9   age                       77272 non-null  object\n",
            " 10  num_lab_procedures        77272 non-null  int64 \n",
            " 11  num_procedures            77272 non-null  int64 \n",
            " 12  num_medications           77272 non-null  int64 \n",
            " 13  number_outpatient         77272 non-null  int64 \n",
            " 14  number_emergency          77272 non-null  int64 \n",
            " 15  number_inpatient          77272 non-null  int64 \n",
            " 16  change                    77272 non-null  object\n",
            " 17  readmitted                77272 non-null  object\n",
            " 18  Total_drugs               77272 non-null  int64 \n",
            " 19  Solo_Insulin              77272 non-null  int64 \n",
            " 20  diagnosis                 77272 non-null  int64 \n",
            "dtypes: int64(13), object(8)\n",
            "memory usage: 12.4+ MB\n"
          ]
        }
      ],
      "source": [
        "temp1.info()"
      ]
    },
    {
      "cell_type": "markdown",
      "metadata": {
        "id": "3sh8dNuwtmb4"
      },
      "source": [
        "### dropping num_procedures(did not pass p value test) , patient_nbr and encounter_id"
      ]
    },
    {
      "cell_type": "code",
      "execution_count": null,
      "metadata": {
        "id": "5M-jCtV4tmb5"
      },
      "outputs": [],
      "source": [
        "temp1.drop(['num_procedures','patient_nbr','encounter_id'],axis=1,inplace=True)"
      ]
    },
    {
      "cell_type": "code",
      "execution_count": null,
      "metadata": {
        "colab": {
          "base_uri": "https://localhost:8080/"
        },
        "id": "gl_wUkhItmb5",
        "outputId": "bd56c164-f9b9-424c-9c85-8f9822289f08"
      },
      "outputs": [
        {
          "output_type": "stream",
          "name": "stdout",
          "text": [
            "<class 'pandas.core.frame.DataFrame'>\n",
            "RangeIndex: 77272 entries, 0 to 77271\n",
            "Data columns (total 18 columns):\n",
            " #   Column                    Non-Null Count  Dtype \n",
            "---  ------                    --------------  ----- \n",
            " 0   number_diagnoses          77272 non-null  int64 \n",
            " 1   admission_type_id         69427 non-null  object\n",
            " 2   discharge_disposition_id  74222 non-null  object\n",
            " 3   admission_source_id       71880 non-null  object\n",
            " 4   time_in_hospital          77272 non-null  int64 \n",
            " 5   race                      77272 non-null  object\n",
            " 6   gender                    77272 non-null  object\n",
            " 7   age                       77272 non-null  object\n",
            " 8   num_lab_procedures        77272 non-null  int64 \n",
            " 9   num_medications           77272 non-null  int64 \n",
            " 10  number_outpatient         77272 non-null  int64 \n",
            " 11  number_emergency          77272 non-null  int64 \n",
            " 12  number_inpatient          77272 non-null  int64 \n",
            " 13  change                    77272 non-null  object\n",
            " 14  readmitted                77272 non-null  object\n",
            " 15  Total_drugs               77272 non-null  int64 \n",
            " 16  Solo_Insulin              77272 non-null  int64 \n",
            " 17  diagnosis                 77272 non-null  int64 \n",
            "dtypes: int64(10), object(8)\n",
            "memory usage: 10.6+ MB\n"
          ]
        }
      ],
      "source": [
        "temp1.info()"
      ]
    },
    {
      "cell_type": "code",
      "execution_count": null,
      "metadata": {
        "id": "ycNYHibxtmb6"
      },
      "outputs": [],
      "source": [
        "from sklearn.naive_bayes import GaussianNB\n",
        "from sklearn.preprocessing import StandardScaler\n",
        "from sklearn.model_selection import train_test_split"
      ]
    },
    {
      "cell_type": "code",
      "execution_count": null,
      "metadata": {
        "colab": {
          "base_uri": "https://localhost:8080/"
        },
        "id": "dwCQgx30tmb6",
        "outputId": "054263ff-990d-49e0-93ed-6a89a07df63d"
      },
      "outputs": [
        {
          "output_type": "execute_result",
          "data": {
            "text/plain": [
              "Index(['number_diagnoses', 'admission_type_id', 'discharge_disposition_id',\n",
              "       'admission_source_id', 'time_in_hospital', 'race', 'gender', 'age',\n",
              "       'num_lab_procedures', 'num_medications', 'number_outpatient',\n",
              "       'number_emergency', 'number_inpatient', 'change', 'readmitted',\n",
              "       'Total_drugs', 'Solo_Insulin', 'diagnosis'],\n",
              "      dtype='object')"
            ]
          },
          "metadata": {},
          "execution_count": 16
        }
      ],
      "source": [
        "temp1.columns"
      ]
    },
    {
      "cell_type": "code",
      "execution_count": null,
      "metadata": {
        "colab": {
          "base_uri": "https://localhost:8080/"
        },
        "id": "-jilyLX1tmb7",
        "outputId": "179a1ff7-235d-4e7b-a439-092c71932df1"
      },
      "outputs": [
        {
          "output_type": "execute_result",
          "data": {
            "text/plain": [
              "(77272, 18)"
            ]
          },
          "metadata": {},
          "execution_count": 17
        }
      ],
      "source": [
        "temp1.shape"
      ]
    },
    {
      "cell_type": "code",
      "execution_count": null,
      "metadata": {
        "id": "T09EnbXitmb7"
      },
      "outputs": [],
      "source": [
        "x=temp1.drop('Solo_Insulin',axis=1)\n",
        "y=temp1['Solo_Insulin']"
      ]
    },
    {
      "cell_type": "code",
      "execution_count": null,
      "metadata": {
        "id": "G-rEc6vetmb8"
      },
      "outputs": [],
      "source": [
        "x_train,x_test,y_train,y_test = train_test_split(x,y,test_size=0.2,random_state=1,stratify=y)"
      ]
    },
    {
      "cell_type": "code",
      "execution_count": null,
      "metadata": {
        "id": "TPAygKhStmb8"
      },
      "outputs": [],
      "source": [
        "num_train=x_train[['number_diagnoses','time_in_hospital','num_lab_procedures', 'num_medications', 'number_outpatient',\n",
        "       'number_emergency', 'number_inpatient','Total_drugs']]\n",
        "num_test=num=x_test[['number_diagnoses','time_in_hospital','num_lab_procedures', 'num_medications', 'number_outpatient',\n",
        "       'number_emergency', 'number_inpatient','Total_drugs']]"
      ]
    },
    {
      "cell_type": "code",
      "execution_count": null,
      "metadata": {
        "id": "SSC-OG4itmb8"
      },
      "outputs": [],
      "source": [
        "sc=StandardScaler()\n",
        "num_train=pd.DataFrame(sc.fit_transform(num_train),columns=num_train.columns)\n",
        "num_test=pd.DataFrame(sc.transform(num_test),columns=num_test.columns)"
      ]
    },
    {
      "cell_type": "code",
      "execution_count": null,
      "metadata": {
        "id": "PFbzo7Cwtmb9"
      },
      "outputs": [],
      "source": [
        "x_train.index=np.arange(len(x_train))\n",
        "x_test.index=np.arange(len(x_test))"
      ]
    },
    {
      "cell_type": "code",
      "execution_count": null,
      "metadata": {
        "colab": {
          "base_uri": "https://localhost:8080/"
        },
        "id": "ymbMK75Vtmb9",
        "outputId": "d58c7e25-ebd4-4f27-c9e0-eeb2f1acac09"
      },
      "outputs": [
        {
          "output_type": "execute_result",
          "data": {
            "text/plain": [
              "(15455, 17)"
            ]
          },
          "metadata": {},
          "execution_count": 23
        }
      ],
      "source": [
        "x_test.shape"
      ]
    },
    {
      "cell_type": "code",
      "execution_count": null,
      "metadata": {
        "id": "400qZkLetmb9"
      },
      "outputs": [],
      "source": [
        "x_train.drop(['number_diagnoses','time_in_hospital','num_lab_procedures', 'num_medications', 'number_outpatient',\n",
        "       'number_emergency', 'number_inpatient','Total_drugs'],axis=1,inplace=True)\n",
        "x_test.drop(['number_diagnoses','time_in_hospital','num_lab_procedures', 'num_medications', 'number_outpatient',\n",
        "       'number_emergency', 'number_inpatient','Total_drugs'],axis=1,inplace=True)"
      ]
    },
    {
      "cell_type": "code",
      "execution_count": null,
      "metadata": {
        "id": "HOWsXo1Ctmb-"
      },
      "outputs": [],
      "source": [
        "x_train=pd.concat([x_train,num_train],axis=1)\n",
        "x_test=pd.concat([x_test,num_test],axis=1)"
      ]
    },
    {
      "cell_type": "code",
      "execution_count": null,
      "metadata": {
        "colab": {
          "base_uri": "https://localhost:8080/"
        },
        "id": "DijpuIl-tmb-",
        "outputId": "e6515342-5438-4373-bbed-4de3a92f344d"
      },
      "outputs": [
        {
          "output_type": "execute_result",
          "data": {
            "text/plain": [
              "admission_type_id           1551\n",
              "discharge_disposition_id     587\n",
              "admission_source_id         1073\n",
              "race                           0\n",
              "gender                         0\n",
              "age                            0\n",
              "change                         0\n",
              "readmitted                     0\n",
              "diagnosis                      0\n",
              "number_diagnoses               0\n",
              "time_in_hospital               0\n",
              "num_lab_procedures             0\n",
              "num_medications                0\n",
              "number_outpatient              0\n",
              "number_emergency               0\n",
              "number_inpatient               0\n",
              "Total_drugs                    0\n",
              "dtype: int64"
            ]
          },
          "metadata": {},
          "execution_count": 26
        }
      ],
      "source": [
        "x_test.isnull().sum()"
      ]
    },
    {
      "cell_type": "code",
      "execution_count": null,
      "metadata": {
        "id": "T-vuOnOntmb-"
      },
      "outputs": [],
      "source": [
        "x_train = pd.get_dummies(x_train)\n",
        "x_test = pd.get_dummies(x_test)"
      ]
    },
    {
      "cell_type": "code",
      "execution_count": null,
      "metadata": {
        "id": "Tw0i2s_Dtmb_"
      },
      "outputs": [],
      "source": [
        "y_train.index=np.arange(len(y_train))\n",
        "y_test.index=np.arange(len(y_test))"
      ]
    },
    {
      "cell_type": "code",
      "execution_count": null,
      "metadata": {
        "colab": {
          "base_uri": "https://localhost:8080/"
        },
        "id": "1xM0WgC0tmb_",
        "outputId": "b17e47f2-bec5-4cfa-f1e9-a53684d892cb"
      },
      "outputs": [
        {
          "output_type": "execute_result",
          "data": {
            "text/plain": [
              "(61817, 43)"
            ]
          },
          "metadata": {},
          "execution_count": 29
        }
      ],
      "source": [
        "x_train.shape\n"
      ]
    },
    {
      "cell_type": "code",
      "execution_count": null,
      "metadata": {
        "colab": {
          "base_uri": "https://localhost:8080/"
        },
        "id": "2nYdvgOUtmb_",
        "outputId": "9731ef1b-f11a-4b46-cf30-b8cf6790a908"
      },
      "outputs": [
        {
          "output_type": "execute_result",
          "data": {
            "text/plain": [
              "(15455, 43)"
            ]
          },
          "metadata": {},
          "execution_count": 30
        }
      ],
      "source": [
        "x_test.shape"
      ]
    },
    {
      "cell_type": "code",
      "execution_count": null,
      "metadata": {
        "colab": {
          "base_uri": "https://localhost:8080/"
        },
        "id": "K0Ub7mmetmb_",
        "outputId": "8ac1e64d-bdeb-4a73-f289-0daab2c8217c"
      },
      "outputs": [
        {
          "output_type": "execute_result",
          "data": {
            "text/plain": [
              "(61817,)"
            ]
          },
          "metadata": {},
          "execution_count": 31
        }
      ],
      "source": [
        "y_train.shape"
      ]
    },
    {
      "cell_type": "code",
      "execution_count": null,
      "metadata": {
        "colab": {
          "base_uri": "https://localhost:8080/"
        },
        "id": "lVh2vWc5tmb_",
        "outputId": "9e504c9c-60c7-4cdf-953c-33835abdb63c"
      },
      "outputs": [
        {
          "output_type": "execute_result",
          "data": {
            "text/plain": [
              "(15455,)"
            ]
          },
          "metadata": {},
          "execution_count": 32
        }
      ],
      "source": [
        "y_test.shape"
      ]
    },
    {
      "cell_type": "markdown",
      "metadata": {
        "id": "PIuoEXv_tmcA"
      },
      "source": [
        "### Naive Bayes"
      ]
    },
    {
      "cell_type": "code",
      "execution_count": null,
      "metadata": {
        "id": "B2UqDl_8tmcA"
      },
      "outputs": [],
      "source": [
        "import sklearn.metrics as metrics"
      ]
    },
    {
      "cell_type": "code",
      "execution_count": null,
      "metadata": {
        "colab": {
          "base_uri": "https://localhost:8080/"
        },
        "id": "OEI99OdbtmcA",
        "outputId": "f603efce-b588-4606-c813-b36ec1d5ca66"
      },
      "outputs": [
        {
          "output_type": "stream",
          "name": "stdout",
          "text": [
            "              precision    recall  f1-score   support\n",
            "\n",
            "           0       0.67      0.93      0.78      9414\n",
            "           1       0.74      0.29      0.42      6041\n",
            "\n",
            "    accuracy                           0.68     15455\n",
            "   macro avg       0.70      0.61      0.60     15455\n",
            "weighted avg       0.70      0.68      0.64     15455\n",
            "\n",
            "Accuracy is 0.6827563895179554\n",
            "AUC is 0.6131098283955607\n",
            "Kappa score is 0.25348444901481115\n",
            "F1-Score is 0.4201064458900059\n"
          ]
        }
      ],
      "source": [
        "model = GaussianNB()\n",
        "model.fit(x_train, y_train)\n",
        "y_predict = model.predict(x_test)\n",
        "\n",
        "print(metrics.classification_report(y_test, y_predict))\n",
        "fpr,tpr,_ =metrics.roc_curve(y_test, y_predict)\n",
        "aucmetric=metrics.auc(fpr,tpr)\n",
        "print('Accuracy is {}'.format(metrics.accuracy_score(y_test, y_predict)))\n",
        "print('AUC is {}'.format(aucmetric))\n",
        "print('Kappa score is {}'.format(metrics.cohen_kappa_score(y_test,y_predict)))\n",
        "print('F1-Score is {}'.format(metrics.f1_score(y_test,y_predict)))"
      ]
    },
    {
      "cell_type": "markdown",
      "metadata": {
        "id": "t2itaRHbtmcB"
      },
      "source": [
        "### DT"
      ]
    },
    {
      "cell_type": "code",
      "execution_count": null,
      "metadata": {
        "id": "xWH47qbBtmcB"
      },
      "outputs": [],
      "source": [
        "from sklearn.tree import DecisionTreeClassifier"
      ]
    },
    {
      "cell_type": "code",
      "execution_count": null,
      "metadata": {
        "id": "yvY2gxsetmcB"
      },
      "outputs": [],
      "source": [
        "from sklearn.model_selection import GridSearchCV"
      ]
    },
    {
      "cell_type": "code",
      "execution_count": null,
      "metadata": {
        "colab": {
          "base_uri": "https://localhost:8080/"
        },
        "id": "8PngkNhltmcB",
        "outputId": "aa79dd4c-e76f-466d-9e09-83656d320137"
      },
      "outputs": [
        {
          "output_type": "execute_result",
          "data": {
            "text/plain": [
              "GridSearchCV(cv=3, estimator=DecisionTreeClassifier(max_depth=9),\n",
              "             param_grid={'max_leaf_nodes': array([10, 11, 12, 13, 14, 15, 16, 17, 18, 19, 20]),\n",
              "                         'min_samples_leaf': array([1, 2, 3, 4, 5])})"
            ]
          },
          "metadata": {},
          "execution_count": 37
        }
      ],
      "source": [
        "dt=DecisionTreeClassifier(criterion='gini',max_depth=9)\n",
        "grid = {'max_leaf_nodes':np.arange(10,21),'min_samples_leaf':np.arange(1,6)}\n",
        "gridmodel=GridSearchCV(dt,grid,cv=3)\n",
        "gridmodel.fit(x_train,y_train)"
      ]
    },
    {
      "cell_type": "code",
      "execution_count": null,
      "metadata": {
        "colab": {
          "base_uri": "https://localhost:8080/"
        },
        "id": "tIV2LVzytmcB",
        "outputId": "4a17bcc4-4e3b-405b-8b78-901f3df2fe4c"
      },
      "outputs": [
        {
          "output_type": "execute_result",
          "data": {
            "text/plain": [
              "{'max_leaf_nodes': 19, 'min_samples_leaf': 1}"
            ]
          },
          "metadata": {},
          "execution_count": 38
        }
      ],
      "source": [
        "gridmodel.best_params_"
      ]
    },
    {
      "cell_type": "code",
      "execution_count": null,
      "metadata": {
        "colab": {
          "base_uri": "https://localhost:8080/"
        },
        "id": "LUR-SR5FtmcC",
        "outputId": "484f691b-931d-4ede-ed2c-d625b0491ece"
      },
      "outputs": [
        {
          "output_type": "stream",
          "name": "stdout",
          "text": [
            "              precision    recall  f1-score   support\n",
            "\n",
            "           0       0.84      0.87      0.85      9414\n",
            "           1       0.79      0.73      0.76      6041\n",
            "\n",
            "    accuracy                           0.82     15455\n",
            "   macro avg       0.81      0.80      0.81     15455\n",
            "weighted avg       0.82      0.82      0.82     15455\n",
            "\n",
            "Accuracy is 0.8176641863474604\n",
            "AUC is 0.8025841545135927\n",
            "Kappa score is 0.6124698424603174\n",
            "F1-Score is 0.7587328767123288\n"
          ]
        }
      ],
      "source": [
        "model = DecisionTreeClassifier(criterion='gini',max_depth=9,max_leaf_nodes=17,min_samples_leaf=1)\n",
        "model.fit(x_train, y_train)\n",
        "y_predict = model.predict(x_test)\n",
        "\n",
        "print(metrics.classification_report(y_test, y_predict))\n",
        "fpr,tpr,_ =metrics.roc_curve(y_test, y_predict)\n",
        "aucmetric=metrics.auc(fpr,tpr)\n",
        "print('Accuracy is {}'.format(metrics.accuracy_score(y_test, y_predict)))\n",
        "print('AUC is {}'.format(aucmetric))\n",
        "print('Kappa score is {}'.format(metrics.cohen_kappa_score(y_test,y_predict)))\n",
        "print('F1-Score is {}'.format(metrics.f1_score(y_test,y_predict)))"
      ]
    },
    {
      "cell_type": "markdown",
      "metadata": {
        "id": "yBEt1bugtmcD"
      },
      "source": [
        "### Log Reg"
      ]
    },
    {
      "cell_type": "code",
      "source": [
        "import warnings\n",
        "warnings.filterwarnings('ignore')"
      ],
      "metadata": {
        "id": "BiDwi6AFwzyL"
      },
      "execution_count": null,
      "outputs": []
    },
    {
      "cell_type": "code",
      "execution_count": null,
      "metadata": {
        "colab": {
          "base_uri": "https://localhost:8080/"
        },
        "id": "XzgFwOV6tmcD",
        "outputId": "48a07214-4141-4fb2-c003-2507da1f9bf8"
      },
      "outputs": [
        {
          "output_type": "stream",
          "name": "stdout",
          "text": [
            "Accuracy is 0.8296991264962795\n",
            "Kappa score is 0.6452251788292712\n",
            "F1-Score is 0.7869515946252226\n",
            "AUC is [0.8202336850590575, 0.8212697114077288, 0.8227281924710089, 0.8277713253613549, 0.8253530562460278]\n"
          ]
        }
      ],
      "source": [
        "from sklearn.linear_model import LogisticRegression\n",
        "lr=LogisticRegression()\n",
        "y_predict = lr.fit(x_train,y_train).predict(x_test)\n",
        "print('Accuracy is {}'.format(metrics.accuracy_score(y_test, y_predict)))\n",
        "print('Kappa score is {}'.format(metrics.cohen_kappa_score(y_test,y_predict)))\n",
        "print('F1-Score is {}'.format(metrics.f1_score(y_test,y_predict)))\n",
        "fpr,tpr,_=metrics.roc_curve(y_test,y_predict)\n",
        "print('AUC is {}'.format(aucmetric))"
      ]
    },
    {
      "cell_type": "code",
      "execution_count": null,
      "metadata": {
        "colab": {
          "base_uri": "https://localhost:8080/"
        },
        "id": "ftVx7ItjtmcD",
        "outputId": "adb40eab-57e1-4fa5-98db-fa3ed865cab0"
      },
      "outputs": [
        {
          "output_type": "stream",
          "name": "stdout",
          "text": [
            "              precision    recall  f1-score   support\n",
            "\n",
            "           0       0.87      0.85      0.86      9414\n",
            "           1       0.77      0.80      0.79      6041\n",
            "\n",
            "    accuracy                           0.83     15455\n",
            "   macro avg       0.82      0.83      0.82     15455\n",
            "weighted avg       0.83      0.83      0.83     15455\n",
            "\n",
            "[[7962 1452]\n",
            " [1180 4861]]\n"
          ]
        }
      ],
      "source": [
        "print(metrics.classification_report(y_test,y_predict))\n",
        "print(metrics.confusion_matrix(y_test,y_predict))"
      ]
    },
    {
      "cell_type": "code",
      "execution_count": null,
      "metadata": {
        "colab": {
          "base_uri": "https://localhost:8080/"
        },
        "id": "Gma8H89itmcE",
        "outputId": "eda44436-aeec-431d-b459-df6fe0bf07fc"
      },
      "outputs": [
        {
          "output_type": "execute_result",
          "data": {
            "text/plain": [
              "array([[ 4.08711203e-01,  2.82270181e-01, -4.88923769e-02,\n",
              "         7.62267456e-02,  1.32821142e-01, -5.11397332e-02,\n",
              "         2.25157906e-03,  1.44583156e-01, -7.73707797e+00,\n",
              "        -6.80082045e-01, -1.28653338e-01,  3.50513390e-01,\n",
              "         3.70736995e-01, -1.68454168e-01,  1.05735205e+00,\n",
              "         9.48756279e-01,  1.23440159e+00,  1.51111056e-01,\n",
              "        -1.01996215e-02,  3.16239928e-01,  5.78545066e-01,\n",
              "        -5.32954345e-02, -4.03482278e-01, -3.93835399e-01,\n",
              "        -3.39373265e-01, -3.24238004e-01, -7.42070723e-01,\n",
              "        -7.72153658e-01,  2.68582632e+00,  2.11399336e+00,\n",
              "         9.04615369e-01, -3.29395540e-01, -7.42222924e-01,\n",
              "        -9.44903297e-01, -1.08630754e+00, -1.33257032e+00,\n",
              "        -1.42879245e+00, -1.35446736e+00,  3.56165883e-01,\n",
              "        -1.87039026e+00, -4.84574126e-01, -5.67132911e-01,\n",
              "        -4.62517344e-01]])"
            ]
          },
          "metadata": {},
          "execution_count": 44
        }
      ],
      "source": [
        "lr.coef_"
      ]
    },
    {
      "cell_type": "code",
      "execution_count": null,
      "metadata": {
        "id": "ydvKSUXEtmcE"
      },
      "outputs": [],
      "source": [
        "xcopy=temp1.drop('Solo_Insulin',axis=1)\n",
        "ycopy=temp1['Solo_Insulin']\n",
        "num=xcopy[['number_diagnoses','time_in_hospital','num_lab_procedures', 'num_medications', 'number_outpatient',\n",
        "       'number_emergency', 'number_inpatient','Total_drugs']]\n",
        "sc=StandardScaler()\n",
        "num=pd.DataFrame(sc.fit_transform(num),columns=num.columns)\n",
        "xcopy.index=np.arange(len(xcopy))\n",
        "xcopy.drop(['number_diagnoses','time_in_hospital','num_lab_procedures', 'num_medications', 'number_outpatient',\n",
        "       'number_emergency', 'number_inpatient','Total_drugs'],axis=1,inplace=True)\n",
        "xcopy=pd.concat([xcopy,num],axis=1)\n",
        "xcopy = pd.get_dummies(xcopy)\n",
        "ycopy.index=np.arange(len(ycopy))"
      ]
    },
    {
      "cell_type": "code",
      "execution_count": null,
      "metadata": {
        "id": "nd7m6KcltmcE"
      },
      "outputs": [],
      "source": [
        "from sklearn.model_selection import KFold"
      ]
    },
    {
      "cell_type": "markdown",
      "metadata": {
        "id": "Iz-kEE79tmcE"
      },
      "source": [
        "### NB KFOLD"
      ]
    },
    {
      "cell_type": "code",
      "execution_count": null,
      "metadata": {
        "colab": {
          "base_uri": "https://localhost:8080/"
        },
        "id": "SCmnDnq4tmcF",
        "outputId": "f1052117-7d91-4243-eb2f-dedf4f71318a"
      },
      "outputs": [
        {
          "output_type": "stream",
          "name": "stdout",
          "text": [
            "Avg Accuracy of KFold NB Model is 0.699\n",
            "Avg F1-score of KFold NB Model is 0.538\n",
            "Avg Cohens Kappa Score of KFold NB Model is 0.328\n",
            "Avg AUC of KFold NB Model is 0.654\n"
          ]
        }
      ],
      "source": [
        "kfold=KFold(n_splits=5,shuffle=True,random_state=1)\n",
        "aucmetric=[]\n",
        "acc=[]\n",
        "f1=[]\n",
        "kappa=[]\n",
        "for train,test in kfold.split(xcopy,ycopy):\n",
        "    xtrain,xtest=xcopy.iloc[train,:],xcopy.iloc[test,:]\n",
        "    ytrain,ytest=ycopy.iloc[train],ycopy.iloc[test]\n",
        "    nb=GaussianNB()\n",
        "    ypred=nb.fit(xtrain,ytrain).predict(xtest)\n",
        "    acc.append(metrics.accuracy_score(ytest,ypred))\n",
        "    f1.append(metrics.f1_score(ytest,ypred))\n",
        "    kappa.append(metrics.cohen_kappa_score(ytest,ypred))\n",
        "    fpr,tpr,_=metrics.roc_curve(ytest,ypred)\n",
        "    aucmetric.append(metrics.auc(fpr,tpr))\n",
        "print('Avg Accuracy of KFold NB Model is {}'.format(round(np.mean(acc),3)))\n",
        "print('Avg F1-score of KFold NB Model is {}'.format(round(np.mean(f1),3)))\n",
        "print('Avg Cohens Kappa Score of KFold NB Model is {}'.format(round(np.mean(kappa),3)))\n",
        "print('Avg AUC of KFold NB Model is {}'.format(round(np.mean(aucmetric),3)))"
      ]
    },
    {
      "cell_type": "markdown",
      "metadata": {
        "id": "_qSuJVV0tmcF"
      },
      "source": [
        "### DT KFOLD"
      ]
    },
    {
      "cell_type": "code",
      "execution_count": null,
      "metadata": {
        "colab": {
          "base_uri": "https://localhost:8080/"
        },
        "id": "U0tAx-0itmcF",
        "outputId": "220d8186-50bb-4e98-c472-e424336006de"
      },
      "outputs": [
        {
          "output_type": "stream",
          "name": "stdout",
          "text": [
            "Avg Accuracy of KFold DT Model is 0.816\n",
            "Avg F1-score of KFold DT Model is 0.773\n",
            "Avg Cohens Kappa Score of KFold DT Model is 0.618\n",
            "Avg AUC of KFold DT Model is 0.813\n"
          ]
        }
      ],
      "source": [
        "kfold=KFold(n_splits=5,shuffle=True,random_state=1)\n",
        "aucmetric=[]\n",
        "acc=[]\n",
        "f1=[]\n",
        "kappa=[]\n",
        "for train,test in kfold.split(xcopy,ycopy):\n",
        "    xtrain,xtest=xcopy.iloc[train,:],xcopy.iloc[test,:]\n",
        "    ytrain,ytest=ycopy.iloc[train],ycopy.iloc[test]\n",
        "    dt=DecisionTreeClassifier(criterion='gini',max_depth=9,max_leaf_nodes=17,min_samples_leaf=1)\n",
        "    ypred=dt.fit(xtrain,ytrain).predict(xtest)\n",
        "    acc.append(metrics.accuracy_score(ytest,ypred))\n",
        "    f1.append(metrics.f1_score(ytest,ypred))\n",
        "    kappa.append(metrics.cohen_kappa_score(ytest,ypred))\n",
        "    fpr,tpr,_=metrics.roc_curve(ytest,ypred)\n",
        "    aucmetric.append(metrics.auc(fpr,tpr))\n",
        "print('Avg Accuracy of KFold DT Model is {}'.format(round(np.mean(acc),3)))\n",
        "print('Avg F1-score of KFold DT Model is {}'.format(round(np.mean(f1),3)))\n",
        "print('Avg Cohens Kappa Score of KFold DT Model is {}'.format(round(np.mean(kappa),3)))\n",
        "print('Avg AUC of KFold DT Model is {}'.format(round(np.mean(aucmetric),3)))"
      ]
    },
    {
      "cell_type": "markdown",
      "metadata": {
        "id": "ALTS5GfitmcG"
      },
      "source": [
        "### LOGISTIC REGRESSION KFOLD"
      ]
    },
    {
      "cell_type": "code",
      "source": [
        "import warnings\n",
        "warnings.filterwarnings('ignore')"
      ],
      "metadata": {
        "id": "MjnybY2nwloX"
      },
      "execution_count": null,
      "outputs": []
    },
    {
      "cell_type": "code",
      "execution_count": null,
      "metadata": {
        "scrolled": true,
        "colab": {
          "base_uri": "https://localhost:8080/"
        },
        "id": "9IiMBovftmcG",
        "outputId": "2f0459d4-9af0-4402-b56f-15aa714f8ac0"
      },
      "outputs": [
        {
          "output_type": "stream",
          "name": "stdout",
          "text": [
            "Avg Accuracy of KFold LR Model is 0.828\n",
            "Avg F1-score of KFold LR Model is 0.785\n",
            "Avg Cohens Kappa Score of KFold LR Model is 0.642\n",
            "Avg AUC of KFold LR Model is 0.823\n"
          ]
        }
      ],
      "source": [
        "kfold=KFold(n_splits=5,shuffle=True,random_state=1)\n",
        "aucmetric=[]\n",
        "acc=[]\n",
        "f1=[]\n",
        "kappa=[]\n",
        "for train,test in kfold.split(xcopy,ycopy):\n",
        "    xtrain,xtest=xcopy.iloc[train,:],xcopy.iloc[test,:]\n",
        "    ytrain,ytest=ycopy.iloc[train],ycopy.iloc[test]\n",
        "    lr=LogisticRegression()\n",
        "    ypred=lr.fit(xtrain,ytrain).predict(xtest)\n",
        "    acc.append(metrics.accuracy_score(ytest,ypred))\n",
        "    f1.append(metrics.f1_score(ytest,ypred))\n",
        "    kappa.append(metrics.cohen_kappa_score(ytest,ypred))\n",
        "    fpr,tpr,_=metrics.roc_curve(ytest,ypred)\n",
        "    aucmetric.append(metrics.auc(fpr,tpr))\n",
        "print('Avg Accuracy of KFold LR Model is {}'.format(round(np.mean(acc),3)))\n",
        "print('Avg F1-score of KFold LR Model is {}'.format(round(np.mean(f1),3)))\n",
        "print('Avg Cohens Kappa Score of KFold LR Model is {}'.format(round(np.mean(kappa),3)))\n",
        "print('Avg AUC of KFold LR Model is {}'.format(round(np.mean(aucmetric),3)))"
      ]
    },
    {
      "cell_type": "code",
      "execution_count": null,
      "metadata": {
        "colab": {
          "base_uri": "https://localhost:8080/",
          "height": 143
        },
        "id": "3tPtUqJktmcH",
        "outputId": "da0d0559-687a-4e61-cff7-6f8da6ea582a"
      },
      "outputs": [
        {
          "output_type": "execute_result",
          "data": {
            "text/plain": [
              "    Model  Kappa Score  F1-Score   AUC  Accuracy\n",
              "0      NB         34.8      56.3  66.6      70.4\n",
              "1      DT         62.1      77.4  81.4      81.8\n",
              "2  LogReg         64.1      78.5  82.3      82.8"
            ],
            "text/html": [
              "\n",
              "  <div id=\"df-4bcd7666-54fe-4cee-ad7b-17f17a6527cb\">\n",
              "    <div class=\"colab-df-container\">\n",
              "      <div>\n",
              "<style scoped>\n",
              "    .dataframe tbody tr th:only-of-type {\n",
              "        vertical-align: middle;\n",
              "    }\n",
              "\n",
              "    .dataframe tbody tr th {\n",
              "        vertical-align: top;\n",
              "    }\n",
              "\n",
              "    .dataframe thead th {\n",
              "        text-align: right;\n",
              "    }\n",
              "</style>\n",
              "<table border=\"1\" class=\"dataframe\">\n",
              "  <thead>\n",
              "    <tr style=\"text-align: right;\">\n",
              "      <th></th>\n",
              "      <th>Model</th>\n",
              "      <th>Kappa Score</th>\n",
              "      <th>F1-Score</th>\n",
              "      <th>AUC</th>\n",
              "      <th>Accuracy</th>\n",
              "    </tr>\n",
              "  </thead>\n",
              "  <tbody>\n",
              "    <tr>\n",
              "      <th>0</th>\n",
              "      <td>NB</td>\n",
              "      <td>34.8</td>\n",
              "      <td>56.3</td>\n",
              "      <td>66.6</td>\n",
              "      <td>70.4</td>\n",
              "    </tr>\n",
              "    <tr>\n",
              "      <th>1</th>\n",
              "      <td>DT</td>\n",
              "      <td>62.1</td>\n",
              "      <td>77.4</td>\n",
              "      <td>81.4</td>\n",
              "      <td>81.8</td>\n",
              "    </tr>\n",
              "    <tr>\n",
              "      <th>2</th>\n",
              "      <td>LogReg</td>\n",
              "      <td>64.1</td>\n",
              "      <td>78.5</td>\n",
              "      <td>82.3</td>\n",
              "      <td>82.8</td>\n",
              "    </tr>\n",
              "  </tbody>\n",
              "</table>\n",
              "</div>\n",
              "      <button class=\"colab-df-convert\" onclick=\"convertToInteractive('df-4bcd7666-54fe-4cee-ad7b-17f17a6527cb')\"\n",
              "              title=\"Convert this dataframe to an interactive table.\"\n",
              "              style=\"display:none;\">\n",
              "        \n",
              "  <svg xmlns=\"http://www.w3.org/2000/svg\" height=\"24px\"viewBox=\"0 0 24 24\"\n",
              "       width=\"24px\">\n",
              "    <path d=\"M0 0h24v24H0V0z\" fill=\"none\"/>\n",
              "    <path d=\"M18.56 5.44l.94 2.06.94-2.06 2.06-.94-2.06-.94-.94-2.06-.94 2.06-2.06.94zm-11 1L8.5 8.5l.94-2.06 2.06-.94-2.06-.94L8.5 2.5l-.94 2.06-2.06.94zm10 10l.94 2.06.94-2.06 2.06-.94-2.06-.94-.94-2.06-.94 2.06-2.06.94z\"/><path d=\"M17.41 7.96l-1.37-1.37c-.4-.4-.92-.59-1.43-.59-.52 0-1.04.2-1.43.59L10.3 9.45l-7.72 7.72c-.78.78-.78 2.05 0 2.83L4 21.41c.39.39.9.59 1.41.59.51 0 1.02-.2 1.41-.59l7.78-7.78 2.81-2.81c.8-.78.8-2.07 0-2.86zM5.41 20L4 18.59l7.72-7.72 1.47 1.35L5.41 20z\"/>\n",
              "  </svg>\n",
              "      </button>\n",
              "      \n",
              "  <style>\n",
              "    .colab-df-container {\n",
              "      display:flex;\n",
              "      flex-wrap:wrap;\n",
              "      gap: 12px;\n",
              "    }\n",
              "\n",
              "    .colab-df-convert {\n",
              "      background-color: #E8F0FE;\n",
              "      border: none;\n",
              "      border-radius: 50%;\n",
              "      cursor: pointer;\n",
              "      display: none;\n",
              "      fill: #1967D2;\n",
              "      height: 32px;\n",
              "      padding: 0 0 0 0;\n",
              "      width: 32px;\n",
              "    }\n",
              "\n",
              "    .colab-df-convert:hover {\n",
              "      background-color: #E2EBFA;\n",
              "      box-shadow: 0px 1px 2px rgba(60, 64, 67, 0.3), 0px 1px 3px 1px rgba(60, 64, 67, 0.15);\n",
              "      fill: #174EA6;\n",
              "    }\n",
              "\n",
              "    [theme=dark] .colab-df-convert {\n",
              "      background-color: #3B4455;\n",
              "      fill: #D2E3FC;\n",
              "    }\n",
              "\n",
              "    [theme=dark] .colab-df-convert:hover {\n",
              "      background-color: #434B5C;\n",
              "      box-shadow: 0px 1px 3px 1px rgba(0, 0, 0, 0.15);\n",
              "      filter: drop-shadow(0px 1px 2px rgba(0, 0, 0, 0.3));\n",
              "      fill: #FFFFFF;\n",
              "    }\n",
              "  </style>\n",
              "\n",
              "      <script>\n",
              "        const buttonEl =\n",
              "          document.querySelector('#df-4bcd7666-54fe-4cee-ad7b-17f17a6527cb button.colab-df-convert');\n",
              "        buttonEl.style.display =\n",
              "          google.colab.kernel.accessAllowed ? 'block' : 'none';\n",
              "\n",
              "        async function convertToInteractive(key) {\n",
              "          const element = document.querySelector('#df-4bcd7666-54fe-4cee-ad7b-17f17a6527cb');\n",
              "          const dataTable =\n",
              "            await google.colab.kernel.invokeFunction('convertToInteractive',\n",
              "                                                     [key], {});\n",
              "          if (!dataTable) return;\n",
              "\n",
              "          const docLinkHtml = 'Like what you see? Visit the ' +\n",
              "            '<a target=\"_blank\" href=https://colab.research.google.com/notebooks/data_table.ipynb>data table notebook</a>'\n",
              "            + ' to learn more about interactive tables.';\n",
              "          element.innerHTML = '';\n",
              "          dataTable['output_type'] = 'display_data';\n",
              "          await google.colab.output.renderOutput(dataTable, element);\n",
              "          const docLink = document.createElement('div');\n",
              "          docLink.innerHTML = docLinkHtml;\n",
              "          element.appendChild(docLink);\n",
              "        }\n",
              "      </script>\n",
              "    </div>\n",
              "  </div>\n",
              "  "
            ]
          },
          "metadata": {},
          "execution_count": 53
        }
      ],
      "source": [
        "pd.DataFrame([['NB',34.8,56.3,66.6,70.4],['DT',62.1,77.4,81.4,81.8],['LogReg',64.1,78.5,82.3,82.8]],columns=['Model','Kappa Score','F1-Score','AUC','Accuracy'])"
      ]
    },
    {
      "cell_type": "code",
      "execution_count": null,
      "metadata": {
        "collapsed": true,
        "colab": {
          "base_uri": "https://localhost:8080/"
        },
        "id": "onD4JzDEtmcH",
        "outputId": "fd0698c3-f8d6-48fa-878b-f36ccc9aff9a"
      },
      "outputs": [
        {
          "output_type": "execute_result",
          "data": {
            "text/plain": [
              "number_diagnoses               0\n",
              "admission_type_id           7845\n",
              "discharge_disposition_id    3050\n",
              "admission_source_id         5392\n",
              "time_in_hospital               0\n",
              "race                           0\n",
              "gender                         0\n",
              "age                            0\n",
              "num_lab_procedures             0\n",
              "num_medications                0\n",
              "number_outpatient              0\n",
              "number_emergency               0\n",
              "number_inpatient               0\n",
              "change                         0\n",
              "readmitted                     0\n",
              "Total_drugs                    0\n",
              "Solo_Insulin                   0\n",
              "diagnosis                      0\n",
              "dtype: int64"
            ]
          },
          "metadata": {},
          "execution_count": 52
        }
      ],
      "source": [
        "temp1.isnull().sum()"
      ]
    }
  ],
  "metadata": {
    "kernelspec": {
      "display_name": "Python 3",
      "language": "python",
      "name": "python3"
    },
    "language_info": {
      "codemirror_mode": {
        "name": "ipython",
        "version": 3
      },
      "file_extension": ".py",
      "mimetype": "text/x-python",
      "name": "python",
      "nbconvert_exporter": "python",
      "pygments_lexer": "ipython3",
      "version": "3.7.1"
    },
    "colab": {
      "name": "Health data.ipynb",
      "provenance": []
    }
  },
  "nbformat": 4,
  "nbformat_minor": 0
}