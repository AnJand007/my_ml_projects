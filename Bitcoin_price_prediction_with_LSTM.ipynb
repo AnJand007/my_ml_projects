{
  "nbformat": 4,
  "nbformat_minor": 5,
  "metadata": {
    "kernelspec": {
      "display_name": "Python 3",
      "language": "python",
      "name": "python3"
    },
    "language_info": {
      "codemirror_mode": {
        "name": "ipython",
        "version": 3
      },
      "file_extension": ".py",
      "mimetype": "text/x-python",
      "name": "python",
      "nbconvert_exporter": "python",
      "pygments_lexer": "ipython3",
      "version": "3.8.8"
    },
    "papermill": {
      "default_parameters": {},
      "duration": 155.774638,
      "end_time": "2021-11-09T08:24:56.343239",
      "environment_variables": {},
      "exception": null,
      "input_path": "__notebook__.ipynb",
      "output_path": "__notebook__.ipynb",
      "parameters": {},
      "start_time": "2021-11-09T08:22:20.568601",
      "version": "2.3.3"
    },
    "colab": {
      "name": "Bitcoin price prediction with LSTM.ipynb",
      "provenance": []
    }
  },
  "cells": [
    {
      "cell_type": "code",
      "metadata": {
        "execution": {
          "iopub.execute_input": "2021-11-09T08:22:29.385315Z",
          "iopub.status.busy": "2021-11-09T08:22:29.384708Z",
          "iopub.status.idle": "2021-11-09T08:22:37.325011Z",
          "shell.execute_reply": "2021-11-09T08:22:37.325524Z",
          "shell.execute_reply.started": "2021-11-09T08:11:07.476205Z"
        },
        "papermill": {
          "duration": 7.986193,
          "end_time": "2021-11-09T08:22:37.325835",
          "exception": false,
          "start_time": "2021-11-09T08:22:29.339642",
          "status": "completed"
        },
        "tags": [],
        "id": "94bd2b0c"
      },
      "source": [
        "import warnings\n",
        "warnings.filterwarnings('ignore')\n",
        "import os\n",
        "import pandas as pd\n",
        "import numpy as np\n",
        "import math\n",
        "import datetime as dt\n",
        "import matplotlib.pyplot as plt\n",
        "\n",
        "from sklearn.metrics import mean_squared_error, mean_absolute_error, explained_variance_score, r2_score \n",
        "from sklearn.metrics import mean_poisson_deviance, mean_gamma_deviance, accuracy_score\n",
        "from sklearn.preprocessing import MinMaxScaler\n",
        "\n",
        "from itertools import product\n",
        "import statsmodels.api as sm\n",
        "\n",
        "import tensorflow as tf\n",
        "\n",
        "from tensorflow.keras.models import Sequential\n",
        "from tensorflow.keras.layers import Dense, Dropout\n",
        "from tensorflow.keras.layers import LSTM\n",
        "\n",
        "from itertools import cycle\n",
        "import plotly.offline as py\n",
        "import plotly.graph_objects as go\n",
        "import plotly.express as px\n",
        "from plotly.subplots import make_subplots\n",
        "\n",
        "plt.style.use('seaborn-darkgrid')"
      ],
      "id": "94bd2b0c",
      "execution_count": null,
      "outputs": []
    },
    {
      "cell_type": "markdown",
      "metadata": {
        "papermill": {
          "duration": 0.035769,
          "end_time": "2021-11-09T08:22:37.397747",
          "exception": false,
          "start_time": "2021-11-09T08:22:37.361978",
          "status": "completed"
        },
        "tags": [],
        "id": "550149fd"
      },
      "source": [
        "# Time series are transformed into supervisory issues."
      ],
      "id": "550149fd"
    },
    {
      "cell_type": "code",
      "metadata": {
        "execution": {
          "iopub.execute_input": "2021-11-09T08:22:37.474046Z",
          "iopub.status.busy": "2021-11-09T08:22:37.473162Z",
          "iopub.status.idle": "2021-11-09T08:22:43.282686Z",
          "shell.execute_reply": "2021-11-09T08:22:43.283134Z",
          "shell.execute_reply.started": "2021-11-09T07:52:07.794604Z"
        },
        "papermill": {
          "duration": 5.849088,
          "end_time": "2021-11-09T08:22:43.283293",
          "exception": false,
          "start_time": "2021-11-09T08:22:37.434205",
          "status": "completed"
        },
        "tags": [],
        "id": "300b773c",
        "colab": {
          "base_uri": "https://localhost:8080/",
          "height": 206
        },
        "outputId": "8c3ead28-0280-4ca1-9231-d08c81abd070"
      },
      "source": [
        "root_path = '/content/BTC15_21.csv'\n",
        "btc_input_df = pd.read_csv(root_path)\n",
        "btc_input_df.tail()"
      ],
      "id": "300b773c",
      "execution_count": null,
      "outputs": [
        {
          "output_type": "execute_result",
          "data": {
            "text/html": [
              "<div>\n",
              "<style scoped>\n",
              "    .dataframe tbody tr th:only-of-type {\n",
              "        vertical-align: middle;\n",
              "    }\n",
              "\n",
              "    .dataframe tbody tr th {\n",
              "        vertical-align: top;\n",
              "    }\n",
              "\n",
              "    .dataframe thead th {\n",
              "        text-align: right;\n",
              "    }\n",
              "</style>\n",
              "<table border=\"1\" class=\"dataframe\">\n",
              "  <thead>\n",
              "    <tr style=\"text-align: right;\">\n",
              "      <th></th>\n",
              "      <th>time</th>\n",
              "      <th>low</th>\n",
              "      <th>high</th>\n",
              "      <th>open</th>\n",
              "      <th>close</th>\n",
              "      <th>volume</th>\n",
              "    </tr>\n",
              "  </thead>\n",
              "  <tbody>\n",
              "    <tr>\n",
              "      <th>3113271</th>\n",
              "      <td>2015-10-27 00:04:00</td>\n",
              "      <td>287.07</td>\n",
              "      <td>287.07</td>\n",
              "      <td>287.07</td>\n",
              "      <td>287.07</td>\n",
              "      <td>0.08610</td>\n",
              "    </tr>\n",
              "    <tr>\n",
              "      <th>3113272</th>\n",
              "      <td>2015-10-27 00:03:00</td>\n",
              "      <td>287.08</td>\n",
              "      <td>287.09</td>\n",
              "      <td>287.08</td>\n",
              "      <td>287.09</td>\n",
              "      <td>0.55440</td>\n",
              "    </tr>\n",
              "    <tr>\n",
              "      <th>3113273</th>\n",
              "      <td>2015-10-27 00:02:00</td>\n",
              "      <td>286.89</td>\n",
              "      <td>287.10</td>\n",
              "      <td>287.10</td>\n",
              "      <td>286.89</td>\n",
              "      <td>72.40320</td>\n",
              "    </tr>\n",
              "    <tr>\n",
              "      <th>3113274</th>\n",
              "      <td>2015-10-27 00:01:00</td>\n",
              "      <td>287.09</td>\n",
              "      <td>287.09</td>\n",
              "      <td>287.09</td>\n",
              "      <td>287.09</td>\n",
              "      <td>0.82276</td>\n",
              "    </tr>\n",
              "    <tr>\n",
              "      <th>3113275</th>\n",
              "      <td>2015-10-27 00:00:00</td>\n",
              "      <td>287.10</td>\n",
              "      <td>287.10</td>\n",
              "      <td>287.10</td>\n",
              "      <td>287.10</td>\n",
              "      <td>0.53620</td>\n",
              "    </tr>\n",
              "  </tbody>\n",
              "</table>\n",
              "</div>"
            ],
            "text/plain": [
              "                        time     low    high    open   close    volume\n",
              "3113271  2015-10-27 00:04:00  287.07  287.07  287.07  287.07   0.08610\n",
              "3113272  2015-10-27 00:03:00  287.08  287.09  287.08  287.09   0.55440\n",
              "3113273  2015-10-27 00:02:00  286.89  287.10  287.10  286.89  72.40320\n",
              "3113274  2015-10-27 00:01:00  287.09  287.09  287.09  287.09   0.82276\n",
              "3113275  2015-10-27 00:00:00  287.10  287.10  287.10  287.10   0.53620"
            ]
          },
          "metadata": {},
          "execution_count": 2
        }
      ]
    },
    {
      "cell_type": "code",
      "metadata": {
        "execution": {
          "iopub.execute_input": "2021-11-09T08:22:43.362263Z",
          "iopub.status.busy": "2021-11-09T08:22:43.361494Z",
          "iopub.status.idle": "2021-11-09T08:22:43.365135Z",
          "shell.execute_reply": "2021-11-09T08:22:43.364507Z",
          "shell.execute_reply.started": "2021-11-09T07:52:13.797881Z"
        },
        "papermill": {
          "duration": 0.04578,
          "end_time": "2021-11-09T08:22:43.365263",
          "exception": false,
          "start_time": "2021-11-09T08:22:43.319483",
          "status": "completed"
        },
        "tags": [],
        "id": "afda0fee",
        "colab": {
          "base_uri": "https://localhost:8080/"
        },
        "outputId": "baff977f-20d5-41a1-d62b-40f477ccc857"
      },
      "source": [
        "btc_input_df.shape"
      ],
      "id": "afda0fee",
      "execution_count": null,
      "outputs": [
        {
          "output_type": "execute_result",
          "data": {
            "text/plain": [
              "(3113276, 6)"
            ]
          },
          "metadata": {},
          "execution_count": 3
        }
      ]
    },
    {
      "cell_type": "code",
      "metadata": {
        "execution": {
          "iopub.execute_input": "2021-11-09T08:22:43.498535Z",
          "iopub.status.busy": "2021-11-09T08:22:43.497364Z",
          "iopub.status.idle": "2021-11-09T08:22:43.958668Z",
          "shell.execute_reply": "2021-11-09T08:22:43.958124Z",
          "shell.execute_reply.started": "2021-11-09T07:52:13.806232Z"
        },
        "papermill": {
          "duration": 0.557005,
          "end_time": "2021-11-09T08:22:43.958818",
          "exception": false,
          "start_time": "2021-11-09T08:22:43.401813",
          "status": "completed"
        },
        "tags": [],
        "id": "8303d1bf",
        "colab": {
          "base_uri": "https://localhost:8080/",
          "height": 300
        },
        "outputId": "c77d6431-37d6-4518-98ca-b808ab46dfdb"
      },
      "source": [
        "btc_input_df.describe()"
      ],
      "id": "8303d1bf",
      "execution_count": null,
      "outputs": [
        {
          "output_type": "execute_result",
          "data": {
            "text/html": [
              "<div>\n",
              "<style scoped>\n",
              "    .dataframe tbody tr th:only-of-type {\n",
              "        vertical-align: middle;\n",
              "    }\n",
              "\n",
              "    .dataframe tbody tr th {\n",
              "        vertical-align: top;\n",
              "    }\n",
              "\n",
              "    .dataframe thead th {\n",
              "        text-align: right;\n",
              "    }\n",
              "</style>\n",
              "<table border=\"1\" class=\"dataframe\">\n",
              "  <thead>\n",
              "    <tr style=\"text-align: right;\">\n",
              "      <th></th>\n",
              "      <th>low</th>\n",
              "      <th>high</th>\n",
              "      <th>open</th>\n",
              "      <th>close</th>\n",
              "      <th>volume</th>\n",
              "    </tr>\n",
              "  </thead>\n",
              "  <tbody>\n",
              "    <tr>\n",
              "      <th>count</th>\n",
              "      <td>3.113276e+06</td>\n",
              "      <td>3.113276e+06</td>\n",
              "      <td>3.113276e+06</td>\n",
              "      <td>3.113276e+06</td>\n",
              "      <td>3.113276e+06</td>\n",
              "    </tr>\n",
              "    <tr>\n",
              "      <th>mean</th>\n",
              "      <td>1.152825e+04</td>\n",
              "      <td>1.154230e+04</td>\n",
              "      <td>1.153537e+04</td>\n",
              "      <td>1.153541e+04</td>\n",
              "      <td>9.689568e+00</td>\n",
              "    </tr>\n",
              "    <tr>\n",
              "      <th>std</th>\n",
              "      <td>1.490292e+04</td>\n",
              "      <td>1.492446e+04</td>\n",
              "      <td>1.491374e+04</td>\n",
              "      <td>1.491379e+04</td>\n",
              "      <td>2.239875e+01</td>\n",
              "    </tr>\n",
              "    <tr>\n",
              "      <th>min</th>\n",
              "      <td>6.000000e-02</td>\n",
              "      <td>6.000000e-02</td>\n",
              "      <td>6.000000e-02</td>\n",
              "      <td>6.000000e-02</td>\n",
              "      <td>1.000000e-08</td>\n",
              "    </tr>\n",
              "    <tr>\n",
              "      <th>25%</th>\n",
              "      <td>1.849558e+03</td>\n",
              "      <td>1.850000e+03</td>\n",
              "      <td>1.849925e+03</td>\n",
              "      <td>1.849980e+03</td>\n",
              "      <td>1.331197e+00</td>\n",
              "    </tr>\n",
              "    <tr>\n",
              "      <th>50%</th>\n",
              "      <td>7.099990e+03</td>\n",
              "      <td>7.105000e+03</td>\n",
              "      <td>7.102045e+03</td>\n",
              "      <td>7.102060e+03</td>\n",
              "      <td>3.707298e+00</td>\n",
              "    </tr>\n",
              "    <tr>\n",
              "      <th>75%</th>\n",
              "      <td>1.067558e+04</td>\n",
              "      <td>1.068550e+04</td>\n",
              "      <td>1.068027e+04</td>\n",
              "      <td>1.068040e+04</td>\n",
              "      <td>9.761575e+00</td>\n",
              "    </tr>\n",
              "    <tr>\n",
              "      <th>max</th>\n",
              "      <td>6.690000e+04</td>\n",
              "      <td>6.699900e+04</td>\n",
              "      <td>6.694122e+04</td>\n",
              "      <td>6.694122e+04</td>\n",
              "      <td>1.549613e+03</td>\n",
              "    </tr>\n",
              "  </tbody>\n",
              "</table>\n",
              "</div>"
            ],
            "text/plain": [
              "                low          high          open         close        volume\n",
              "count  3.113276e+06  3.113276e+06  3.113276e+06  3.113276e+06  3.113276e+06\n",
              "mean   1.152825e+04  1.154230e+04  1.153537e+04  1.153541e+04  9.689568e+00\n",
              "std    1.490292e+04  1.492446e+04  1.491374e+04  1.491379e+04  2.239875e+01\n",
              "min    6.000000e-02  6.000000e-02  6.000000e-02  6.000000e-02  1.000000e-08\n",
              "25%    1.849558e+03  1.850000e+03  1.849925e+03  1.849980e+03  1.331197e+00\n",
              "50%    7.099990e+03  7.105000e+03  7.102045e+03  7.102060e+03  3.707298e+00\n",
              "75%    1.067558e+04  1.068550e+04  1.068027e+04  1.068040e+04  9.761575e+00\n",
              "max    6.690000e+04  6.699900e+04  6.694122e+04  6.694122e+04  1.549613e+03"
            ]
          },
          "metadata": {},
          "execution_count": 4
        }
      ]
    },
    {
      "cell_type": "code",
      "metadata": {
        "execution": {
          "iopub.execute_input": "2021-11-09T08:22:44.045891Z",
          "iopub.status.busy": "2021-11-09T08:22:44.045249Z",
          "iopub.status.idle": "2021-11-09T08:22:44.047768Z",
          "shell.execute_reply": "2021-11-09T08:22:44.048399Z",
          "shell.execute_reply.started": "2021-11-09T07:52:14.369319Z"
        },
        "papermill": {
          "duration": 0.051665,
          "end_time": "2021-11-09T08:22:44.048558",
          "exception": false,
          "start_time": "2021-11-09T08:22:43.996893",
          "status": "completed"
        },
        "tags": [],
        "id": "3c03cff9",
        "colab": {
          "base_uri": "https://localhost:8080/"
        },
        "outputId": "cf5ca8e0-dcfe-4e50-aa37-e204cb8fdde1"
      },
      "source": [
        "btc_input_df.info()"
      ],
      "id": "3c03cff9",
      "execution_count": null,
      "outputs": [
        {
          "output_type": "stream",
          "name": "stdout",
          "text": [
            "<class 'pandas.core.frame.DataFrame'>\n",
            "RangeIndex: 3113276 entries, 0 to 3113275\n",
            "Data columns (total 6 columns):\n",
            " #   Column  Dtype  \n",
            "---  ------  -----  \n",
            " 0   time    object \n",
            " 1   low     float64\n",
            " 2   high    float64\n",
            " 3   open    float64\n",
            " 4   close   float64\n",
            " 5   volume  float64\n",
            "dtypes: float64(5), object(1)\n",
            "memory usage: 142.5+ MB\n"
          ]
        }
      ]
    },
    {
      "cell_type": "markdown",
      "metadata": {
        "papermill": {
          "duration": 0.038031,
          "end_time": "2021-11-09T08:22:44.124503",
          "exception": false,
          "start_time": "2021-11-09T08:22:44.086472",
          "status": "completed"
        },
        "tags": [],
        "id": "a1d0aafa"
      },
      "source": [
        "# Convert the 'time' column from the object dtype to the datetime dtype.\n",
        "\n"
      ],
      "id": "a1d0aafa"
    },
    {
      "cell_type": "code",
      "metadata": {
        "execution": {
          "iopub.execute_input": "2021-11-09T08:22:45.211367Z",
          "iopub.status.busy": "2021-11-09T08:22:45.209919Z",
          "iopub.status.idle": "2021-11-09T08:22:45.259856Z",
          "shell.execute_reply": "2021-11-09T08:22:45.260322Z",
          "shell.execute_reply.started": "2021-11-09T07:52:14.385146Z"
        },
        "papermill": {
          "duration": 1.099083,
          "end_time": "2021-11-09T08:22:45.260495",
          "exception": false,
          "start_time": "2021-11-09T08:22:44.161412",
          "status": "completed"
        },
        "tags": [],
        "id": "e67a49cb"
      },
      "source": [
        "btc_input_df_datetype = btc_input_df.astype({'time': 'datetime64'})"
      ],
      "id": "e67a49cb",
      "execution_count": null,
      "outputs": []
    },
    {
      "cell_type": "code",
      "metadata": {
        "execution": {
          "iopub.execute_input": "2021-11-09T08:22:45.339999Z",
          "iopub.status.busy": "2021-11-09T08:22:45.339448Z",
          "iopub.status.idle": "2021-11-09T08:22:45.348118Z",
          "shell.execute_reply": "2021-11-09T08:22:45.348933Z",
          "shell.execute_reply.started": "2021-11-09T07:52:15.485196Z"
        },
        "papermill": {
          "duration": 0.050616,
          "end_time": "2021-11-09T08:22:45.349139",
          "exception": false,
          "start_time": "2021-11-09T08:22:45.298523",
          "status": "completed"
        },
        "tags": [],
        "id": "33361baf",
        "colab": {
          "base_uri": "https://localhost:8080/"
        },
        "outputId": "2c0019e4-8944-49ef-ac13-5a408962d8c5"
      },
      "source": [
        "btc_input_df_datetype.info()"
      ],
      "id": "33361baf",
      "execution_count": null,
      "outputs": [
        {
          "output_type": "stream",
          "name": "stdout",
          "text": [
            "<class 'pandas.core.frame.DataFrame'>\n",
            "RangeIndex: 3113276 entries, 0 to 3113275\n",
            "Data columns (total 6 columns):\n",
            " #   Column  Dtype         \n",
            "---  ------  -----         \n",
            " 0   time    datetime64[ns]\n",
            " 1   low     float64       \n",
            " 2   high    float64       \n",
            " 3   open    float64       \n",
            " 4   close   float64       \n",
            " 5   volume  float64       \n",
            "dtypes: datetime64[ns](1), float64(5)\n",
            "memory usage: 142.5 MB\n"
          ]
        }
      ]
    },
    {
      "cell_type": "code",
      "metadata": {
        "execution": {
          "iopub.execute_input": "2021-11-09T08:22:45.481389Z",
          "iopub.status.busy": "2021-11-09T08:22:45.480796Z",
          "iopub.status.idle": "2021-11-09T08:22:45.587635Z",
          "shell.execute_reply": "2021-11-09T08:22:45.586987Z",
          "shell.execute_reply.started": "2021-11-09T07:52:15.499397Z"
        },
        "papermill": {
          "duration": 0.147312,
          "end_time": "2021-11-09T08:22:45.587809",
          "exception": false,
          "start_time": "2021-11-09T08:22:45.440497",
          "status": "completed"
        },
        "tags": [],
        "id": "b0b7eb8c",
        "colab": {
          "base_uri": "https://localhost:8080/"
        },
        "outputId": "46dcfc3f-d4c5-43ff-bb0f-ec75632efb74"
      },
      "source": [
        "print('Null Values:',btc_input_df_datetype.isnull().values.sum())\n",
        "print('If any NA values:', btc_input_df_datetype.isnull().values.any())"
      ],
      "id": "b0b7eb8c",
      "execution_count": null,
      "outputs": [
        {
          "output_type": "stream",
          "name": "stdout",
          "text": [
            "Null Values: 0\n",
            "If any NA values: False\n"
          ]
        }
      ]
    },
    {
      "cell_type": "code",
      "metadata": {
        "execution": {
          "iopub.execute_input": "2021-11-09T08:22:45.677061Z",
          "iopub.status.busy": "2021-11-09T08:22:45.676410Z",
          "iopub.status.idle": "2021-11-09T08:22:45.678882Z",
          "shell.execute_reply": "2021-11-09T08:22:45.679368Z",
          "shell.execute_reply.started": "2021-11-09T07:52:15.615682Z"
        },
        "papermill": {
          "duration": 0.053201,
          "end_time": "2021-11-09T08:22:45.679512",
          "exception": false,
          "start_time": "2021-11-09T08:22:45.626311",
          "status": "completed"
        },
        "tags": [],
        "id": "79a0421f",
        "colab": {
          "base_uri": "https://localhost:8080/",
          "height": 206
        },
        "outputId": "044bac53-6caa-4869-ffd2-d33297ac0c7b"
      },
      "source": [
        "btc_input_df_datetype.tail()"
      ],
      "id": "79a0421f",
      "execution_count": null,
      "outputs": [
        {
          "output_type": "execute_result",
          "data": {
            "text/html": [
              "<div>\n",
              "<style scoped>\n",
              "    .dataframe tbody tr th:only-of-type {\n",
              "        vertical-align: middle;\n",
              "    }\n",
              "\n",
              "    .dataframe tbody tr th {\n",
              "        vertical-align: top;\n",
              "    }\n",
              "\n",
              "    .dataframe thead th {\n",
              "        text-align: right;\n",
              "    }\n",
              "</style>\n",
              "<table border=\"1\" class=\"dataframe\">\n",
              "  <thead>\n",
              "    <tr style=\"text-align: right;\">\n",
              "      <th></th>\n",
              "      <th>time</th>\n",
              "      <th>low</th>\n",
              "      <th>high</th>\n",
              "      <th>open</th>\n",
              "      <th>close</th>\n",
              "      <th>volume</th>\n",
              "    </tr>\n",
              "  </thead>\n",
              "  <tbody>\n",
              "    <tr>\n",
              "      <th>3113271</th>\n",
              "      <td>2015-10-27 00:04:00</td>\n",
              "      <td>287.07</td>\n",
              "      <td>287.07</td>\n",
              "      <td>287.07</td>\n",
              "      <td>287.07</td>\n",
              "      <td>0.08610</td>\n",
              "    </tr>\n",
              "    <tr>\n",
              "      <th>3113272</th>\n",
              "      <td>2015-10-27 00:03:00</td>\n",
              "      <td>287.08</td>\n",
              "      <td>287.09</td>\n",
              "      <td>287.08</td>\n",
              "      <td>287.09</td>\n",
              "      <td>0.55440</td>\n",
              "    </tr>\n",
              "    <tr>\n",
              "      <th>3113273</th>\n",
              "      <td>2015-10-27 00:02:00</td>\n",
              "      <td>286.89</td>\n",
              "      <td>287.10</td>\n",
              "      <td>287.10</td>\n",
              "      <td>286.89</td>\n",
              "      <td>72.40320</td>\n",
              "    </tr>\n",
              "    <tr>\n",
              "      <th>3113274</th>\n",
              "      <td>2015-10-27 00:01:00</td>\n",
              "      <td>287.09</td>\n",
              "      <td>287.09</td>\n",
              "      <td>287.09</td>\n",
              "      <td>287.09</td>\n",
              "      <td>0.82276</td>\n",
              "    </tr>\n",
              "    <tr>\n",
              "      <th>3113275</th>\n",
              "      <td>2015-10-27 00:00:00</td>\n",
              "      <td>287.10</td>\n",
              "      <td>287.10</td>\n",
              "      <td>287.10</td>\n",
              "      <td>287.10</td>\n",
              "      <td>0.53620</td>\n",
              "    </tr>\n",
              "  </tbody>\n",
              "</table>\n",
              "</div>"
            ],
            "text/plain": [
              "                       time     low    high    open   close    volume\n",
              "3113271 2015-10-27 00:04:00  287.07  287.07  287.07  287.07   0.08610\n",
              "3113272 2015-10-27 00:03:00  287.08  287.09  287.08  287.09   0.55440\n",
              "3113273 2015-10-27 00:02:00  286.89  287.10  287.10  286.89  72.40320\n",
              "3113274 2015-10-27 00:01:00  287.09  287.09  287.09  287.09   0.82276\n",
              "3113275 2015-10-27 00:00:00  287.10  287.10  287.10  287.10   0.53620"
            ]
          },
          "metadata": {},
          "execution_count": 9
        }
      ]
    },
    {
      "cell_type": "code",
      "metadata": {
        "execution": {
          "iopub.execute_input": "2021-11-09T08:22:45.761484Z",
          "iopub.status.busy": "2021-11-09T08:22:45.760894Z",
          "iopub.status.idle": "2021-11-09T08:22:45.772886Z",
          "shell.execute_reply": "2021-11-09T08:22:45.773402Z",
          "shell.execute_reply.started": "2021-11-09T07:52:15.636141Z"
        },
        "papermill": {
          "duration": 0.054771,
          "end_time": "2021-11-09T08:22:45.773558",
          "exception": false,
          "start_time": "2021-11-09T08:22:45.718787",
          "status": "completed"
        },
        "tags": [],
        "id": "dd374188",
        "colab": {
          "base_uri": "https://localhost:8080/",
          "height": 206
        },
        "outputId": "f289b95a-efe5-4530-c329-c5a30a08cd46"
      },
      "source": [
        "btc_input_df_datetype.head()"
      ],
      "id": "dd374188",
      "execution_count": null,
      "outputs": [
        {
          "output_type": "execute_result",
          "data": {
            "text/html": [
              "<div>\n",
              "<style scoped>\n",
              "    .dataframe tbody tr th:only-of-type {\n",
              "        vertical-align: middle;\n",
              "    }\n",
              "\n",
              "    .dataframe tbody tr th {\n",
              "        vertical-align: top;\n",
              "    }\n",
              "\n",
              "    .dataframe thead th {\n",
              "        text-align: right;\n",
              "    }\n",
              "</style>\n",
              "<table border=\"1\" class=\"dataframe\">\n",
              "  <thead>\n",
              "    <tr style=\"text-align: right;\">\n",
              "      <th></th>\n",
              "      <th>time</th>\n",
              "      <th>low</th>\n",
              "      <th>high</th>\n",
              "      <th>open</th>\n",
              "      <th>close</th>\n",
              "      <th>volume</th>\n",
              "    </tr>\n",
              "  </thead>\n",
              "  <tbody>\n",
              "    <tr>\n",
              "      <th>0</th>\n",
              "      <td>2021-10-30 03:00:00</td>\n",
              "      <td>61868.81</td>\n",
              "      <td>61920.00</td>\n",
              "      <td>61888.18</td>\n",
              "      <td>61919.98</td>\n",
              "      <td>2.946079</td>\n",
              "    </tr>\n",
              "    <tr>\n",
              "      <th>1</th>\n",
              "      <td>2021-10-30 02:59:00</td>\n",
              "      <td>61882.74</td>\n",
              "      <td>61912.67</td>\n",
              "      <td>61903.16</td>\n",
              "      <td>61882.74</td>\n",
              "      <td>2.942357</td>\n",
              "    </tr>\n",
              "    <tr>\n",
              "      <th>2</th>\n",
              "      <td>2021-10-30 02:58:00</td>\n",
              "      <td>61854.82</td>\n",
              "      <td>61907.96</td>\n",
              "      <td>61854.82</td>\n",
              "      <td>61903.15</td>\n",
              "      <td>3.047848</td>\n",
              "    </tr>\n",
              "    <tr>\n",
              "      <th>3</th>\n",
              "      <td>2021-10-30 02:57:00</td>\n",
              "      <td>61848.04</td>\n",
              "      <td>61883.02</td>\n",
              "      <td>61883.01</td>\n",
              "      <td>61851.39</td>\n",
              "      <td>3.381070</td>\n",
              "    </tr>\n",
              "    <tr>\n",
              "      <th>4</th>\n",
              "      <td>2021-10-30 02:56:00</td>\n",
              "      <td>61879.33</td>\n",
              "      <td>61925.42</td>\n",
              "      <td>61907.47</td>\n",
              "      <td>61882.28</td>\n",
              "      <td>5.663128</td>\n",
              "    </tr>\n",
              "  </tbody>\n",
              "</table>\n",
              "</div>"
            ],
            "text/plain": [
              "                 time       low      high      open     close    volume\n",
              "0 2021-10-30 03:00:00  61868.81  61920.00  61888.18  61919.98  2.946079\n",
              "1 2021-10-30 02:59:00  61882.74  61912.67  61903.16  61882.74  2.942357\n",
              "2 2021-10-30 02:58:00  61854.82  61907.96  61854.82  61903.15  3.047848\n",
              "3 2021-10-30 02:57:00  61848.04  61883.02  61883.01  61851.39  3.381070\n",
              "4 2021-10-30 02:56:00  61879.33  61925.42  61907.47  61882.28  5.663128"
            ]
          },
          "metadata": {},
          "execution_count": 10
        }
      ]
    },
    {
      "cell_type": "code",
      "metadata": {
        "execution": {
          "iopub.execute_input": "2021-11-09T08:22:45.855884Z",
          "iopub.status.busy": "2021-11-09T08:22:45.855251Z",
          "iopub.status.idle": "2021-11-09T08:23:07.129023Z",
          "shell.execute_reply": "2021-11-09T08:23:07.129522Z",
          "shell.execute_reply.started": "2021-11-09T07:52:15.654405Z"
        },
        "papermill": {
          "duration": 21.316539,
          "end_time": "2021-11-09T08:23:07.129743",
          "exception": false,
          "start_time": "2021-11-09T08:22:45.813204",
          "status": "completed"
        },
        "tags": [],
        "id": "369485c9",
        "colab": {
          "base_uri": "https://localhost:8080/",
          "height": 313
        },
        "outputId": "0382fe2f-0ed5-407e-9dec-729beac9546c"
      },
      "source": [
        "btc_input_df_datetype.set_index(\"time\").close.plot(figsize=(24,7), title=\"Bitcoin Weighted Price\")"
      ],
      "id": "369485c9",
      "execution_count": null,
      "outputs": [
        {
          "output_type": "execute_result",
          "data": {
            "text/plain": [
              "<matplotlib.axes._subplots.AxesSubplot at 0x7eff7eb8f290>"
            ]
          },
          "metadata": {},
          "execution_count": 11
        },
        {
          "output_type": "display_data",
          "data": {
            "image/png": "[encoded data removed]",
            "text/plain": [
              "<Figure size 1728x504 with 1 Axes>"
            ]
          },
          "metadata": {
            "needs_background": "light"
          }
        }
      ]
    },
    {
      "cell_type": "markdown",
      "metadata": {
        "papermill": {
          "duration": 0.042862,
          "end_time": "2021-11-09T08:23:07.217361",
          "exception": false,
          "start_time": "2021-11-09T08:23:07.174499",
          "status": "completed"
        },
        "tags": [],
        "id": "4f6dc06d"
      },
      "source": [
        "# Lag Plot\n",
        "\n"
      ],
      "id": "4f6dc06d"
    },
    {
      "cell_type": "code",
      "metadata": {
        "execution": {
          "iopub.execute_input": "2021-11-09T08:23:07.309860Z",
          "iopub.status.busy": "2021-11-09T08:23:07.309102Z",
          "iopub.status.idle": "2021-11-09T08:23:56.368247Z",
          "shell.execute_reply": "2021-11-09T08:23:56.368812Z",
          "shell.execute_reply.started": "2021-11-09T07:52:36.192939Z"
        },
        "papermill": {
          "duration": 49.110194,
          "end_time": "2021-11-09T08:23:56.368974",
          "exception": false,
          "start_time": "2021-11-09T08:23:07.258780",
          "status": "completed"
        },
        "tags": [],
        "id": "58326d07",
        "colab": {
          "base_uri": "https://localhost:8080/",
          "height": 584
        },
        "outputId": "6414c4a3-1308-44a6-f69f-af561f9002f6"
      },
      "source": [
        "plt.figure(figsize=(15,12))\n",
        "plt.suptitle('Lag Plots', fontsize=22)\n",
        "\n",
        "plt.subplot(3,3,1)\n",
        "pd.plotting.lag_plot(btc_input_df_datetype['close'], lag=1) #minute lag\n",
        "plt.title('1-Minute Lag')\n",
        "\n",
        "plt.subplot(3,3,2)\n",
        "pd.plotting.lag_plot(btc_input_df_datetype['close'], lag=60) #hourley lag\n",
        "plt.title('1-Hour Lag')\n",
        "\n",
        "plt.subplot(3,3,3)\n",
        "pd.plotting.lag_plot(btc_input_df_datetype['close'], lag=1440) #Daily lag\n",
        "plt.title('Daily Lag')\n",
        "\n",
        "plt.subplot(3,3,4)\n",
        "pd.plotting.lag_plot(btc_input_df_datetype['close'], lag=10080) #weekly lag\n",
        "plt.title('Weekly Lag')\n",
        "\n",
        "plt.subplot(3,3,5)\n",
        "pd.plotting.lag_plot(btc_input_df_datetype['close'], lag=43200) #month lag\n",
        "plt.title('1-Month Lag')\n",
        "\n",
        "plt.legend()\n",
        "plt.show()"
      ],
      "id": "58326d07",
      "execution_count": null,
      "outputs": [
        {
          "output_type": "stream",
          "name": "stderr",
          "text": [
            "No handles with labels found to put in legend.\n"
          ]
        },
        {
          "output_type": "display_data",
          "data": {
            "image/png": "[encoded data removed]",
            "text/plain": [
              "<Figure size 1080x864 with 5 Axes>"
            ]
          },
          "metadata": {}
        }
      ]
    },
    {
      "cell_type": "markdown",
      "metadata": {
        "papermill": {
          "duration": 0.043682,
          "end_time": "2021-11-09T08:23:56.546940",
          "exception": false,
          "start_time": "2021-11-09T08:23:56.503258",
          "status": "completed"
        },
        "tags": [],
        "id": "0fd599a6"
      },
      "source": [
        "# Getting the data ready for LSTM - pd.to datetime(unit='s) followed by groupby('date')\n"
      ],
      "id": "0fd599a6"
    },
    {
      "cell_type": "code",
      "metadata": {
        "execution": {
          "iopub.execute_input": "2021-11-09T08:23:56.639356Z",
          "iopub.status.busy": "2021-11-09T08:23:56.638765Z",
          "iopub.status.idle": "2021-11-09T08:23:58.943697Z",
          "shell.execute_reply": "2021-11-09T08:23:58.942755Z",
          "shell.execute_reply.started": "2021-11-09T07:53:25.811071Z"
        },
        "papermill": {
          "duration": 2.351959,
          "end_time": "2021-11-09T08:23:58.943895",
          "exception": false,
          "start_time": "2021-11-09T08:23:56.591936",
          "status": "completed"
        },
        "tags": [],
        "id": "29c9064d",
        "colab": {
          "base_uri": "https://localhost:8080/",
          "height": 204
        },
        "outputId": "85462a2d-20c8-489d-b5dc-11e306d51008"
      },
      "source": [
        "btc_input_df_datetype['date'] = pd.to_datetime(btc_input_df_datetype['time'],unit='s').dt.date\n",
        "\n",
        "display(btc_input_df_datetype.head())\n",
        "\n",
        "group = btc_input_df_datetype.groupby('date')\n",
        "\n",
        "btc_closing_price_groupby_date = group['close'].mean()"
      ],
      "id": "29c9064d",
      "execution_count": null,
      "outputs": [
        {
          "output_type": "display_data",
          "data": {
            "text/html": [
              "<div>\n",
              "<style scoped>\n",
              "    .dataframe tbody tr th:only-of-type {\n",
              "        vertical-align: middle;\n",
              "    }\n",
              "\n",
              "    .dataframe tbody tr th {\n",
              "        vertical-align: top;\n",
              "    }\n",
              "\n",
              "    .dataframe thead th {\n",
              "        text-align: right;\n",
              "    }\n",
              "</style>\n",
              "<table border=\"1\" class=\"dataframe\">\n",
              "  <thead>\n",
              "    <tr style=\"text-align: right;\">\n",
              "      <th></th>\n",
              "      <th>time</th>\n",
              "      <th>low</th>\n",
              "      <th>high</th>\n",
              "      <th>open</th>\n",
              "      <th>close</th>\n",
              "      <th>volume</th>\n",
              "      <th>date</th>\n",
              "    </tr>\n",
              "  </thead>\n",
              "  <tbody>\n",
              "    <tr>\n",
              "      <th>0</th>\n",
              "      <td>2021-10-30 03:00:00</td>\n",
              "      <td>61868.81</td>\n",
              "      <td>61920.00</td>\n",
              "      <td>61888.18</td>\n",
              "      <td>61919.98</td>\n",
              "      <td>2.946079</td>\n",
              "      <td>2021-10-30</td>\n",
              "    </tr>\n",
              "    <tr>\n",
              "      <th>1</th>\n",
              "      <td>2021-10-30 02:59:00</td>\n",
              "      <td>61882.74</td>\n",
              "      <td>61912.67</td>\n",
              "      <td>61903.16</td>\n",
              "      <td>61882.74</td>\n",
              "      <td>2.942357</td>\n",
              "      <td>2021-10-30</td>\n",
              "    </tr>\n",
              "    <tr>\n",
              "      <th>2</th>\n",
              "      <td>2021-10-30 02:58:00</td>\n",
              "      <td>61854.82</td>\n",
              "      <td>61907.96</td>\n",
              "      <td>61854.82</td>\n",
              "      <td>61903.15</td>\n",
              "      <td>3.047848</td>\n",
              "      <td>2021-10-30</td>\n",
              "    </tr>\n",
              "    <tr>\n",
              "      <th>3</th>\n",
              "      <td>2021-10-30 02:57:00</td>\n",
              "      <td>61848.04</td>\n",
              "      <td>61883.02</td>\n",
              "      <td>61883.01</td>\n",
              "      <td>61851.39</td>\n",
              "      <td>3.381070</td>\n",
              "      <td>2021-10-30</td>\n",
              "    </tr>\n",
              "    <tr>\n",
              "      <th>4</th>\n",
              "      <td>2021-10-30 02:56:00</td>\n",
              "      <td>61879.33</td>\n",
              "      <td>61925.42</td>\n",
              "      <td>61907.47</td>\n",
              "      <td>61882.28</td>\n",
              "      <td>5.663128</td>\n",
              "      <td>2021-10-30</td>\n",
              "    </tr>\n",
              "  </tbody>\n",
              "</table>\n",
              "</div>"
            ],
            "text/plain": [
              "                 time       low      high  ...     close    volume        date\n",
              "0 2021-10-30 03:00:00  61868.81  61920.00  ...  61919.98  2.946079  2021-10-30\n",
              "1 2021-10-30 02:59:00  61882.74  61912.67  ...  61882.74  2.942357  2021-10-30\n",
              "2 2021-10-30 02:58:00  61854.82  61907.96  ...  61903.15  3.047848  2021-10-30\n",
              "3 2021-10-30 02:57:00  61848.04  61883.02  ...  61851.39  3.381070  2021-10-30\n",
              "4 2021-10-30 02:56:00  61879.33  61925.42  ...  61882.28  5.663128  2021-10-30\n",
              "\n",
              "[5 rows x 7 columns]"
            ]
          },
          "metadata": {}
        }
      ]
    },
    {
      "cell_type": "code",
      "metadata": {
        "execution": {
          "iopub.execute_input": "2021-11-09T08:23:59.040525Z",
          "iopub.status.busy": "2021-11-09T08:23:59.039593Z",
          "iopub.status.idle": "2021-11-09T08:23:59.048614Z",
          "shell.execute_reply": "2021-11-09T08:23:59.049444Z",
          "shell.execute_reply.started": "2021-11-09T07:53:28.172949Z"
        },
        "papermill": {
          "duration": 0.058979,
          "end_time": "2021-11-09T08:23:59.049687",
          "exception": false,
          "start_time": "2021-11-09T08:23:58.990708",
          "status": "completed"
        },
        "tags": [],
        "id": "ffa1db53",
        "colab": {
          "base_uri": "https://localhost:8080/",
          "height": 238
        },
        "outputId": "71f4b6f6-6751-4ded-a774-63d4e73d79a9"
      },
      "source": [
        "display(btc_closing_price_groupby_date.head(10))\n",
        "\n",
        "print(\"Length of btc_closing_price_groupby_date :\", len(btc_closing_price_groupby_date))"
      ],
      "id": "ffa1db53",
      "execution_count": null,
      "outputs": [
        {
          "output_type": "display_data",
          "data": {
            "text/plain": [
              "date\n",
              "2015-10-27    292.887484\n",
              "2015-10-28    301.991834\n",
              "2015-10-29    310.537530\n",
              "2015-10-30    326.665808\n",
              "2015-10-31    323.877132\n",
              "2015-11-01    319.527295\n",
              "2015-11-02    339.226860\n",
              "2015-11-03    386.773759\n",
              "2015-11-04    450.035105\n",
              "2015-11-05    400.249521\n",
              "Name: close, dtype: float64"
            ]
          },
          "metadata": {}
        },
        {
          "output_type": "stream",
          "name": "stdout",
          "text": [
            "Length of btc_closing_price_groupby_date : 2196\n"
          ]
        }
      ]
    },
    {
      "cell_type": "markdown",
      "metadata": {
        "papermill": {
          "duration": 0.047744,
          "end_time": "2021-11-09T08:23:59.148324",
          "exception": false,
          "start_time": "2021-11-09T08:23:59.100580",
          "status": "completed"
        },
        "tags": [],
        "id": "4b4517fb"
      },
      "source": [
        "# Train Test Split"
      ],
      "id": "4b4517fb"
    },
    {
      "cell_type": "code",
      "metadata": {
        "execution": {
          "iopub.execute_input": "2021-11-09T08:23:59.244079Z",
          "iopub.status.busy": "2021-11-09T08:23:59.243159Z",
          "iopub.status.idle": "2021-11-09T08:23:59.248558Z",
          "shell.execute_reply": "2021-11-09T08:23:59.249109Z",
          "shell.execute_reply.started": "2021-11-09T07:53:28.184883Z"
        },
        "papermill": {
          "duration": 0.054267,
          "end_time": "2021-11-09T08:23:59.249263",
          "exception": false,
          "start_time": "2021-11-09T08:23:59.194996",
          "status": "completed"
        },
        "tags": [],
        "id": "4399592d"
      },
      "source": [
        "prediction_days = 60\n",
        "\n",
        "# Set Train data to be uplo ( Total data length - prediction_days )\n",
        "df_train= btc_closing_price_groupby_date[:len(btc_closing_price_groupby_date)-prediction_days].values.reshape(-1,1)\n",
        "\n",
        "\n",
        "# Set Test data to be the last prediction_days (or 60 days in this case)\n",
        "df_test= btc_closing_price_groupby_date[len(btc_closing_price_groupby_date)-prediction_days:].values.reshape(-1,1)"
      ],
      "id": "4399592d",
      "execution_count": null,
      "outputs": []
    },
    {
      "cell_type": "code",
      "metadata": {
        "execution": {
          "iopub.execute_input": "2021-11-09T08:23:59.343379Z",
          "iopub.status.busy": "2021-11-09T08:23:59.342454Z",
          "iopub.status.idle": "2021-11-09T08:23:59.347337Z",
          "shell.execute_reply": "2021-11-09T08:23:59.347903Z",
          "shell.execute_reply.started": "2021-11-09T07:53:28.196806Z"
        },
        "papermill": {
          "duration": 0.053552,
          "end_time": "2021-11-09T08:23:59.348062",
          "exception": false,
          "start_time": "2021-11-09T08:23:59.294510",
          "status": "completed"
        },
        "tags": [],
        "id": "85184d95",
        "colab": {
          "base_uri": "https://localhost:8080/"
        },
        "outputId": "e38633a6-9649-4374-e2ff-3f19478b6de9"
      },
      "source": [
        "df_test.shape\n"
      ],
      "id": "85184d95",
      "execution_count": null,
      "outputs": [
        {
          "output_type": "execute_result",
          "data": {
            "text/plain": [
              "(60, 1)"
            ]
          },
          "metadata": {},
          "execution_count": 21
        }
      ]
    },
    {
      "cell_type": "code",
      "metadata": {
        "execution": {
          "iopub.execute_input": "2021-11-09T08:23:59.443045Z",
          "iopub.status.busy": "2021-11-09T08:23:59.442151Z",
          "iopub.status.idle": "2021-11-09T08:23:59.712867Z",
          "shell.execute_reply": "2021-11-09T08:23:59.713366Z",
          "shell.execute_reply.started": "2021-11-09T07:53:28.211137Z"
        },
        "papermill": {
          "duration": 0.319696,
          "end_time": "2021-11-09T08:23:59.713546",
          "exception": false,
          "start_time": "2021-11-09T08:23:59.393850",
          "status": "completed"
        },
        "tags": [],
        "id": "a74e9c45",
        "colab": {
          "base_uri": "https://localhost:8080/",
          "height": 442
        },
        "outputId": "cc9c8912-e24a-49ce-e2ac-50f2c0bb5299"
      },
      "source": [
        "chosen_col = 'Close'\n",
        "\n",
        "fig, ax = plt.subplots(1, figsize=(13, 7))\n",
        "ax.plot(df_train, label='Train', linewidth=2)\n",
        "ax.plot(df_test, label='Test', linewidth=2)\n",
        "ax.set_ylabel('Price USD', fontsize=14)\n",
        "ax.set_title('', fontsize=16)\n",
        "ax.legend(loc='best', fontsize=16)"
      ],
      "id": "a74e9c45",
      "execution_count": null,
      "outputs": [
        {
          "output_type": "execute_result",
          "data": {
            "text/plain": [
              "<matplotlib.legend.Legend at 0x7fe0a9ead450>"
            ]
          },
          "metadata": {},
          "execution_count": 22
        },
        {
          "output_type": "display_data",
          "data": {
            "image/png": "[encoded data removed]",
            "text/plain": [
              "<Figure size 936x504 with 1 Axes>"
            ]
          },
          "metadata": {}
        }
      ]
    },
    {
      "cell_type": "markdown",
      "metadata": {
        "papermill": {
          "duration": 0.048747,
          "end_time": "2021-11-09T08:23:59.812142",
          "exception": false,
          "start_time": "2021-11-09T08:23:59.763395",
          "status": "completed"
        },
        "tags": [],
        "id": "7d3e9589"
      },
      "source": [
        "# Mix Max Scaling of Data post Train-Test Split\n",
        "\n"
      ],
      "id": "7d3e9589"
    },
    {
      "cell_type": "code",
      "metadata": {
        "execution": {
          "iopub.execute_input": "2021-11-09T08:23:59.913917Z",
          "iopub.status.busy": "2021-11-09T08:23:59.912834Z",
          "iopub.status.idle": "2021-11-09T08:23:59.918170Z",
          "shell.execute_reply": "2021-11-09T08:23:59.918743Z",
          "shell.execute_reply.started": "2021-11-09T07:53:28.453531Z"
        },
        "papermill": {
          "duration": 0.057689,
          "end_time": "2021-11-09T08:23:59.918930",
          "exception": false,
          "start_time": "2021-11-09T08:23:59.861241",
          "status": "completed"
        },
        "tags": [],
        "id": "99304eda"
      },
      "source": [
        "scaler_train = MinMaxScaler(feature_range=(0, 1))\n",
        "scaled_train = scaler_train.fit_transform(df_train)\n",
        "\n",
        "scaler_test = MinMaxScaler(feature_range=(0, 1))\n",
        "scaled_test = scaler_test.fit_transform(df_test)"
      ],
      "id": "99304eda",
      "execution_count": null,
      "outputs": []
    },
    {
      "cell_type": "markdown",
      "metadata": {
        "papermill": {
          "duration": 0.049184,
          "end_time": "2021-11-09T08:24:00.018084",
          "exception": false,
          "start_time": "2021-11-09T08:23:59.968900",
          "status": "completed"
        },
        "tags": [],
        "id": "1228189d"
      },
      "source": [
        "# Dataset Generator for LSTM\n",
        "\n"
      ],
      "id": "1228189d"
    },
    {
      "cell_type": "code",
      "metadata": {
        "execution": {
          "iopub.execute_input": "2021-11-09T08:24:00.120271Z",
          "iopub.status.busy": "2021-11-09T08:24:00.119252Z",
          "iopub.status.idle": "2021-11-09T08:24:00.134344Z",
          "shell.execute_reply": "2021-11-09T08:24:00.133732Z",
          "shell.execute_reply.started": "2021-11-09T07:53:28.462429Z"
        },
        "papermill": {
          "duration": 0.066879,
          "end_time": "2021-11-09T08:24:00.134486",
          "exception": false,
          "start_time": "2021-11-09T08:24:00.067607",
          "status": "completed"
        },
        "tags": [],
        "id": "f3e1e5fa",
        "colab": {
          "base_uri": "https://localhost:8080/"
        },
        "outputId": "15c05f5e-39ac-4907-ae2f-1b19907e6680"
      },
      "source": [
        "def dataset_generator_lstm(dataset, look_back=5):\n",
        "    dataX, dataY = [], []\n",
        "    \n",
        "    for i in range(len(dataset) - look_back):\n",
        "        window_size_x = dataset[i:(i + look_back), 0]\n",
        "        dataX.append(window_size_x)\n",
        "        dataY.append(dataset[i + look_back, 0]) \n",
        "    return np.array(dataX), np.array(dataY)\n",
        "\n",
        "trainX, trainY = dataset_generator_lstm(scaled_train)\n",
        "\n",
        "testX, testY = dataset_generator_lstm(scaled_test)\n",
        "\n",
        "print(\"trainX: \", trainX.shape)\n",
        "print(\"trainY: \", trainY.shape)\n",
        "print(\"testY: \", testX.shape)\n",
        "print(\"testY\", testY.shape)"
      ],
      "id": "f3e1e5fa",
      "execution_count": null,
      "outputs": [
        {
          "output_type": "stream",
          "name": "stdout",
          "text": [
            "trainX:  (2131, 5)\n",
            "trainY:  (2131,)\n",
            "testY:  (55, 5)\n",
            "testY (55,)\n"
          ]
        }
      ]
    },
    {
      "cell_type": "code",
      "metadata": {
        "execution": {
          "iopub.execute_input": "2021-11-09T08:24:00.237582Z",
          "iopub.status.busy": "2021-11-09T08:24:00.236915Z",
          "iopub.status.idle": "2021-11-09T08:24:00.242209Z",
          "shell.execute_reply": "2021-11-09T08:24:00.242738Z",
          "shell.execute_reply.started": "2021-11-09T07:53:28.483275Z"
        },
        "papermill": {
          "duration": 0.058976,
          "end_time": "2021-11-09T08:24:00.242908",
          "exception": false,
          "start_time": "2021-11-09T08:24:00.183932",
          "status": "completed"
        },
        "tags": [],
        "id": "c92187fd",
        "colab": {
          "base_uri": "https://localhost:8080/"
        },
        "outputId": "bd5d8f56-ec56-446e-8721-55ae05c64bc0"
      },
      "source": [
        "print(\"trainX: \", trainX)\n",
        "# print(\"trainY: \", trainY)\n",
        "# print(\"testY: \", testX)\n",
        "# print(\"testY\", testY)"
      ],
      "id": "c92187fd",
      "execution_count": null,
      "outputs": [
        {
          "output_type": "stream",
          "name": "stdout",
          "text": [
            "trainX:  [[0.00000000e+00 1.44159882e-04 2.79473948e-04 5.34851927e-04\n",
            "  4.90695552e-04]\n",
            " [1.44159882e-04 2.79473948e-04 5.34851927e-04 4.90695552e-04\n",
            "  4.21819458e-04]\n",
            " [2.79473948e-04 5.34851927e-04 4.90695552e-04 4.21819458e-04\n",
            "  7.33745838e-04]\n",
            " ...\n",
            " [7.69797191e-01 7.59576884e-01 7.45106076e-01 7.51304260e-01\n",
            "  7.69632673e-01]\n",
            " [7.59576884e-01 7.45106076e-01 7.51304260e-01 7.69632673e-01\n",
            "  7.65970936e-01]\n",
            " [7.45106076e-01 7.51304260e-01 7.69632673e-01 7.65970936e-01\n",
            "  7.56740572e-01]]\n"
          ]
        }
      ]
    },
    {
      "cell_type": "markdown",
      "metadata": {
        "papermill": {
          "duration": 0.049132,
          "end_time": "2021-11-09T08:24:00.439690",
          "exception": false,
          "start_time": "2021-11-09T08:24:00.390558",
          "status": "completed"
        },
        "tags": [],
        "id": "b05aed8d"
      },
      "source": [
        "-------------------------------\n",
        "\n",
        "# For LSTM Reshape input ( trainX and testX ) to be 3-D of [samples, time steps, features]"
      ],
      "id": "b05aed8d"
    },
    {
      "cell_type": "code",
      "metadata": {
        "execution": {
          "iopub.execute_input": "2021-11-09T08:24:00.541707Z",
          "iopub.status.busy": "2021-11-09T08:24:00.541081Z",
          "iopub.status.idle": "2021-11-09T08:24:00.545542Z",
          "shell.execute_reply": "2021-11-09T08:24:00.546039Z",
          "shell.execute_reply.started": "2021-11-09T07:53:28.494836Z"
        },
        "papermill": {
          "duration": 0.056702,
          "end_time": "2021-11-09T08:24:00.546194",
          "exception": false,
          "start_time": "2021-11-09T08:24:00.489492",
          "status": "completed"
        },
        "tags": [],
        "id": "24a61190",
        "colab": {
          "base_uri": "https://localhost:8080/"
        },
        "outputId": "5bc151f9-97b1-48c1-88a1-b4a34ac80fd6"
      },
      "source": [
        "print(trainX.shape)\n",
        "print(testX.shape)"
      ],
      "id": "24a61190",
      "execution_count": null,
      "outputs": [
        {
          "output_type": "stream",
          "name": "stdout",
          "text": [
            "(2131, 5)\n",
            "(55, 5)\n"
          ]
        }
      ]
    },
    {
      "cell_type": "markdown",
      "metadata": {
        "papermill": {
          "duration": 0.04855,
          "end_time": "2021-11-09T08:24:00.643986",
          "exception": false,
          "start_time": "2021-11-09T08:24:00.595436",
          "status": "completed"
        },
        "tags": [],
        "id": "4be581c5"
      },
      "source": [
        "###Reshaping trainX and testX "
      ],
      "id": "4be581c5"
    },
    {
      "cell_type": "code",
      "metadata": {
        "execution": {
          "iopub.execute_input": "2021-11-09T08:24:00.744891Z",
          "iopub.status.busy": "2021-11-09T08:24:00.744247Z",
          "iopub.status.idle": "2021-11-09T08:24:00.750621Z",
          "shell.execute_reply": "2021-11-09T08:24:00.751297Z",
          "shell.execute_reply.started": "2021-11-09T07:53:28.505643Z"
        },
        "papermill": {
          "duration": 0.05867,
          "end_time": "2021-11-09T08:24:00.751471",
          "exception": false,
          "start_time": "2021-11-09T08:24:00.692801",
          "status": "completed"
        },
        "tags": [],
        "id": "88a73677",
        "colab": {
          "base_uri": "https://localhost:8080/"
        },
        "outputId": "ebe81f3c-e942-4326-d4ec-b2b8a7abaf55"
      },
      "source": [
        "trainX = np.reshape(trainX, (trainX.shape[0], trainX.shape[1], 1))\n",
        "\n",
        "testX = np.reshape(testX, (testX.shape[0], testX.shape[1], 1 ))\n",
        "\n",
        "print(\"Shape of trainX: \", trainX.shape)\n",
        "print(\"Shape of testX: \", testX.shape)"
      ],
      "id": "88a73677",
      "execution_count": null,
      "outputs": [
        {
          "output_type": "stream",
          "name": "stdout",
          "text": [
            "Shape of trainX:  (2131, 5, 1)\n",
            "Shape of testX:  (55, 5, 1)\n"
          ]
        }
      ]
    },
    {
      "cell_type": "code",
      "metadata": {
        "execution": {
          "iopub.execute_input": "2021-11-09T08:24:00.853506Z",
          "iopub.status.busy": "2021-11-09T08:24:00.852924Z",
          "iopub.status.idle": "2021-11-09T08:24:00.864174Z",
          "shell.execute_reply": "2021-11-09T08:24:00.864764Z",
          "shell.execute_reply.started": "2021-11-09T07:53:28.518606Z"
        },
        "papermill": {
          "duration": 0.063616,
          "end_time": "2021-11-09T08:24:00.864939",
          "exception": false,
          "start_time": "2021-11-09T08:24:00.801323",
          "status": "completed"
        },
        "tags": [],
        "id": "f5c3dfc2",
        "colab": {
          "base_uri": "https://localhost:8080/"
        },
        "outputId": "0b05a606-fb65-4153-f0bf-5ed007d0328f"
      },
      "source": [
        "print(\"trainX: \", trainX)\n",
        "print(\" ********** \")\n",
        "print(\"testX: \", testX)"
      ],
      "id": "f5c3dfc2",
      "execution_count": null,
      "outputs": [
        {
          "output_type": "stream",
          "name": "stdout",
          "text": [
            "trainX:  [[[0.00000000e+00]\n",
            "  [1.44159882e-04]\n",
            "  [2.79473948e-04]\n",
            "  [5.34851927e-04]\n",
            "  [4.90695552e-04]]\n",
            "\n",
            " [[1.44159882e-04]\n",
            "  [2.79473948e-04]\n",
            "  [5.34851927e-04]\n",
            "  [4.90695552e-04]\n",
            "  [4.21819458e-04]]\n",
            "\n",
            " [[2.79473948e-04]\n",
            "  [5.34851927e-04]\n",
            "  [4.90695552e-04]\n",
            "  [4.21819458e-04]\n",
            "  [7.33745838e-04]]\n",
            "\n",
            " ...\n",
            "\n",
            " [[7.69797191e-01]\n",
            "  [7.59576884e-01]\n",
            "  [7.45106076e-01]\n",
            "  [7.51304260e-01]\n",
            "  [7.69632673e-01]]\n",
            "\n",
            " [[7.59576884e-01]\n",
            "  [7.45106076e-01]\n",
            "  [7.51304260e-01]\n",
            "  [7.69632673e-01]\n",
            "  [7.65970936e-01]]\n",
            "\n",
            " [[7.45106076e-01]\n",
            "  [7.51304260e-01]\n",
            "  [7.69632673e-01]\n",
            "  [7.65970936e-01]\n",
            "  [7.56740572e-01]]]\n",
            " ********** \n",
            "testX:  [[[0.25321869]\n",
            "  [0.33878686]\n",
            "  [0.34931688]\n",
            "  [0.35652903]\n",
            "  [0.36882444]]\n",
            "\n",
            " [[0.33878686]\n",
            "  [0.34931688]\n",
            "  [0.35652903]\n",
            "  [0.36882444]\n",
            "  [0.43055223]]\n",
            "\n",
            " [[0.34931688]\n",
            "  [0.35652903]\n",
            "  [0.36882444]\n",
            "  [0.43055223]\n",
            "  [0.35190522]]\n",
            "\n",
            " [[0.35652903]\n",
            "  [0.36882444]\n",
            "  [0.43055223]\n",
            "  [0.35190522]\n",
            "  [0.19320919]]\n",
            "\n",
            " [[0.36882444]\n",
            "  [0.43055223]\n",
            "  [0.35190522]\n",
            "  [0.19320919]\n",
            "  [0.19855227]]\n",
            "\n",
            " [[0.43055223]\n",
            "  [0.35190522]\n",
            "  [0.19320919]\n",
            "  [0.19855227]\n",
            "  [0.17701621]]\n",
            "\n",
            " [[0.35190522]\n",
            "  [0.19320919]\n",
            "  [0.19855227]\n",
            "  [0.17701621]\n",
            "  [0.15325192]]\n",
            "\n",
            " [[0.19320919]\n",
            "  [0.19855227]\n",
            "  [0.17701621]\n",
            "  [0.15325192]\n",
            "  [0.16480254]]\n",
            "\n",
            " [[0.19855227]\n",
            "  [0.17701621]\n",
            "  [0.15325192]\n",
            "  [0.16480254]\n",
            "  [0.12865804]]\n",
            "\n",
            " [[0.17701621]\n",
            "  [0.15325192]\n",
            "  [0.16480254]\n",
            "  [0.12865804]\n",
            "  [0.18263966]]\n",
            "\n",
            " [[0.15325192]\n",
            "  [0.16480254]\n",
            "  [0.12865804]\n",
            "  [0.18263966]\n",
            "  [0.24906473]]\n",
            "\n",
            " [[0.16480254]\n",
            "  [0.12865804]\n",
            "  [0.18263966]\n",
            "  [0.24906473]\n",
            "  [0.26251689]]\n",
            "\n",
            " [[0.12865804]\n",
            "  [0.18263966]\n",
            "  [0.24906473]\n",
            "  [0.26251689]\n",
            "  [0.24876467]]\n",
            "\n",
            " [[0.18263966]\n",
            "  [0.24906473]\n",
            "  [0.26251689]\n",
            "  [0.24876467]\n",
            "  [0.27712791]]\n",
            "\n",
            " [[0.24906473]\n",
            "  [0.26251689]\n",
            "  [0.24876467]\n",
            "  [0.27712791]\n",
            "  [0.25529524]]\n",
            "\n",
            " [[0.26251689]\n",
            "  [0.24876467]\n",
            "  [0.27712791]\n",
            "  [0.25529524]\n",
            "  [0.12094002]]\n",
            "\n",
            " [[0.24876467]\n",
            "  [0.27712791]\n",
            "  [0.25529524]\n",
            "  [0.12094002]\n",
            "  [0.02665216]]\n",
            "\n",
            " [[0.27712791]\n",
            "  [0.25529524]\n",
            "  [0.12094002]\n",
            "  [0.02665216]\n",
            "  [0.03215063]]\n",
            "\n",
            " [[0.25529524]\n",
            "  [0.12094002]\n",
            "  [0.02665216]\n",
            "  [0.03215063]\n",
            "  [0.09826223]]\n",
            "\n",
            " [[0.12094002]\n",
            "  [0.02665216]\n",
            "  [0.03215063]\n",
            "  [0.09826223]\n",
            "  [0.05653365]]\n",
            "\n",
            " [[0.02665216]\n",
            "  [0.03215063]\n",
            "  [0.09826223]\n",
            "  [0.05653365]\n",
            "  [0.03321796]]\n",
            "\n",
            " [[0.03215063]\n",
            "  [0.09826223]\n",
            "  [0.05653365]\n",
            "  [0.03321796]\n",
            "  [0.04218533]]\n",
            "\n",
            " [[0.09826223]\n",
            "  [0.05653365]\n",
            "  [0.03321796]\n",
            "  [0.04218533]\n",
            "  [0.07336325]]\n",
            "\n",
            " [[0.05653365]\n",
            "  [0.03321796]\n",
            "  [0.04218533]\n",
            "  [0.07336325]\n",
            "  [0.004752  ]]\n",
            "\n",
            " [[0.03321796]\n",
            "  [0.04218533]\n",
            "  [0.07336325]\n",
            "  [0.004752  ]\n",
            "  [0.        ]]\n",
            "\n",
            " [[0.04218533]\n",
            "  [0.07336325]\n",
            "  [0.004752  ]\n",
            "  [0.        ]\n",
            "  [0.06214595]]\n",
            "\n",
            " [[0.07336325]\n",
            "  [0.004752  ]\n",
            "  [0.        ]\n",
            "  [0.06214595]\n",
            "  [0.18340176]]\n",
            "\n",
            " [[0.004752  ]\n",
            "  [0.        ]\n",
            "  [0.06214595]\n",
            "  [0.18340176]\n",
            "  [0.26015549]]\n",
            "\n",
            " [[0.        ]\n",
            "  [0.06214595]\n",
            "  [0.18340176]\n",
            "  [0.26015549]\n",
            "  [0.26810129]]\n",
            "\n",
            " [[0.06214595]\n",
            "  [0.18340176]\n",
            "  [0.26015549]\n",
            "  [0.26810129]\n",
            "  [0.27380695]]\n",
            "\n",
            " [[0.18340176]\n",
            "  [0.26015549]\n",
            "  [0.26810129]\n",
            "  [0.27380695]\n",
            "  [0.35673344]]\n",
            "\n",
            " [[0.26015549]\n",
            "  [0.26810129]\n",
            "  [0.27380695]\n",
            "  [0.35673344]\n",
            "  [0.47981766]]\n",
            "\n",
            " [[0.26810129]\n",
            "  [0.27380695]\n",
            "  [0.35673344]\n",
            "  [0.47981766]\n",
            "  [0.54177128]]\n",
            "\n",
            " [[0.27380695]\n",
            "  [0.35673344]\n",
            "  [0.47981766]\n",
            "  [0.54177128]\n",
            "  [0.5459711 ]]\n",
            "\n",
            " [[0.35673344]\n",
            "  [0.47981766]\n",
            "  [0.54177128]\n",
            "  [0.5459711 ]\n",
            "  [0.55826613]]\n",
            "\n",
            " [[0.47981766]\n",
            "  [0.54177128]\n",
            "  [0.5459711 ]\n",
            "  [0.55826613]\n",
            "  [0.5765067 ]]\n",
            "\n",
            " [[0.54177128]\n",
            "  [0.5459711 ]\n",
            "  [0.55826613]\n",
            "  [0.5765067 ]\n",
            "  [0.64334068]]\n",
            "\n",
            " [[0.5459711 ]\n",
            "  [0.55826613]\n",
            "  [0.5765067 ]\n",
            "  [0.64334068]\n",
            "  [0.63971782]]\n",
            "\n",
            " [[0.55826613]\n",
            "  [0.5765067 ]\n",
            "  [0.64334068]\n",
            "  [0.63971782]\n",
            "  [0.61481564]]\n",
            "\n",
            " [[0.5765067 ]\n",
            "  [0.64334068]\n",
            "  [0.63971782]\n",
            "  [0.61481564]\n",
            "  [0.68357564]]\n",
            "\n",
            " [[0.64334068]\n",
            "  [0.63971782]\n",
            "  [0.61481564]\n",
            "  [0.68357564]\n",
            "  [0.78050369]]\n",
            "\n",
            " [[0.63971782]\n",
            "  [0.61481564]\n",
            "  [0.68357564]\n",
            "  [0.78050369]\n",
            "  [0.8405857 ]]\n",
            "\n",
            " [[0.61481564]\n",
            "  [0.68357564]\n",
            "  [0.78050369]\n",
            "  [0.8405857 ]\n",
            "  [0.82202495]]\n",
            "\n",
            " [[0.68357564]\n",
            "  [0.78050369]\n",
            "  [0.8405857 ]\n",
            "  [0.82202495]\n",
            "  [0.86299335]]\n",
            "\n",
            " [[0.78050369]\n",
            "  [0.8405857 ]\n",
            "  [0.82202495]\n",
            "  [0.86299335]\n",
            "  [0.90375255]]\n",
            "\n",
            " [[0.8405857 ]\n",
            "  [0.82202495]\n",
            "  [0.86299335]\n",
            "  [0.90375255]\n",
            "  [1.        ]]\n",
            "\n",
            " [[0.82202495]\n",
            "  [0.86299335]\n",
            "  [0.90375255]\n",
            "  [1.        ]\n",
            "  [0.97247556]]\n",
            "\n",
            " [[0.86299335]\n",
            "  [0.90375255]\n",
            "  [1.        ]\n",
            "  [0.97247556]\n",
            "  [0.87962325]]\n",
            "\n",
            " [[0.90375255]\n",
            "  [1.        ]\n",
            "  [0.97247556]\n",
            "  [0.87962325]\n",
            "  [0.83248555]]\n",
            "\n",
            " [[1.        ]\n",
            "  [0.97247556]\n",
            "  [0.87962325]\n",
            "  [0.83248555]\n",
            "  [0.81613368]]\n",
            "\n",
            " [[0.97247556]\n",
            "  [0.87962325]\n",
            "  [0.83248555]\n",
            "  [0.81613368]\n",
            "  [0.89829139]]\n",
            "\n",
            " [[0.87962325]\n",
            "  [0.83248555]\n",
            "  [0.81613368]\n",
            "  [0.89829139]\n",
            "  [0.88503214]]\n",
            "\n",
            " [[0.83248555]\n",
            "  [0.81613368]\n",
            "  [0.89829139]\n",
            "  [0.88503214]\n",
            "  [0.76423277]]\n",
            "\n",
            " [[0.81613368]\n",
            "  [0.89829139]\n",
            "  [0.88503214]\n",
            "  [0.76423277]\n",
            "  [0.7963598 ]]\n",
            "\n",
            " [[0.89829139]\n",
            "  [0.88503214]\n",
            "  [0.76423277]\n",
            "  [0.7963598 ]\n",
            "  [0.85391712]]]\n"
          ]
        }
      ]
    },
    {
      "cell_type": "code",
      "metadata": {
        "execution": {
          "iopub.execute_input": "2021-11-09T08:24:01.176093Z",
          "iopub.status.busy": "2021-11-09T08:24:01.175247Z",
          "iopub.status.idle": "2021-11-09T08:24:01.178428Z",
          "shell.execute_reply": "2021-11-09T08:24:01.178951Z",
          "shell.execute_reply.started": "2021-11-09T07:53:28.540294Z"
        },
        "papermill": {
          "duration": 0.060031,
          "end_time": "2021-11-09T08:24:01.179115",
          "exception": false,
          "start_time": "2021-11-09T08:24:01.119084",
          "status": "completed"
        },
        "tags": [],
        "id": "4438cf67",
        "colab": {
          "base_uri": "https://localhost:8080/"
        },
        "outputId": "c8fc3c55-5943-42f1-bfbd-405f18904afa"
      },
      "source": [
        "print(\"trainX.shape[1] - i.e. timesteps in input_shape = (timesteps, n_features) \", trainX.shape[1])\n",
        "print(\"trainX.shape[2] - i.e. n_features in input_shape = (timesteps, n_features) \", trainX.shape[2])"
      ],
      "id": "4438cf67",
      "execution_count": null,
      "outputs": [
        {
          "output_type": "stream",
          "name": "stdout",
          "text": [
            "trainX.shape[1] - i.e. timesteps in input_shape = (timesteps, n_features)  5\n",
            "trainX.shape[2] - i.e. n_features in input_shape = (timesteps, n_features)  1\n"
          ]
        }
      ]
    },
    {
      "cell_type": "code",
      "metadata": {
        "execution": {
          "iopub.execute_input": "2021-11-09T08:24:01.286885Z",
          "iopub.status.busy": "2021-11-09T08:24:01.285918Z",
          "iopub.status.idle": "2021-11-09T08:24:01.746820Z",
          "shell.execute_reply": "2021-11-09T08:24:01.747339Z",
          "shell.execute_reply.started": "2021-11-09T07:53:28.553350Z"
        },
        "papermill": {
          "duration": 0.51592,
          "end_time": "2021-11-09T08:24:01.747513",
          "exception": false,
          "start_time": "2021-11-09T08:24:01.231593",
          "status": "completed"
        },
        "tags": [],
        "id": "0c247041",
        "colab": {
          "base_uri": "https://localhost:8080/"
        },
        "outputId": "8d4d9870-e280-4d3a-9bf7-0c106ab74fed"
      },
      "source": [
        "regressor = Sequential()\n",
        "regressor.add(LSTM(units = 128, activation = 'relu',return_sequences=True, input_shape = (trainX.shape[1], trainX.shape[2])))\n",
        "regressor.add(Dropout(0.2))\n",
        "regressor.add(LSTM(units = 64, input_shape = (trainX.shape[1], trainX.shape[2])))\n",
        "regressor.add(Dropout(0.2))\n",
        "regressor.add(Dense(units = 1))\n",
        "\n",
        "regressor.summary()\n"
      ],
      "id": "0c247041",
      "execution_count": null,
      "outputs": [
        {
          "output_type": "stream",
          "name": "stdout",
          "text": [
            "Model: \"sequential\"\n",
            "_________________________________________________________________\n",
            " Layer (type)                Output Shape              Param #   \n",
            "=================================================================\n",
            " lstm (LSTM)                 (None, 5, 128)            66560     \n",
            "                                                                 \n",
            " dropout (Dropout)           (None, 5, 128)            0         \n",
            "                                                                 \n",
            " lstm_1 (LSTM)               (None, 64)                49408     \n",
            "                                                                 \n",
            " dropout_1 (Dropout)         (None, 64)                0         \n",
            "                                                                 \n",
            " dense (Dense)               (None, 1)                 65        \n",
            "                                                                 \n",
            "=================================================================\n",
            "Total params: 116,033\n",
            "Trainable params: 116,033\n",
            "Non-trainable params: 0\n",
            "_________________________________________________________________\n"
          ]
        }
      ]
    },
    {
      "cell_type": "code",
      "metadata": {
        "execution": {
          "iopub.execute_input": "2021-11-09T08:24:01.859939Z",
          "iopub.status.busy": "2021-11-09T08:24:01.859233Z",
          "iopub.status.idle": "2021-11-09T08:24:34.491023Z",
          "shell.execute_reply": "2021-11-09T08:24:34.491550Z",
          "shell.execute_reply.started": "2021-11-09T07:53:29.074954Z"
        },
        "papermill": {
          "duration": 32.69245,
          "end_time": "2021-11-09T08:24:34.491782",
          "exception": false,
          "start_time": "2021-11-09T08:24:01.799332",
          "status": "completed"
        },
        "tags": [],
        "id": "737a2ede",
        "colab": {
          "base_uri": "https://localhost:8080/"
        },
        "outputId": "1b4e861e-21d8-41e0-c1f6-15223ee0abe5"
      },
      "source": [
        "from tensorflow.keras.callbacks import ModelCheckpoint, EarlyStopping\n",
        "\n",
        "regressor.compile(optimizer = 'adam', loss = 'mean_squared_error')\n",
        "\n",
        "checkpoint_path = 'my_best_model.hdf5'\n",
        "\n",
        "checkpoint = ModelCheckpoint(filepath=checkpoint_path, \n",
        "                             monitor='val_loss',\n",
        "                             verbose=1, \n",
        "                             save_best_only=True,\n",
        "                             mode='min')\n",
        "\n",
        "\n",
        "earlystopping = EarlyStopping(monitor='val_loss', patience=10, restore_best_weights=True)\n",
        "\n",
        "callbacks = [checkpoint, earlystopping]\n",
        "\n",
        "\n",
        "history = regressor.fit(trainX, trainY, batch_size = 32, epochs = 300, verbose=1, shuffle=False, validation_data=(testX, testY), callbacks=callbacks)"
      ],
      "id": "737a2ede",
      "execution_count": null,
      "outputs": [
        {
          "output_type": "stream",
          "name": "stdout",
          "text": [
            "Epoch 1/300\n",
            "64/67 [===========================>..] - ETA: 0s - loss: 0.0128\n",
            "Epoch 00001: val_loss improved from inf to 0.06375, saving model to my_best_model.hdf5\n",
            "67/67 [==============================] - 4s 20ms/step - loss: 0.0125 - val_loss: 0.0637\n",
            "Epoch 2/300\n",
            "67/67 [==============================] - ETA: 0s - loss: 0.0201\n",
            "Epoch 00002: val_loss improved from 0.06375 to 0.01682, saving model to my_best_model.hdf5\n",
            "67/67 [==============================] - 1s 11ms/step - loss: 0.0201 - val_loss: 0.0168\n",
            "Epoch 3/300\n",
            "66/67 [============================>.] - ETA: 0s - loss: 0.0034\n",
            "Epoch 00003: val_loss improved from 0.01682 to 0.01493, saving model to my_best_model.hdf5\n",
            "67/67 [==============================] - 1s 11ms/step - loss: 0.0034 - val_loss: 0.0149\n",
            "Epoch 4/300\n",
            "67/67 [==============================] - ETA: 0s - loss: 0.0020\n",
            "Epoch 00004: val_loss improved from 0.01493 to 0.01402, saving model to my_best_model.hdf5\n",
            "67/67 [==============================] - 1s 11ms/step - loss: 0.0020 - val_loss: 0.0140\n",
            "Epoch 5/300\n",
            "62/67 [==========================>...] - ETA: 0s - loss: 6.3728e-04\n",
            "Epoch 00005: val_loss did not improve from 0.01402\n",
            "67/67 [==============================] - 1s 10ms/step - loss: 0.0011 - val_loss: 0.0141\n",
            "Epoch 6/300\n",
            "67/67 [==============================] - ETA: 0s - loss: 0.0012    \n",
            "Epoch 00006: val_loss did not improve from 0.01402\n",
            "67/67 [==============================] - 1s 10ms/step - loss: 0.0012 - val_loss: 0.0142\n",
            "Epoch 7/300\n",
            "66/67 [============================>.] - ETA: 0s - loss: 0.0012    \n",
            "Epoch 00007: val_loss did not improve from 0.01402\n",
            "67/67 [==============================] - 1s 10ms/step - loss: 0.0012 - val_loss: 0.0140\n",
            "Epoch 8/300\n",
            "64/67 [===========================>..] - ETA: 0s - loss: 0.0014    \n",
            "Epoch 00008: val_loss did not improve from 0.01402\n",
            "67/67 [==============================] - 1s 10ms/step - loss: 0.0018 - val_loss: 0.0146\n",
            "Epoch 9/300\n",
            "63/67 [===========================>..] - ETA: 0s - loss: 0.0028    \n",
            "Epoch 00009: val_loss did not improve from 0.01402\n",
            "67/67 [==============================] - 1s 10ms/step - loss: 0.0040 - val_loss: 0.0238\n",
            "Epoch 10/300\n",
            "65/67 [============================>.] - ETA: 0s - loss: 0.0036\n",
            "Epoch 00010: val_loss did not improve from 0.01402\n",
            "67/67 [==============================] - 1s 10ms/step - loss: 0.0040 - val_loss: 0.0228\n",
            "Epoch 11/300\n",
            "65/67 [============================>.] - ETA: 0s - loss: 0.0017\n",
            "Epoch 00011: val_loss improved from 0.01402 to 0.01368, saving model to my_best_model.hdf5\n",
            "67/67 [==============================] - 1s 10ms/step - loss: 0.0017 - val_loss: 0.0137\n",
            "Epoch 12/300\n",
            "63/67 [===========================>..] - ETA: 0s - loss: 8.1458e-04\n",
            "Epoch 00012: val_loss improved from 0.01368 to 0.01344, saving model to my_best_model.hdf5\n",
            "67/67 [==============================] - 1s 10ms/step - loss: 0.0010 - val_loss: 0.0134\n",
            "Epoch 13/300\n",
            "64/67 [===========================>..] - ETA: 0s - loss: 8.2798e-04\n",
            "Epoch 00013: val_loss improved from 0.01344 to 0.01318, saving model to my_best_model.hdf5\n",
            "67/67 [==============================] - 1s 11ms/step - loss: 0.0011 - val_loss: 0.0132\n",
            "Epoch 14/300\n",
            "64/67 [===========================>..] - ETA: 0s - loss: 0.0010    \n",
            "Epoch 00014: val_loss did not improve from 0.01318\n",
            "67/67 [==============================] - 1s 10ms/step - loss: 0.0012 - val_loss: 0.0134\n",
            "Epoch 15/300\n",
            "64/67 [===========================>..] - ETA: 0s - loss: 0.0012    \n",
            "Epoch 00015: val_loss did not improve from 0.01318\n",
            "67/67 [==============================] - 1s 10ms/step - loss: 0.0013 - val_loss: 0.0133\n",
            "Epoch 16/300\n",
            "64/67 [===========================>..] - ETA: 0s - loss: 9.7145e-04\n",
            "Epoch 00016: val_loss did not improve from 0.01318\n",
            "67/67 [==============================] - 1s 10ms/step - loss: 0.0012 - val_loss: 0.0133\n",
            "Epoch 17/300\n",
            "63/67 [===========================>..] - ETA: 0s - loss: 9.8965e-04\n",
            "Epoch 00017: val_loss did not improve from 0.01318\n",
            "67/67 [==============================] - 1s 10ms/step - loss: 0.0014 - val_loss: 0.0136\n",
            "Epoch 18/300\n",
            "63/67 [===========================>..] - ETA: 0s - loss: 0.0011    \n",
            "Epoch 00018: val_loss did not improve from 0.01318\n",
            "67/67 [==============================] - 1s 10ms/step - loss: 0.0017 - val_loss: 0.0141\n",
            "Epoch 19/300\n",
            "66/67 [============================>.] - ETA: 0s - loss: 0.0020    \n",
            "Epoch 00019: val_loss did not improve from 0.01318\n",
            "67/67 [==============================] - 1s 10ms/step - loss: 0.0021 - val_loss: 0.0150\n",
            "Epoch 20/300\n",
            "66/67 [============================>.] - ETA: 0s - loss: 0.0021\n",
            "Epoch 00020: val_loss did not improve from 0.01318\n",
            "67/67 [==============================] - 1s 10ms/step - loss: 0.0023 - val_loss: 0.0165\n",
            "Epoch 21/300\n",
            "63/67 [===========================>..] - ETA: 0s - loss: 0.0015    \n",
            "Epoch 00021: val_loss did not improve from 0.01318\n",
            "67/67 [==============================] - 1s 10ms/step - loss: 0.0021 - val_loss: 0.0158\n",
            "Epoch 22/300\n",
            "63/67 [===========================>..] - ETA: 0s - loss: 0.0012    \n",
            "Epoch 00022: val_loss did not improve from 0.01318\n",
            "67/67 [==============================] - 1s 10ms/step - loss: 0.0016 - val_loss: 0.0146\n",
            "Epoch 23/300\n",
            "63/67 [===========================>..] - ETA: 0s - loss: 9.6021e-04\n",
            "Epoch 00023: val_loss improved from 0.01318 to 0.01299, saving model to my_best_model.hdf5\n",
            "67/67 [==============================] - 1s 11ms/step - loss: 0.0013 - val_loss: 0.0130\n",
            "Epoch 24/300\n",
            "65/67 [============================>.] - ETA: 0s - loss: 0.0013    \n",
            "Epoch 00024: val_loss did not improve from 0.01299\n",
            "67/67 [==============================] - 1s 10ms/step - loss: 0.0014 - val_loss: 0.0141\n",
            "Epoch 25/300\n",
            "67/67 [==============================] - ETA: 0s - loss: 0.0013    \n",
            "Epoch 00025: val_loss improved from 0.01299 to 0.01282, saving model to my_best_model.hdf5\n",
            "67/67 [==============================] - 1s 11ms/step - loss: 0.0013 - val_loss: 0.0128\n",
            "Epoch 26/300\n",
            "64/67 [===========================>..] - ETA: 0s - loss: 0.0010    \n",
            "Epoch 00026: val_loss improved from 0.01282 to 0.01261, saving model to my_best_model.hdf5\n",
            "67/67 [==============================] - 1s 11ms/step - loss: 0.0012 - val_loss: 0.0126\n",
            "Epoch 27/300\n",
            "66/67 [============================>.] - ETA: 0s - loss: 0.0012    \n",
            "Epoch 00027: val_loss improved from 0.01261 to 0.01254, saving model to my_best_model.hdf5\n",
            "67/67 [==============================] - 1s 11ms/step - loss: 0.0012 - val_loss: 0.0125\n",
            "Epoch 28/300\n",
            "62/67 [==========================>...] - ETA: 0s - loss: 9.9391e-04\n",
            "Epoch 00028: val_loss did not improve from 0.01254\n",
            "67/67 [==============================] - 1s 10ms/step - loss: 0.0016 - val_loss: 0.0131\n",
            "Epoch 29/300\n",
            "64/67 [===========================>..] - ETA: 0s - loss: 0.0018    \n",
            "Epoch 00029: val_loss did not improve from 0.01254\n",
            "67/67 [==============================] - 1s 10ms/step - loss: 0.0022 - val_loss: 0.0174\n",
            "Epoch 30/300\n",
            "66/67 [============================>.] - ETA: 0s - loss: 0.0018    \n",
            "Epoch 00030: val_loss did not improve from 0.01254\n",
            "67/67 [==============================] - 1s 11ms/step - loss: 0.0019 - val_loss: 0.0129\n",
            "Epoch 31/300\n",
            "63/67 [===========================>..] - ETA: 0s - loss: 0.0014    \n",
            "Epoch 00031: val_loss did not improve from 0.01254\n",
            "67/67 [==============================] - 1s 10ms/step - loss: 0.0018 - val_loss: 0.0142\n",
            "Epoch 32/300\n",
            "65/67 [============================>.] - ETA: 0s - loss: 0.0014    \n",
            "Epoch 00032: val_loss improved from 0.01254 to 0.01245, saving model to my_best_model.hdf5\n",
            "67/67 [==============================] - 1s 11ms/step - loss: 0.0015 - val_loss: 0.0124\n",
            "Epoch 33/300\n",
            "63/67 [===========================>..] - ETA: 0s - loss: 8.1646e-04\n",
            "Epoch 00033: val_loss improved from 0.01245 to 0.01204, saving model to my_best_model.hdf5\n",
            "67/67 [==============================] - 1s 10ms/step - loss: 0.0012 - val_loss: 0.0120\n",
            "Epoch 34/300\n",
            "64/67 [===========================>..] - ETA: 0s - loss: 0.0010    \n",
            "Epoch 00034: val_loss did not improve from 0.01204\n",
            "67/67 [==============================] - 1s 11ms/step - loss: 0.0012 - val_loss: 0.0125\n",
            "Epoch 35/300\n",
            "64/67 [===========================>..] - ETA: 0s - loss: 8.9590e-04\n",
            "Epoch 00035: val_loss did not improve from 0.01204\n",
            "67/67 [==============================] - 1s 10ms/step - loss: 0.0011 - val_loss: 0.0123\n",
            "Epoch 36/300\n",
            "65/67 [============================>.] - ETA: 0s - loss: 9.8641e-04\n",
            "Epoch 00036: val_loss improved from 0.01204 to 0.01177, saving model to my_best_model.hdf5\n",
            "67/67 [==============================] - 1s 11ms/step - loss: 0.0011 - val_loss: 0.0118\n",
            "Epoch 37/300\n",
            "67/67 [==============================] - ETA: 0s - loss: 0.0012    \n",
            "Epoch 00037: val_loss did not improve from 0.01177\n",
            "67/67 [==============================] - 1s 10ms/step - loss: 0.0012 - val_loss: 0.0119\n",
            "Epoch 38/300\n",
            "64/67 [===========================>..] - ETA: 0s - loss: 0.0011    \n",
            "Epoch 00038: val_loss did not improve from 0.01177\n",
            "67/67 [==============================] - 1s 10ms/step - loss: 0.0014 - val_loss: 0.0122\n",
            "Epoch 39/300\n",
            "65/67 [============================>.] - ETA: 0s - loss: 0.0014    \n",
            "Epoch 00039: val_loss did not improve from 0.01177\n",
            "67/67 [==============================] - 1s 11ms/step - loss: 0.0016 - val_loss: 0.0131\n",
            "Epoch 40/300\n",
            "62/67 [==========================>...] - ETA: 0s - loss: 9.2656e-04\n",
            "Epoch 00040: val_loss did not improve from 0.01177\n",
            "67/67 [==============================] - 1s 10ms/step - loss: 0.0015 - val_loss: 0.0130\n",
            "Epoch 41/300\n",
            "62/67 [==========================>...] - ETA: 0s - loss: 8.7468e-04\n",
            "Epoch 00041: val_loss did not improve from 0.01177\n",
            "67/67 [==============================] - 1s 10ms/step - loss: 0.0014 - val_loss: 0.0122\n",
            "Epoch 42/300\n",
            "63/67 [===========================>..] - ETA: 0s - loss: 9.6960e-04\n",
            "Epoch 00042: val_loss did not improve from 0.01177\n",
            "67/67 [==============================] - 1s 10ms/step - loss: 0.0013 - val_loss: 0.0123\n",
            "Epoch 43/300\n",
            "62/67 [==========================>...] - ETA: 0s - loss: 6.7726e-04\n",
            "Epoch 00043: val_loss improved from 0.01177 to 0.01134, saving model to my_best_model.hdf5\n",
            "67/67 [==============================] - 1s 11ms/step - loss: 0.0011 - val_loss: 0.0113\n",
            "Epoch 44/300\n",
            "67/67 [==============================] - ETA: 0s - loss: 0.0014    \n",
            "Epoch 00044: val_loss did not improve from 0.01134\n",
            "67/67 [==============================] - 1s 10ms/step - loss: 0.0014 - val_loss: 0.0118\n",
            "Epoch 45/300\n",
            "66/67 [============================>.] - ETA: 0s - loss: 0.0016    \n",
            "Epoch 00045: val_loss did not improve from 0.01134\n",
            "67/67 [==============================] - 1s 11ms/step - loss: 0.0017 - val_loss: 0.0137\n",
            "Epoch 46/300\n",
            "64/67 [===========================>..] - ETA: 0s - loss: 0.0014    \n",
            "Epoch 00046: val_loss did not improve from 0.01134\n",
            "67/67 [==============================] - 1s 10ms/step - loss: 0.0018 - val_loss: 0.0122\n",
            "Epoch 47/300\n",
            "63/67 [===========================>..] - ETA: 0s - loss: 0.0013    \n",
            "Epoch 00047: val_loss did not improve from 0.01134\n",
            "67/67 [==============================] - 1s 10ms/step - loss: 0.0017 - val_loss: 0.0138\n",
            "Epoch 48/300\n",
            "64/67 [===========================>..] - ETA: 0s - loss: 0.0011    \n",
            "Epoch 00048: val_loss did not improve from 0.01134\n",
            "67/67 [==============================] - 1s 10ms/step - loss: 0.0013 - val_loss: 0.0114\n",
            "Epoch 49/300\n",
            "67/67 [==============================] - ETA: 0s - loss: 9.8385e-04\n",
            "Epoch 00049: val_loss improved from 0.01134 to 0.01095, saving model to my_best_model.hdf5\n",
            "67/67 [==============================] - 1s 11ms/step - loss: 9.8385e-04 - val_loss: 0.0110\n",
            "Epoch 50/300\n",
            "63/67 [===========================>..] - ETA: 0s - loss: 5.8930e-04\n",
            "Epoch 00050: val_loss did not improve from 0.01095\n",
            "67/67 [==============================] - 1s 10ms/step - loss: 8.1651e-04 - val_loss: 0.0110\n",
            "Epoch 51/300\n",
            "64/67 [===========================>..] - ETA: 0s - loss: 6.7580e-04\n",
            "Epoch 00051: val_loss improved from 0.01095 to 0.01055, saving model to my_best_model.hdf5\n",
            "67/67 [==============================] - 1s 11ms/step - loss: 8.1388e-04 - val_loss: 0.0105\n",
            "Epoch 52/300\n",
            "62/67 [==========================>...] - ETA: 0s - loss: 6.5642e-04\n",
            "Epoch 00052: val_loss did not improve from 0.01055\n",
            "67/67 [==============================] - 1s 10ms/step - loss: 0.0010 - val_loss: 0.0106\n",
            "Epoch 53/300\n",
            "63/67 [===========================>..] - ETA: 0s - loss: 7.9916e-04\n",
            "Epoch 00053: val_loss did not improve from 0.01055\n",
            "67/67 [==============================] - 1s 10ms/step - loss: 0.0012 - val_loss: 0.0107\n",
            "Epoch 54/300\n",
            "63/67 [===========================>..] - ETA: 0s - loss: 0.0012    \n",
            "Epoch 00054: val_loss did not improve from 0.01055\n",
            "67/67 [==============================] - 1s 10ms/step - loss: 0.0017 - val_loss: 0.0128\n",
            "Epoch 55/300\n",
            "65/67 [============================>.] - ETA: 0s - loss: 0.0012    \n",
            "Epoch 00055: val_loss did not improve from 0.01055\n",
            "67/67 [==============================] - 1s 10ms/step - loss: 0.0015 - val_loss: 0.0108\n",
            "Epoch 56/300\n",
            "63/67 [===========================>..] - ETA: 0s - loss: 0.0020    \n",
            "Epoch 00056: val_loss did not improve from 0.01055\n",
            "67/67 [==============================] - 1s 10ms/step - loss: 0.0024 - val_loss: 0.0180\n",
            "Epoch 57/300\n",
            "62/67 [==========================>...] - ETA: 0s - loss: 0.0010    \n",
            "Epoch 00057: val_loss improved from 0.01055 to 0.00986, saving model to my_best_model.hdf5\n",
            "67/67 [==============================] - 1s 11ms/step - loss: 0.0012 - val_loss: 0.0099\n",
            "Epoch 58/300\n",
            "65/67 [============================>.] - ETA: 0s - loss: 8.1311e-04\n",
            "Epoch 00058: val_loss did not improve from 0.00986\n",
            "67/67 [==============================] - 1s 11ms/step - loss: 8.5487e-04 - val_loss: 0.0101\n",
            "Epoch 59/300\n",
            "63/67 [===========================>..] - ETA: 0s - loss: 6.5628e-04\n",
            "Epoch 00059: val_loss improved from 0.00986 to 0.00979, saving model to my_best_model.hdf5\n",
            "67/67 [==============================] - 1s 11ms/step - loss: 8.9200e-04 - val_loss: 0.0098\n",
            "Epoch 60/300\n",
            "64/67 [===========================>..] - ETA: 0s - loss: 9.0577e-04\n",
            "Epoch 00060: val_loss did not improve from 0.00979\n",
            "67/67 [==============================] - 1s 10ms/step - loss: 0.0011 - val_loss: 0.0099\n",
            "Epoch 61/300\n",
            "65/67 [============================>.] - ETA: 0s - loss: 8.2146e-04\n",
            "Epoch 00061: val_loss did not improve from 0.00979\n",
            "67/67 [==============================] - 1s 10ms/step - loss: 8.9017e-04 - val_loss: 0.0099\n",
            "Epoch 62/300\n",
            "67/67 [==============================] - ETA: 0s - loss: 9.3403e-04\n",
            "Epoch 00062: val_loss improved from 0.00979 to 0.00969, saving model to my_best_model.hdf5\n",
            "67/67 [==============================] - 1s 11ms/step - loss: 9.3403e-04 - val_loss: 0.0097\n",
            "Epoch 63/300\n",
            "63/67 [===========================>..] - ETA: 0s - loss: 8.3811e-04\n",
            "Epoch 00063: val_loss did not improve from 0.00969\n",
            "67/67 [==============================] - 1s 10ms/step - loss: 0.0012 - val_loss: 0.0099\n",
            "Epoch 64/300\n",
            "63/67 [===========================>..] - ETA: 0s - loss: 9.7172e-04\n",
            "Epoch 00064: val_loss did not improve from 0.00969\n",
            "67/67 [==============================] - 1s 10ms/step - loss: 0.0014 - val_loss: 0.0110\n",
            "Epoch 65/300\n",
            "67/67 [==============================] - ETA: 0s - loss: 0.0013    \n",
            "Epoch 00065: val_loss did not improve from 0.00969\n",
            "67/67 [==============================] - 1s 10ms/step - loss: 0.0013 - val_loss: 0.0105\n",
            "Epoch 66/300\n",
            "63/67 [===========================>..] - ETA: 0s - loss: 8.7821e-04\n",
            "Epoch 00066: val_loss improved from 0.00969 to 0.00958, saving model to my_best_model.hdf5\n",
            "67/67 [==============================] - 1s 11ms/step - loss: 0.0012 - val_loss: 0.0096\n",
            "Epoch 67/300\n",
            "63/67 [===========================>..] - ETA: 0s - loss: 8.3953e-04\n",
            "Epoch 00067: val_loss did not improve from 0.00958\n",
            "67/67 [==============================] - 1s 10ms/step - loss: 0.0012 - val_loss: 0.0102\n",
            "Epoch 68/300\n",
            "63/67 [===========================>..] - ETA: 0s - loss: 7.0765e-04\n",
            "Epoch 00068: val_loss improved from 0.00958 to 0.00946, saving model to my_best_model.hdf5\n",
            "67/67 [==============================] - 1s 11ms/step - loss: 0.0010 - val_loss: 0.0095\n",
            "Epoch 69/300\n",
            "67/67 [==============================] - ETA: 0s - loss: 0.0013    \n",
            "Epoch 00069: val_loss did not improve from 0.00946\n",
            "67/67 [==============================] - 1s 10ms/step - loss: 0.0013 - val_loss: 0.0100\n",
            "Epoch 70/300\n",
            "63/67 [===========================>..] - ETA: 0s - loss: 8.3529e-04\n",
            "Epoch 00070: val_loss did not improve from 0.00946\n",
            "67/67 [==============================] - 1s 10ms/step - loss: 0.0011 - val_loss: 0.0097\n",
            "Epoch 71/300\n",
            "63/67 [===========================>..] - ETA: 0s - loss: 5.8670e-04\n",
            "Epoch 00071: val_loss improved from 0.00946 to 0.00926, saving model to my_best_model.hdf5\n",
            "67/67 [==============================] - 1s 11ms/step - loss: 7.8683e-04 - val_loss: 0.0093\n",
            "Epoch 72/300\n",
            "64/67 [===========================>..] - ETA: 0s - loss: 8.3941e-04\n",
            "Epoch 00072: val_loss improved from 0.00926 to 0.00922, saving model to my_best_model.hdf5\n",
            "67/67 [==============================] - 1s 11ms/step - loss: 0.0011 - val_loss: 0.0092\n",
            "Epoch 73/300\n",
            "66/67 [============================>.] - ETA: 0s - loss: 0.0013    \n",
            "Epoch 00073: val_loss did not improve from 0.00922\n",
            "67/67 [==============================] - 1s 10ms/step - loss: 0.0014 - val_loss: 0.0108\n",
            "Epoch 74/300\n",
            "63/67 [===========================>..] - ETA: 0s - loss: 8.5662e-04\n",
            "Epoch 00074: val_loss improved from 0.00922 to 0.00904, saving model to my_best_model.hdf5\n",
            "67/67 [==============================] - 1s 11ms/step - loss: 0.0011 - val_loss: 0.0090\n",
            "Epoch 75/300\n",
            "65/67 [============================>.] - ETA: 0s - loss: 7.6315e-04\n",
            "Epoch 00075: val_loss improved from 0.00904 to 0.00903, saving model to my_best_model.hdf5\n",
            "67/67 [==============================] - 1s 11ms/step - loss: 8.4776e-04 - val_loss: 0.0090\n",
            "Epoch 76/300\n",
            "67/67 [==============================] - ETA: 0s - loss: 9.2753e-04\n",
            "Epoch 00076: val_loss improved from 0.00903 to 0.00891, saving model to my_best_model.hdf5\n",
            "67/67 [==============================] - 1s 11ms/step - loss: 9.2753e-04 - val_loss: 0.0089\n",
            "Epoch 77/300\n",
            "66/67 [============================>.] - ETA: 0s - loss: 8.6277e-04\n",
            "Epoch 00077: val_loss improved from 0.00891 to 0.00888, saving model to my_best_model.hdf5\n",
            "67/67 [==============================] - 1s 11ms/step - loss: 8.9272e-04 - val_loss: 0.0089\n",
            "Epoch 78/300\n",
            "66/67 [============================>.] - ETA: 0s - loss: 8.5254e-04\n",
            "Epoch 00078: val_loss did not improve from 0.00888\n",
            "67/67 [==============================] - 1s 11ms/step - loss: 9.1008e-04 - val_loss: 0.0091\n",
            "Epoch 79/300\n",
            "65/67 [============================>.] - ETA: 0s - loss: 8.8338e-04\n",
            "Epoch 00079: val_loss improved from 0.00888 to 0.00879, saving model to my_best_model.hdf5\n",
            "67/67 [==============================] - 1s 11ms/step - loss: 9.8042e-04 - val_loss: 0.0088\n",
            "Epoch 80/300\n",
            "64/67 [===========================>..] - ETA: 0s - loss: 6.8435e-04\n",
            "Epoch 00080: val_loss did not improve from 0.00879\n",
            "67/67 [==============================] - 1s 11ms/step - loss: 8.2422e-04 - val_loss: 0.0089\n",
            "Epoch 81/300\n",
            "64/67 [===========================>..] - ETA: 0s - loss: 6.2158e-04\n",
            "Epoch 00081: val_loss improved from 0.00879 to 0.00868, saving model to my_best_model.hdf5\n",
            "67/67 [==============================] - 1s 11ms/step - loss: 7.8646e-04 - val_loss: 0.0087\n",
            "Epoch 82/300\n",
            "66/67 [============================>.] - ETA: 0s - loss: 9.8974e-04\n",
            "Epoch 00082: val_loss did not improve from 0.00868\n",
            "67/67 [==============================] - 1s 11ms/step - loss: 0.0011 - val_loss: 0.0093\n",
            "Epoch 83/300\n",
            "66/67 [============================>.] - ETA: 0s - loss: 0.0013    \n",
            "Epoch 00083: val_loss did not improve from 0.00868\n",
            "67/67 [==============================] - 1s 11ms/step - loss: 0.0014 - val_loss: 0.0097\n",
            "Epoch 84/300\n",
            "64/67 [===========================>..] - ETA: 0s - loss: 0.0011    \n",
            "Epoch 00084: val_loss did not improve from 0.00868\n",
            "67/67 [==============================] - 1s 11ms/step - loss: 0.0014 - val_loss: 0.0100\n",
            "Epoch 85/300\n",
            "62/67 [==========================>...] - ETA: 0s - loss: 7.4299e-04\n",
            "Epoch 00085: val_loss did not improve from 0.00868\n",
            "67/67 [==============================] - 1s 10ms/step - loss: 0.0011 - val_loss: 0.0093\n",
            "Epoch 86/300\n",
            "66/67 [============================>.] - ETA: 0s - loss: 8.1428e-04\n",
            "Epoch 00086: val_loss improved from 0.00868 to 0.00851, saving model to my_best_model.hdf5\n",
            "67/67 [==============================] - 1s 11ms/step - loss: 8.4146e-04 - val_loss: 0.0085\n",
            "Epoch 87/300\n",
            "66/67 [============================>.] - ETA: 0s - loss: 7.4213e-04\n",
            "Epoch 00087: val_loss did not improve from 0.00851\n",
            "67/67 [==============================] - 1s 11ms/step - loss: 7.5427e-04 - val_loss: 0.0086\n",
            "Epoch 88/300\n",
            "67/67 [==============================] - ETA: 0s - loss: 7.6410e-04\n",
            "Epoch 00088: val_loss improved from 0.00851 to 0.00848, saving model to my_best_model.hdf5\n",
            "67/67 [==============================] - 1s 11ms/step - loss: 7.6410e-04 - val_loss: 0.0085\n",
            "Epoch 89/300\n",
            "64/67 [===========================>..] - ETA: 0s - loss: 6.4558e-04\n",
            "Epoch 00089: val_loss improved from 0.00848 to 0.00839, saving model to my_best_model.hdf5\n",
            "67/67 [==============================] - 1s 11ms/step - loss: 8.1092e-04 - val_loss: 0.0084\n",
            "Epoch 90/300\n",
            "67/67 [==============================] - ETA: 0s - loss: 8.1072e-04\n",
            "Epoch 00090: val_loss did not improve from 0.00839\n",
            "67/67 [==============================] - 1s 11ms/step - loss: 8.1072e-04 - val_loss: 0.0084\n",
            "Epoch 91/300\n",
            "66/67 [============================>.] - ETA: 0s - loss: 8.6463e-04\n",
            "Epoch 00091: val_loss did not improve from 0.00839\n",
            "67/67 [==============================] - 1s 11ms/step - loss: 9.1448e-04 - val_loss: 0.0091\n",
            "Epoch 92/300\n",
            "62/67 [==========================>...] - ETA: 0s - loss: 4.9984e-04\n",
            "Epoch 00092: val_loss improved from 0.00839 to 0.00830, saving model to my_best_model.hdf5\n",
            "67/67 [==============================] - 1s 11ms/step - loss: 8.0457e-04 - val_loss: 0.0083\n",
            "Epoch 93/300\n",
            "65/67 [============================>.] - ETA: 0s - loss: 7.7542e-04\n",
            "Epoch 00093: val_loss did not improve from 0.00830\n",
            "67/67 [==============================] - 1s 11ms/step - loss: 8.6564e-04 - val_loss: 0.0085\n",
            "Epoch 94/300\n",
            "66/67 [============================>.] - ETA: 0s - loss: 8.9946e-04\n",
            "Epoch 00094: val_loss did not improve from 0.00830\n",
            "67/67 [==============================] - 1s 10ms/step - loss: 9.7822e-04 - val_loss: 0.0091\n",
            "Epoch 95/300\n",
            "62/67 [==========================>...] - ETA: 0s - loss: 6.9036e-04\n",
            "Epoch 00095: val_loss did not improve from 0.00830\n",
            "67/67 [==============================] - 1s 11ms/step - loss: 0.0012 - val_loss: 0.0089\n",
            "Epoch 96/300\n",
            "65/67 [============================>.] - ETA: 0s - loss: 9.6895e-04\n",
            "Epoch 00096: val_loss did not improve from 0.00830\n",
            "67/67 [==============================] - 1s 11ms/step - loss: 0.0011 - val_loss: 0.0089\n",
            "Epoch 97/300\n",
            "65/67 [============================>.] - ETA: 0s - loss: 9.8496e-04\n",
            "Epoch 00097: val_loss did not improve from 0.00830\n",
            "67/67 [==============================] - 1s 11ms/step - loss: 0.0011 - val_loss: 0.0092\n",
            "Epoch 98/300\n",
            "65/67 [============================>.] - ETA: 0s - loss: 7.9765e-04\n",
            "Epoch 00098: val_loss improved from 0.00830 to 0.00814, saving model to my_best_model.hdf5\n",
            "67/67 [==============================] - 1s 11ms/step - loss: 8.8921e-04 - val_loss: 0.0081\n",
            "Epoch 99/300\n",
            "66/67 [============================>.] - ETA: 0s - loss: 6.4180e-04\n",
            "Epoch 00099: val_loss improved from 0.00814 to 0.00797, saving model to my_best_model.hdf5\n",
            "67/67 [==============================] - 1s 11ms/step - loss: 6.8060e-04 - val_loss: 0.0080\n",
            "Epoch 100/300\n",
            "64/67 [===========================>..] - ETA: 0s - loss: 6.4770e-04\n",
            "Epoch 00100: val_loss did not improve from 0.00797\n",
            "67/67 [==============================] - 1s 11ms/step - loss: 7.7451e-04 - val_loss: 0.0084\n",
            "Epoch 101/300\n",
            "62/67 [==========================>...] - ETA: 0s - loss: 4.5287e-04\n",
            "Epoch 00101: val_loss improved from 0.00797 to 0.00796, saving model to my_best_model.hdf5\n",
            "67/67 [==============================] - 1s 11ms/step - loss: 7.2528e-04 - val_loss: 0.0080\n",
            "Epoch 102/300\n",
            "66/67 [============================>.] - ETA: 0s - loss: 7.1252e-04\n",
            "Epoch 00102: val_loss did not improve from 0.00796\n",
            "67/67 [==============================] - 1s 11ms/step - loss: 7.3963e-04 - val_loss: 0.0080\n",
            "Epoch 103/300\n",
            "63/67 [===========================>..] - ETA: 0s - loss: 5.2891e-04\n",
            "Epoch 00103: val_loss improved from 0.00796 to 0.00793, saving model to my_best_model.hdf5\n",
            "67/67 [==============================] - 1s 11ms/step - loss: 7.7739e-04 - val_loss: 0.0079\n",
            "Epoch 104/300\n",
            "62/67 [==========================>...] - ETA: 0s - loss: 4.4562e-04\n",
            "Epoch 00104: val_loss improved from 0.00793 to 0.00792, saving model to my_best_model.hdf5\n",
            "67/67 [==============================] - 1s 11ms/step - loss: 7.5364e-04 - val_loss: 0.0079\n",
            "Epoch 105/300\n",
            "65/67 [============================>.] - ETA: 0s - loss: 5.9964e-04\n",
            "Epoch 00105: val_loss improved from 0.00792 to 0.00786, saving model to my_best_model.hdf5\n",
            "67/67 [==============================] - 1s 11ms/step - loss: 6.5977e-04 - val_loss: 0.0079\n",
            "Epoch 106/300\n",
            "63/67 [===========================>..] - ETA: 0s - loss: 6.1789e-04\n",
            "Epoch 00106: val_loss did not improve from 0.00786\n",
            "67/67 [==============================] - 1s 11ms/step - loss: 8.3721e-04 - val_loss: 0.0086\n",
            "Epoch 107/300\n",
            "67/67 [==============================] - ETA: 0s - loss: 8.2930e-04\n",
            "Epoch 00107: val_loss improved from 0.00786 to 0.00777, saving model to my_best_model.hdf5\n",
            "67/67 [==============================] - 1s 11ms/step - loss: 8.2930e-04 - val_loss: 0.0078\n",
            "Epoch 108/300\n",
            "63/67 [===========================>..] - ETA: 0s - loss: 7.3554e-04\n",
            "Epoch 00108: val_loss did not improve from 0.00777\n",
            "67/67 [==============================] - 1s 10ms/step - loss: 0.0011 - val_loss: 0.0088\n",
            "Epoch 109/300\n",
            "65/67 [============================>.] - ETA: 0s - loss: 9.8970e-04\n",
            "Epoch 00109: val_loss did not improve from 0.00777\n",
            "67/67 [==============================] - 1s 11ms/step - loss: 0.0011 - val_loss: 0.0080\n",
            "Epoch 110/300\n",
            "65/67 [============================>.] - ETA: 0s - loss: 9.6562e-04\n",
            "Epoch 00110: val_loss did not improve from 0.00777\n",
            "67/67 [==============================] - 1s 11ms/step - loss: 0.0012 - val_loss: 0.0091\n",
            "Epoch 111/300\n",
            "66/67 [============================>.] - ETA: 0s - loss: 0.0011    \n",
            "Epoch 00111: val_loss did not improve from 0.00777\n",
            "67/67 [==============================] - 1s 11ms/step - loss: 0.0011 - val_loss: 0.0101\n",
            "Epoch 112/300\n",
            "64/67 [===========================>..] - ETA: 0s - loss: 8.1834e-04\n",
            "Epoch 00112: val_loss did not improve from 0.00777\n",
            "67/67 [==============================] - 1s 11ms/step - loss: 9.5224e-04 - val_loss: 0.0083\n",
            "Epoch 113/300\n",
            "66/67 [============================>.] - ETA: 0s - loss: 5.5092e-04\n",
            "Epoch 00113: val_loss did not improve from 0.00777\n",
            "67/67 [==============================] - 1s 11ms/step - loss: 5.7129e-04 - val_loss: 0.0079\n",
            "Epoch 114/300\n",
            "66/67 [============================>.] - ETA: 0s - loss: 6.5217e-04\n",
            "Epoch 00114: val_loss did not improve from 0.00777\n",
            "67/67 [==============================] - 1s 11ms/step - loss: 6.9116e-04 - val_loss: 0.0078\n",
            "Epoch 115/300\n",
            "64/67 [===========================>..] - ETA: 0s - loss: 5.2333e-04\n",
            "Epoch 00115: val_loss did not improve from 0.00777\n",
            "67/67 [==============================] - 1s 11ms/step - loss: 6.2394e-04 - val_loss: 0.0078\n",
            "Epoch 116/300\n",
            "64/67 [===========================>..] - ETA: 0s - loss: 5.7310e-04\n",
            "Epoch 00116: val_loss improved from 0.00777 to 0.00766, saving model to my_best_model.hdf5\n",
            "67/67 [==============================] - 1s 11ms/step - loss: 6.7315e-04 - val_loss: 0.0077\n",
            "Epoch 117/300\n",
            "65/67 [============================>.] - ETA: 0s - loss: 6.6229e-04\n",
            "Epoch 00117: val_loss did not improve from 0.00766\n",
            "67/67 [==============================] - 1s 11ms/step - loss: 7.4933e-04 - val_loss: 0.0080\n",
            "Epoch 118/300\n",
            "65/67 [============================>.] - ETA: 0s - loss: 6.1783e-04\n",
            "Epoch 00118: val_loss improved from 0.00766 to 0.00766, saving model to my_best_model.hdf5\n",
            "67/67 [==============================] - 1s 11ms/step - loss: 6.8809e-04 - val_loss: 0.0077\n",
            "Epoch 119/300\n",
            "63/67 [===========================>..] - ETA: 0s - loss: 5.1508e-04\n",
            "Epoch 00119: val_loss did not improve from 0.00766\n",
            "67/67 [==============================] - 1s 11ms/step - loss: 7.2040e-04 - val_loss: 0.0079\n",
            "Epoch 120/300\n",
            "66/67 [============================>.] - ETA: 0s - loss: 7.1793e-04\n",
            "Epoch 00120: val_loss improved from 0.00766 to 0.00762, saving model to my_best_model.hdf5\n",
            "67/67 [==============================] - 1s 11ms/step - loss: 7.4961e-04 - val_loss: 0.0076\n",
            "Epoch 121/300\n",
            "66/67 [============================>.] - ETA: 0s - loss: 7.4330e-04\n",
            "Epoch 00121: val_loss did not improve from 0.00762\n",
            "67/67 [==============================] - 1s 11ms/step - loss: 7.9794e-04 - val_loss: 0.0079\n",
            "Epoch 122/300\n",
            "65/67 [============================>.] - ETA: 0s - loss: 7.3516e-04\n",
            "Epoch 00122: val_loss did not improve from 0.00762\n",
            "67/67 [==============================] - 1s 11ms/step - loss: 8.3816e-04 - val_loss: 0.0081\n",
            "Epoch 123/300\n",
            "65/67 [============================>.] - ETA: 0s - loss: 9.1190e-04\n",
            "Epoch 00123: val_loss did not improve from 0.00762\n",
            "67/67 [==============================] - 1s 11ms/step - loss: 9.9868e-04 - val_loss: 0.0081\n",
            "Epoch 124/300\n",
            "67/67 [==============================] - ETA: 0s - loss: 6.7731e-04\n",
            "Epoch 00124: val_loss improved from 0.00762 to 0.00751, saving model to my_best_model.hdf5\n",
            "67/67 [==============================] - 1s 11ms/step - loss: 6.7731e-04 - val_loss: 0.0075\n",
            "Epoch 125/300\n",
            "65/67 [============================>.] - ETA: 0s - loss: 7.7364e-04\n",
            "Epoch 00125: val_loss did not improve from 0.00751\n",
            "67/67 [==============================] - 1s 11ms/step - loss: 9.2004e-04 - val_loss: 0.0085\n",
            "Epoch 126/300\n",
            "62/67 [==========================>...] - ETA: 0s - loss: 5.3185e-04\n",
            "Epoch 00126: val_loss did not improve from 0.00751\n",
            "67/67 [==============================] - 1s 11ms/step - loss: 8.8676e-04 - val_loss: 0.0084\n",
            "Epoch 127/300\n",
            "63/67 [===========================>..] - ETA: 0s - loss: 5.3879e-04\n",
            "Epoch 00127: val_loss did not improve from 0.00751\n",
            "67/67 [==============================] - 1s 10ms/step - loss: 7.6082e-04 - val_loss: 0.0077\n",
            "Epoch 128/300\n",
            "62/67 [==========================>...] - ETA: 0s - loss: 4.3802e-04\n",
            "Epoch 00128: val_loss did not improve from 0.00751\n",
            "67/67 [==============================] - 1s 10ms/step - loss: 7.1363e-04 - val_loss: 0.0077\n",
            "Epoch 129/300\n",
            "63/67 [===========================>..] - ETA: 0s - loss: 5.9772e-04\n",
            "Epoch 00129: val_loss did not improve from 0.00751\n",
            "67/67 [==============================] - 1s 11ms/step - loss: 8.0692e-04 - val_loss: 0.0084\n",
            "Epoch 130/300\n",
            "62/67 [==========================>...] - ETA: 0s - loss: 3.6524e-04\n",
            "Epoch 00130: val_loss improved from 0.00751 to 0.00751, saving model to my_best_model.hdf5\n",
            "67/67 [==============================] - 1s 11ms/step - loss: 5.3236e-04 - val_loss: 0.0075\n",
            "Epoch 131/300\n",
            "63/67 [===========================>..] - ETA: 0s - loss: 4.8990e-04\n",
            "Epoch 00131: val_loss did not improve from 0.00751\n",
            "67/67 [==============================] - 1s 11ms/step - loss: 6.8005e-04 - val_loss: 0.0075\n",
            "Epoch 132/300\n",
            "63/67 [===========================>..] - ETA: 0s - loss: 4.2655e-04\n",
            "Epoch 00132: val_loss did not improve from 0.00751\n",
            "67/67 [==============================] - 1s 11ms/step - loss: 5.4627e-04 - val_loss: 0.0076\n",
            "Epoch 133/300\n",
            "67/67 [==============================] - ETA: 0s - loss: 7.0577e-04\n",
            "Epoch 00133: val_loss did not improve from 0.00751\n",
            "67/67 [==============================] - 1s 11ms/step - loss: 7.0577e-04 - val_loss: 0.0077\n",
            "Epoch 134/300\n",
            "63/67 [===========================>..] - ETA: 0s - loss: 4.2854e-04\n",
            "Epoch 00134: val_loss did not improve from 0.00751\n",
            "67/67 [==============================] - 1s 11ms/step - loss: 5.6593e-04 - val_loss: 0.0076\n",
            "Epoch 135/300\n",
            "66/67 [============================>.] - ETA: 0s - loss: 5.6908e-04\n",
            "Epoch 00135: val_loss improved from 0.00751 to 0.00749, saving model to my_best_model.hdf5\n",
            "67/67 [==============================] - 1s 12ms/step - loss: 5.8441e-04 - val_loss: 0.0075\n",
            "Epoch 136/300\n",
            "63/67 [===========================>..] - ETA: 0s - loss: 4.9890e-04\n",
            "Epoch 00136: val_loss did not improve from 0.00749\n",
            "67/67 [==============================] - 1s 11ms/step - loss: 6.9401e-04 - val_loss: 0.0076\n",
            "Epoch 137/300\n",
            "67/67 [==============================] - ETA: 0s - loss: 5.0121e-04\n",
            "Epoch 00137: val_loss improved from 0.00749 to 0.00738, saving model to my_best_model.hdf5\n",
            "67/67 [==============================] - 1s 11ms/step - loss: 5.0121e-04 - val_loss: 0.0074\n",
            "Epoch 138/300\n",
            "64/67 [===========================>..] - ETA: 0s - loss: 5.2670e-04\n",
            "Epoch 00138: val_loss did not improve from 0.00738\n",
            "67/67 [==============================] - 1s 11ms/step - loss: 6.1130e-04 - val_loss: 0.0074\n",
            "Epoch 139/300\n",
            "63/67 [===========================>..] - ETA: 0s - loss: 5.1543e-04\n",
            "Epoch 00139: val_loss did not improve from 0.00738\n",
            "67/67 [==============================] - 1s 10ms/step - loss: 7.8251e-04 - val_loss: 0.0074\n",
            "Epoch 140/300\n",
            "64/67 [===========================>..] - ETA: 0s - loss: 6.9072e-04\n",
            "Epoch 00140: val_loss did not improve from 0.00738\n",
            "67/67 [==============================] - 1s 11ms/step - loss: 8.8509e-04 - val_loss: 0.0076\n",
            "Epoch 141/300\n",
            "63/67 [===========================>..] - ETA: 0s - loss: 7.3534e-04\n",
            "Epoch 00141: val_loss did not improve from 0.00738\n",
            "67/67 [==============================] - 1s 11ms/step - loss: 0.0010 - val_loss: 0.0086\n",
            "Epoch 142/300\n",
            "63/67 [===========================>..] - ETA: 0s - loss: 6.8063e-04\n",
            "Epoch 00142: val_loss did not improve from 0.00738\n",
            "67/67 [==============================] - 1s 10ms/step - loss: 9.2963e-04 - val_loss: 0.0083\n",
            "Epoch 143/300\n",
            "65/67 [============================>.] - ETA: 0s - loss: 8.2388e-04\n",
            "Epoch 00143: val_loss did not improve from 0.00738\n",
            "67/67 [==============================] - 1s 11ms/step - loss: 9.1608e-04 - val_loss: 0.0077\n",
            "Epoch 144/300\n",
            "63/67 [===========================>..] - ETA: 0s - loss: 8.2943e-04\n",
            "Epoch 00144: val_loss did not improve from 0.00738\n",
            "67/67 [==============================] - 1s 11ms/step - loss: 0.0013 - val_loss: 0.0092\n",
            "Epoch 145/300\n",
            "62/67 [==========================>...] - ETA: 0s - loss: 0.0013    \n",
            "Epoch 00145: val_loss did not improve from 0.00738\n",
            "67/67 [==============================] - 1s 11ms/step - loss: 0.0017 - val_loss: 0.0138\n",
            "Epoch 146/300\n",
            "66/67 [============================>.] - ETA: 0s - loss: 0.0012    \n",
            "Epoch 00146: val_loss did not improve from 0.00738\n",
            "67/67 [==============================] - 1s 11ms/step - loss: 0.0013 - val_loss: 0.0088\n",
            "Epoch 147/300\n",
            "65/67 [============================>.] - ETA: 0s - loss: 7.8507e-04\n",
            "Epoch 00147: val_loss did not improve from 0.00738\n",
            "67/67 [==============================] - 1s 11ms/step - loss: 8.3327e-04 - val_loss: 0.0087\n"
          ]
        }
      ]
    },
    {
      "cell_type": "markdown",
      "metadata": {
        "papermill": {
          "duration": 0.217811,
          "end_time": "2021-11-09T08:24:47.005353",
          "exception": false,
          "start_time": "2021-11-09T08:24:46.787542",
          "status": "completed"
        },
        "tags": [],
        "id": "b59b2596"
      },
      "source": [
        "# Predictions using LSTM using testX and showing a line graph versus the actual testY\n"
      ],
      "id": "b59b2596"
    },
    {
      "cell_type": "code",
      "metadata": {
        "execution": {
          "iopub.execute_input": "2021-11-09T08:24:47.442254Z",
          "iopub.status.busy": "2021-11-09T08:24:47.441292Z",
          "iopub.status.idle": "2021-11-09T08:24:48.147090Z",
          "shell.execute_reply": "2021-11-09T08:24:48.148309Z",
          "shell.execute_reply.started": "2021-11-09T07:54:23.503949Z"
        },
        "papermill": {
          "duration": 0.924691,
          "end_time": "2021-11-09T08:24:48.148562",
          "exception": false,
          "start_time": "2021-11-09T08:24:47.223871",
          "status": "completed"
        },
        "tags": [],
        "id": "4a57e509"
      },
      "source": [
        "predicted_btc_price_test_data = model_from_saved_checkpoint.predict(testX)\n",
        "\n",
        "predicted_btc_price_test_data = scaler_test.inverse_transform(predicted_btc_price_test_data.reshape(-1, 1))\n",
        "\n",
        "test_actual = scaler_test.inverse_transform(testY.reshape(-1, 1))"
      ],
      "id": "4a57e509",
      "execution_count": null,
      "outputs": []
    },
    {
      "cell_type": "code",
      "metadata": {
        "execution": {
          "iopub.execute_input": "2021-11-09T08:24:48.631238Z",
          "iopub.status.busy": "2021-11-09T08:24:48.630519Z",
          "iopub.status.idle": "2021-11-09T08:24:48.869179Z",
          "shell.execute_reply": "2021-11-09T08:24:48.868519Z",
          "shell.execute_reply.started": "2021-11-09T07:54:24.206344Z"
        },
        "papermill": {
          "duration": 0.475269,
          "end_time": "2021-11-09T08:24:48.869315",
          "exception": false,
          "start_time": "2021-11-09T08:24:48.394046",
          "status": "completed"
        },
        "tags": [],
        "id": "6fe4f8e1",
        "colab": {
          "base_uri": "https://localhost:8080/",
          "height": 425
        },
        "outputId": "54025e24-c4fa-4cee-9b70-77dd57823db1"
      },
      "source": [
        "plt.figure(figsize=(16,7))\n",
        "\n",
        "plt.plot(predicted_btc_price_test_data, 'r', marker='.', label='Predicted Test')\n",
        "\n",
        "plt.plot(test_actual, marker='.', label='Actual Test')\n",
        "\n",
        "plt.legend()\n",
        "plt.show()"
      ],
      "id": "6fe4f8e1",
      "execution_count": null,
      "outputs": [
        {
          "output_type": "display_data",
          "data": {
            "image/png": "[encoded data removed]",
            "text/plain": [
              "<Figure size 1152x504 with 1 Axes>"
            ]
          },
          "metadata": {}
        }
      ]
    },
    {
      "cell_type": "markdown",
      "metadata": {
        "papermill": {
          "duration": 0.238642,
          "end_time": "2021-11-09T08:24:49.336671",
          "exception": false,
          "start_time": "2021-11-09T08:24:49.098029",
          "status": "completed"
        },
        "tags": [],
        "id": "61e60010"
      },
      "source": [
        "# Prediction of LSTM using trainX and presenting a line graph versus the actual trainY"
      ],
      "id": "61e60010"
    },
    {
      "cell_type": "code",
      "metadata": {
        "execution": {
          "iopub.execute_input": "2021-11-09T08:24:49.804710Z",
          "iopub.status.busy": "2021-11-09T08:24:49.804055Z",
          "iopub.status.idle": "2021-11-09T08:24:50.080720Z",
          "shell.execute_reply": "2021-11-09T08:24:50.079836Z",
          "shell.execute_reply.started": "2021-11-09T07:54:24.406259Z"
        },
        "papermill": {
          "duration": 0.514588,
          "end_time": "2021-11-09T08:24:50.080872",
          "exception": false,
          "start_time": "2021-11-09T08:24:49.566284",
          "status": "completed"
        },
        "tags": [],
        "id": "e2be035e"
      },
      "source": [
        "predicted_btc_price_train_data = model_from_saved_checkpoint.predict(trainX)\n",
        "\n",
        "predicted_btc_price_train_data = scaler_train.inverse_transform(predicted_btc_price_train_data.reshape(-1, 1))\n",
        "\n",
        "train_actual = scaler_train.inverse_transform(trainY.reshape(-1, 1))"
      ],
      "id": "e2be035e",
      "execution_count": null,
      "outputs": []
    },
    {
      "cell_type": "code",
      "metadata": {
        "execution": {
          "iopub.execute_input": "2021-11-09T08:24:50.553036Z",
          "iopub.status.busy": "2021-11-09T08:24:50.548756Z",
          "iopub.status.idle": "2021-11-09T08:24:50.791501Z",
          "shell.execute_reply": "2021-11-09T08:24:50.791940Z",
          "shell.execute_reply.started": "2021-11-09T07:54:24.729679Z"
        },
        "papermill": {
          "duration": 0.481274,
          "end_time": "2021-11-09T08:24:50.792100",
          "exception": false,
          "start_time": "2021-11-09T08:24:50.310826",
          "status": "completed"
        },
        "tags": [],
        "id": "68fe8243",
        "colab": {
          "base_uri": "https://localhost:8080/",
          "height": 425
        },
        "outputId": "d36290f9-3f12-4509-9745-849929d4fd2a"
      },
      "source": [
        "plt.figure(figsize=(16,7))\n",
        "\n",
        "plt.plot(predicted_btc_price_train_data, 'r', marker='.', label='Predicted Train')\n",
        "\n",
        "plt.plot(train_actual, marker='.', label='Actual Train')\n",
        "\n",
        "plt.legend()\n",
        "plt.show()"
      ],
      "id": "68fe8243",
      "execution_count": null,
      "outputs": [
        {
          "output_type": "display_data",
          "data": {
            "image/png": "[encoded data removed]",
            "text/plain": [
              "<Figure size 1152x504 with 1 Axes>"
            ]
          },
          "metadata": {}
        }
      ]
    },
    {
      "cell_type": "markdown",
      "metadata": {
        "papermill": {
          "duration": 0.217656,
          "end_time": "2021-11-09T08:24:51.229330",
          "exception": false,
          "start_time": "2021-11-09T08:24:51.011674",
          "status": "completed"
        },
        "tags": [],
        "id": "0c0ddaef"
      },
      "source": [
        "# RMSE - Test Data"
      ],
      "id": "0c0ddaef"
    },
    {
      "cell_type": "code",
      "metadata": {
        "execution": {
          "iopub.execute_input": "2021-11-09T08:24:51.673734Z",
          "iopub.status.busy": "2021-11-09T08:24:51.672794Z",
          "iopub.status.idle": "2021-11-09T08:24:51.678780Z",
          "shell.execute_reply": "2021-11-09T08:24:51.679241Z",
          "shell.execute_reply.started": "2021-11-09T07:54:24.941735Z"
        },
        "papermill": {
          "duration": 0.229983,
          "end_time": "2021-11-09T08:24:51.679408",
          "exception": false,
          "start_time": "2021-11-09T08:24:51.449425",
          "status": "completed"
        },
        "tags": [],
        "id": "f528eac3",
        "colab": {
          "base_uri": "https://localhost:8080/"
        },
        "outputId": "0f62a190-4041-4645-c5dd-f5d13ed0a6e7"
      },
      "source": [
        "rmse_lstm_test = math.sqrt(mean_squared_error(test_actual, predicted_btc_price_test_data))\n",
        "\n",
        "print('Test RMSE: %.3f' % rmse_lstm_test)\n"
      ],
      "id": "f528eac3",
      "execution_count": null,
      "outputs": [
        {
          "output_type": "stream",
          "name": "stdout",
          "text": [
            "Test RMSE: 1988.002\n"
          ]
        }
      ]
    },
    {
      "cell_type": "markdown",
      "metadata": {
        "papermill": {
          "duration": 0.219609,
          "end_time": "2021-11-09T08:24:52.119977",
          "exception": false,
          "start_time": "2021-11-09T08:24:51.900368",
          "status": "completed"
        },
        "tags": [],
        "id": "3875de26"
      },
      "source": [
        "# RMSE - Train Data"
      ],
      "id": "3875de26"
    },
    {
      "cell_type": "code",
      "metadata": {
        "execution": {
          "iopub.execute_input": "2021-11-09T08:24:52.578248Z",
          "iopub.status.busy": "2021-11-09T08:24:52.577170Z",
          "iopub.status.idle": "2021-11-09T08:24:52.583165Z",
          "shell.execute_reply": "2021-11-09T08:24:52.583695Z",
          "shell.execute_reply.started": "2021-11-09T07:54:24.950091Z"
        },
        "papermill": {
          "duration": 0.235012,
          "end_time": "2021-11-09T08:24:52.583860",
          "exception": false,
          "start_time": "2021-11-09T08:24:52.348848",
          "status": "completed"
        },
        "tags": [],
        "id": "4694569c",
        "colab": {
          "base_uri": "https://localhost:8080/"
        },
        "outputId": "fa6c5674-6d83-4cc0-cc65-cc6be5cd3a93"
      },
      "source": [
        "rmse_lstm_train = math.sqrt(mean_squared_error(train_actual, predicted_btc_price_train_data))\n",
        "\n",
        "print('Test RMSE: %.3f' % rmse_lstm_train)"
      ],
      "id": "4694569c",
      "execution_count": null,
      "outputs": [
        {
          "output_type": "stream",
          "name": "stdout",
          "text": [
            "Test RMSE: 1421.926\n"
          ]
        }
      ]
    }
  ]
}