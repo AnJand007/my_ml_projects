{
  "nbformat": 4,
  "nbformat_minor": 0,
  "metadata": {
    "colab": {
      "name": "Fraud Detection.ipynb",
      "provenance": []
    },
    "kernelspec": {
      "name": "python3",
      "display_name": "Python 3"
    },
    "language_info": {
      "name": "python"
    }
  },
  "cells": [
    {
      "cell_type": "code",
      "execution_count": null,
      "metadata": {
        "id": "ckLgjvYdr7kh"
      },
      "outputs": [],
      "source": [
        "import numpy as np\n",
        "import pandas as pd\n",
        "import matplotlib.pyplot as plt\n",
        "import seaborn as sns\n",
        "from sklearn import preprocessing\n",
        "from sklearn.metrics import roc_auc_score\n",
        "from sklearn.model_selection import StratifiedKFold\n",
        "from lightgbm import LGBMClassifier\n",
        "import time\n",
        "\n",
        "seed=47\n",
        "\n",
        "import os\n"
      ]
    },
    {
      "cell_type": "code",
      "source": [
        "invoice_test = pd.read_csv('invoice_test.csv')\n",
        "invoice_train = pd.read_csv('invoice_train.csv')\n",
        "client_test = pd.read_csv('client_test.csv')\n",
        "client_train = pd.read_csv('client_train.csv')\n",
        "sample_submission = pd.read_csv('SampleSubmission (2).csv')"
      ],
      "metadata": {
        "colab": {
          "base_uri": "https://localhost:8080/"
        },
        "id": "-EJXfXp6vWTp",
        "outputId": "5c63848d-8a34-4d22-e73f-19160a2b7623"
      },
      "execution_count": null,
      "outputs": [
        {
          "output_type": "stream",
          "name": "stderr",
          "text": [
            "/usr/local/lib/python3.7/dist-packages/IPython/core/interactiveshell.py:2882: DtypeWarning: Columns (0,1,15) have mixed types.Specify dtype option on import or set low_memory=False.\n",
            "  exec(code_obj, self.user_global_ns, self.user_ns)\n",
            "/usr/local/lib/python3.7/dist-packages/IPython/core/interactiveshell.py:2882: DtypeWarning: Columns (1,4) have mixed types.Specify dtype option on import or set low_memory=False.\n",
            "  exec(code_obj, self.user_global_ns, self.user_ns)\n"
          ]
        }
      ]
    },
    {
      "cell_type": "code",
      "source": [
        "ds = client_train.groupby(['target'])['client_id'].count()\n",
        "plt.bar(x=ds.index, height=ds.values, tick_label =[0,1])\n",
        "plt.title('target distribution')\n",
        "plt.show()"
      ],
      "metadata": {
        "colab": {
          "base_uri": "https://localhost:8080/",
          "height": 281
        },
        "id": "A1INOQ2Bw8zs",
        "outputId": "7fb8aa5d-f52a-4cf6-cd8b-9372e1c5cff2"
      },
      "execution_count": null,
      "outputs": [
        {
          "output_type": "display_data",
          "data": {
            "text/plain": [
              "<Figure size 432x288 with 1 Axes>"
            ],
            "image/png": "[encoded data removed]"
          },
          "metadata": {
            "needs_background": "light"
          }
        }
      ]
    },
    {
      "cell_type": "code",
      "source": [
        "for col in ['disrict','region','client_catg']:\n",
        "    ds = client_train.groupby([col])['client_id'].count()\n",
        "    plt.bar(x=ds.index, height=ds.values)\n",
        "    plt.title(col+' distribution')\n",
        "    plt.show()"
      ],
      "metadata": {
        "colab": {
          "base_uri": "https://localhost:8080/",
          "height": 809
        },
        "id": "W_Bc1kF4xBhE",
        "outputId": "c11416da-0caf-4e9c-af7c-40ea35e01bac"
      },
      "execution_count": null,
      "outputs": [
        {
          "output_type": "display_data",
          "data": {
            "text/plain": [
              "<Figure size 432x288 with 1 Axes>"
            ],
            "image/png": "[encoded data removed]"
          },
          "metadata": {
            "needs_background": "light"
          }
        },
        {
          "output_type": "display_data",
          "data": {
            "text/plain": [
              "<Figure size 432x288 with 1 Axes>"
            ],
            "image/png": "[encoded data removed]"
          },
          "metadata": {
            "needs_background": "light"
          }
        },
        {
          "output_type": "display_data",
          "data": {
            "text/plain": [
              "<Figure size 432x288 with 1 Axes>"
            ],
            "image/png": "[encoded data removed]"
          },
          "metadata": {
            "needs_background": "light"
          }
        }
      ]
    },
    {
      "cell_type": "code",
      "source": [
        "print('Number of unique values in invoice_train:')\n",
        "for col in invoice_train.columns:\n",
        "    print(f\"{col} - {invoice_train[col].nunique()}\")"
      ],
      "metadata": {
        "colab": {
          "base_uri": "https://localhost:8080/"
        },
        "id": "NxW2-rVFxT_Q",
        "outputId": "17d41f6e-0e02-42f9-c9d2-0a185151af20"
      },
      "execution_count": null,
      "outputs": [
        {
          "output_type": "stream",
          "name": "stdout",
          "text": [
            "Number of unique values in invoice_train:\n",
            "client_id - 1293\n",
            "invoice_date - 3448\n",
            "tarif_type - 10\n",
            "counter_number - 2043\n",
            "counter_statue - 5\n",
            "counter_code - 19\n",
            "reading_remarque - 4\n",
            "counter_coefficient - 1\n",
            "consommation_level_1 - 1963\n",
            "consommation_level_2 - 1399\n",
            "consommation_level_3 - 547\n",
            "consommation_level_4 - 665\n",
            "old_index - 22353\n",
            "new_index - 22745\n",
            "months_number - 39\n",
            "counter_type - 2\n"
          ]
        }
      ]
    },
    {
      "cell_type": "code",
      "source": [
        "def feature_change(cl, inv):\n",
        "\n",
        "    cl['client_catg'] = cl['client_catg'].astype('category')\n",
        "    cl['disrict'] = cl['disrict'].astype('category')\n",
        "    cl['region'] = cl['region'].astype('category')\n",
        "    cl['region_group'] = cl['region'].apply(lambda x: 100 if x<100 else 300 if x>300 else 200)\n",
        "    cl['creation_date'] = pd.to_datetime(cl['creation_date'])\n",
        "    \n",
        "    cl['coop_time'] = (2019 - cl['creation_date'].dt.year)*12 - cl['creation_date'].dt.month\n",
        "\n",
        "    inv['counter_type'] = inv['counter_type'].map({\"ELEC\":1,\"GAZ\":0})\n",
        "    inv['counter_statue'] = inv['counter_statue'].map({0:0,1:1,2:2,3:3,4:4,5:5,769:5,'0':0,'5':5,'1':1,'4':4,'A':0,618:5,269375:5,46:5,420:5})\n",
        "    \n",
        "    inv['invoice_date'] = pd.to_datetime(inv['invoice_date'], dayfirst=True)\n",
        "    inv['invoice_month'] = inv['invoice_date'].dt.month\n",
        "    inv['invoice_year'] = inv['invoice_date'].dt.year\n",
        "    inv['is_weekday'] = ((pd.DatetimeIndex(inv.invoice_date).dayofweek) // 5 == 1).astype(float)\n",
        "    inv['delta_index'] = inv['new_index'] - inv['old_index']\n",
        "    \n",
        "    return cl, inv"
      ],
      "metadata": {
        "id": "_jw0uCCTxdtp"
      },
      "execution_count": null,
      "outputs": []
    },
    {
      "cell_type": "code",
      "source": [
        "client_train1, invoice_train1 = feature_change(client_train, invoice_train)\n",
        "client_test1, invoice_test1 = feature_change(client_test, invoice_test)"
      ],
      "metadata": {
        "id": "5UnLbwxOxklV"
      },
      "execution_count": null,
      "outputs": []
    },
    {
      "cell_type": "code",
      "source": [
        "def agg_feature(invoice, client_df, agg_stat):\n",
        "    \n",
        "    invoice['delta_time'] = invoice.sort_values(['client_id','invoice_date']).groupby('client_id')['invoice_date'].diff().dt.days.reset_index(drop=True)\n",
        "    agg_trans = invoice.groupby('client_id')[agg_stat+['delta_time']].agg(['mean','std','min','max'])\n",
        "    \n",
        "    agg_trans.columns = ['_'.join(col).strip() for col in agg_trans.columns.values]\n",
        "    agg_trans.reset_index(inplace=True)\n",
        "\n",
        "    df = invoice.groupby('client_id').size().reset_index(name='transactions_count')\n",
        "    agg_trans = pd.merge(df, agg_trans, on='client_id', how='left')\n",
        "    \n",
        "    weekday_avg = invoice.groupby('client_id')[['is_weekday']].agg(['mean'])\n",
        "    weekday_avg.columns = ['_'.join(col).strip() for col in weekday_avg.columns.values]\n",
        "    weekday_avg.reset_index(inplace=True)\n",
        "    client_df = pd.merge(client_df, weekday_avg, on='client_id', how='left')\n",
        "    \n",
        "    full_df = pd.merge(client_df, agg_trans, on='client_id', how='left')\n",
        "    \n",
        "    full_df['invoice_per_cooperation'] = full_df['transactions_count'] / full_df['coop_time']\n",
        "    \n",
        "    return full_df"
      ],
      "metadata": {
        "id": "KChDK-MixrCR"
      },
      "execution_count": null,
      "outputs": []
    },
    {
      "cell_type": "code",
      "source": [
        "agg_stat_columns = [\n",
        " 'tarif_type',\n",
        " 'counter_number',\n",
        " 'counter_statue',\n",
        " 'counter_code',\n",
        " 'reading_remarque',\n",
        " 'consommation_level_1',\n",
        " 'consommation_level_2',\n",
        " 'consommation_level_3',\n",
        " 'consommation_level_4',\n",
        " 'old_index',\n",
        " 'new_index',\n",
        " 'months_number',\n",
        " 'counter_type',\n",
        " 'invoice_month',\n",
        " 'invoice_year',\n",
        " 'delta_index'\n",
        "]\n",
        "\n",
        "train_df1 = agg_feature(invoice_train1, client_train1, agg_stat_columns)\n",
        "test_df1 = agg_feature(invoice_test1, client_test1, agg_stat_columns)"
      ],
      "metadata": {
        "id": "ITshkXBzxv29"
      },
      "execution_count": null,
      "outputs": []
    },
    {
      "cell_type": "code",
      "source": [
        "def new_features(df):\n",
        "    \n",
        "    for col in agg_stat_columns:\n",
        "        df[col+'_range'] = df[col+'_max'] - df[col+'_min']\n",
        "        df[col+'_max_mean'] = df[col+'_max']/df[col+'_mean']\n",
        "    \n",
        "    return df"
      ],
      "metadata": {
        "id": "4WEzaeVyx4yR"
      },
      "execution_count": null,
      "outputs": []
    },
    {
      "cell_type": "code",
      "source": [
        "train_df2 = new_features(train_df1)\n",
        "test_df2 = new_features(test_df1)"
      ],
      "metadata": {
        "id": "pQ0MuEyTx8Pm"
      },
      "execution_count": null,
      "outputs": []
    },
    {
      "cell_type": "code",
      "source": [
        "print('Initial number of columns: ', len(client_train.columns)+len(invoice_train.columns))\n",
        "print('Number of columns now: ', len(train_df2.columns))"
      ],
      "metadata": {
        "colab": {
          "base_uri": "https://localhost:8080/"
        },
        "id": "SaAYWaxZyAer",
        "outputId": "618e9880-5b91-4862-88d1-8740386e0ce7"
      },
      "execution_count": null,
      "outputs": [
        {
          "output_type": "stream",
          "name": "stdout",
          "text": [
            "Initial number of columns:  29\n",
            "Number of columns now:  111\n"
          ]
        }
      ]
    },
    {
      "cell_type": "code",
      "source": [
        "def drop(df):\n",
        "\n",
        "    col_drop = ['client_id', 'creation_date']\n",
        "    for col in col_drop:\n",
        "        df.drop([col], axis=1, inplace=True)\n",
        "    return df"
      ],
      "metadata": {
        "id": "5rcNReTVyDbp"
      },
      "execution_count": null,
      "outputs": []
    },
    {
      "cell_type": "code",
      "source": [
        "train_df = drop(train_df2)\n",
        "test_df = drop(test_df2)"
      ],
      "metadata": {
        "id": "BTR3szUiyErb"
      },
      "execution_count": null,
      "outputs": []
    },
    {
      "cell_type": "code",
      "source": [
        "y = train_df['target']\n",
        "X = train_df.drop('target',axis=1)\n",
        "\n",
        "feature_name = X.columns.tolist()"
      ],
      "metadata": {
        "id": "vprMcyf5yHWb"
      },
      "execution_count": null,
      "outputs": []
    },
    {
      "cell_type": "code",
      "source": [
        "drop_col=['reading_remarque_max','counter_statue_min','counter_type_min','counter_type_max','counter_type_range',\n",
        "          'tarif_type_max', 'delta_index_min', 'consommation_level_4_mean']\n",
        "\n",
        "X = X.drop(drop_col, axis=1)\n",
        "test_df = test_df.drop(drop_col, axis=1)"
      ],
      "metadata": {
        "id": "Y7DEpyCUyK8-"
      },
      "execution_count": null,
      "outputs": []
    },
    {
      "cell_type": "code",
      "source": [
        "pip install optuna"
      ],
      "metadata": {
        "colab": {
          "base_uri": "https://localhost:8080/"
        },
        "id": "hqf2s7iiyTaa",
        "outputId": "b0ef7a50-c2b3-4c2e-a14c-4fc2e447021c"
      },
      "execution_count": null,
      "outputs": [
        {
          "output_type": "stream",
          "name": "stdout",
          "text": [
            "Collecting optuna\n",
            "  Downloading optuna-2.10.0-py3-none-any.whl (308 kB)\n",
            "\u001b[K     |████████████████████████████████| 308 kB 5.1 MB/s \n",
            "\u001b[?25hRequirement already satisfied: scipy!=1.4.0 in /usr/local/lib/python3.7/dist-packages (from optuna) (1.4.1)\n",
            "Requirement already satisfied: PyYAML in /usr/local/lib/python3.7/dist-packages (from optuna) (3.13)\n",
            "Collecting cmaes>=0.8.2\n",
            "  Downloading cmaes-0.8.2-py3-none-any.whl (15 kB)\n",
            "Requirement already satisfied: numpy in /usr/local/lib/python3.7/dist-packages (from optuna) (1.21.6)\n",
            "Collecting colorlog\n",
            "  Downloading colorlog-6.6.0-py2.py3-none-any.whl (11 kB)\n",
            "Requirement already satisfied: tqdm in /usr/local/lib/python3.7/dist-packages (from optuna) (4.64.0)\n",
            "Requirement already satisfied: sqlalchemy>=1.1.0 in /usr/local/lib/python3.7/dist-packages (from optuna) (1.4.35)\n",
            "Requirement already satisfied: packaging>=20.0 in /usr/local/lib/python3.7/dist-packages (from optuna) (21.3)\n",
            "Collecting alembic\n",
            "  Downloading alembic-1.7.7-py3-none-any.whl (210 kB)\n",
            "\u001b[K     |████████████████████████████████| 210 kB 51.4 MB/s \n",
            "\u001b[?25hCollecting cliff\n",
            "  Downloading cliff-3.10.1-py3-none-any.whl (81 kB)\n",
            "\u001b[K     |████████████████████████████████| 81 kB 8.3 MB/s \n",
            "\u001b[?25hRequirement already satisfied: pyparsing!=3.0.5,>=2.0.2 in /usr/local/lib/python3.7/dist-packages (from packaging>=20.0->optuna) (3.0.8)\n",
            "Requirement already satisfied: importlib-metadata in /usr/local/lib/python3.7/dist-packages (from sqlalchemy>=1.1.0->optuna) (4.11.3)\n",
            "Requirement already satisfied: greenlet!=0.4.17 in /usr/local/lib/python3.7/dist-packages (from sqlalchemy>=1.1.0->optuna) (1.1.2)\n",
            "Collecting Mako\n",
            "  Downloading Mako-1.2.0-py3-none-any.whl (78 kB)\n",
            "\u001b[K     |████████████████████████████████| 78 kB 6.0 MB/s \n",
            "\u001b[?25hRequirement already satisfied: importlib-resources in /usr/local/lib/python3.7/dist-packages (from alembic->optuna) (5.7.1)\n",
            "Requirement already satisfied: PrettyTable>=0.7.2 in /usr/local/lib/python3.7/dist-packages (from cliff->optuna) (3.2.0)\n",
            "Collecting autopage>=0.4.0\n",
            "  Downloading autopage-0.5.0-py3-none-any.whl (29 kB)\n",
            "Collecting cmd2>=1.0.0\n",
            "  Downloading cmd2-2.4.1-py3-none-any.whl (146 kB)\n",
            "\u001b[K     |████████████████████████████████| 146 kB 67.6 MB/s \n",
            "\u001b[?25hCollecting stevedore>=2.0.1\n",
            "  Downloading stevedore-3.5.0-py3-none-any.whl (49 kB)\n",
            "\u001b[K     |████████████████████████████████| 49 kB 5.1 MB/s \n",
            "\u001b[?25hCollecting pbr!=2.1.0,>=2.0.0\n",
            "  Downloading pbr-5.8.1-py2.py3-none-any.whl (113 kB)\n",
            "\u001b[K     |████████████████████████████████| 113 kB 61.7 MB/s \n",
            "\u001b[?25hCollecting pyperclip>=1.6\n",
            "  Downloading pyperclip-1.8.2.tar.gz (20 kB)\n",
            "Requirement already satisfied: attrs>=16.3.0 in /usr/local/lib/python3.7/dist-packages (from cmd2>=1.0.0->cliff->optuna) (21.4.0)\n",
            "Requirement already satisfied: typing-extensions in /usr/local/lib/python3.7/dist-packages (from cmd2>=1.0.0->cliff->optuna) (4.2.0)\n",
            "Requirement already satisfied: wcwidth>=0.1.7 in /usr/local/lib/python3.7/dist-packages (from cmd2>=1.0.0->cliff->optuna) (0.2.5)\n",
            "Requirement already satisfied: zipp>=0.5 in /usr/local/lib/python3.7/dist-packages (from importlib-metadata->sqlalchemy>=1.1.0->optuna) (3.8.0)\n",
            "Requirement already satisfied: MarkupSafe>=0.9.2 in /usr/local/lib/python3.7/dist-packages (from Mako->alembic->optuna) (2.0.1)\n",
            "Building wheels for collected packages: pyperclip\n",
            "  Building wheel for pyperclip (setup.py) ... \u001b[?25l\u001b[?25hdone\n",
            "  Created wheel for pyperclip: filename=pyperclip-1.8.2-py3-none-any.whl size=11137 sha256=9b5212b7dc1d4bfd5e4cba6dcd803ae1b5832a21ec8fb2dd987ccdd7aee60495\n",
            "  Stored in directory: /root/.cache/pip/wheels/9f/18/84/8f69f8b08169c7bae2dde6bd7daf0c19fca8c8e500ee620a28\n",
            "Successfully built pyperclip\n",
            "Installing collected packages: pyperclip, pbr, stevedore, Mako, cmd2, autopage, colorlog, cmaes, cliff, alembic, optuna\n",
            "Successfully installed Mako-1.2.0 alembic-1.7.7 autopage-0.5.0 cliff-3.10.1 cmaes-0.8.2 cmd2-2.4.1 colorlog-6.6.0 optuna-2.10.0 pbr-5.8.1 pyperclip-1.8.2 stevedore-3.5.0\n"
          ]
        }
      ]
    },
    {
      "cell_type": "code",
      "source": [
        "from optuna import Trial\n",
        "import gc\n",
        "import optuna\n",
        "from sklearn.model_selection import train_test_split\n",
        "import lightgbm as lgb\n",
        "\n",
        "category_cols = ['disrict', 'client_catg', 'region']\n",
        "\n",
        "def objective(trial:Trial):\n",
        "    \n",
        "    gc.collect()\n",
        "    models=[]\n",
        "    validScore=0\n",
        "   \n",
        "    model,log = fitLGBM(trial,X,y)\n",
        "    \n",
        "    models.append(model)\n",
        "    gc.collect()\n",
        "    validScore+=log\n",
        "    validScore/=len(models)\n",
        "    \n",
        "    return validScore"
      ],
      "metadata": {
        "id": "Sovk5EzcyQS1"
      },
      "execution_count": null,
      "outputs": []
    },
    {
      "cell_type": "code",
      "source": [
        "def fitLGBM(trial,X, y):\n",
        "    \n",
        "    params={\n",
        "      'n_estimators':trial.suggest_int('n_estimators', 0, 1000), \n",
        "      'num_leaves':trial.suggest_int('num_leaves', 2, 512),\n",
        "      'max_depth':trial.suggest_int('max_depth', 2, 128),\n",
        "      'learning_rate': trial.suggest_loguniform('learning_rate', 0.001, 0.15),\n",
        "      'min_split_gain': trial.suggest_loguniform('min_split_gain', 0.001, 0.1),\n",
        "      'feature_fraction':trial.suggest_uniform('feature_fraction',0.1, 1.0),\n",
        "      'bagging_freq':trial.suggest_int('bagging_freq',0.1,10),\n",
        "      'verbosity': -1,\n",
        "      'random_state':seed\n",
        "            }\n",
        "    stkfold = StratifiedKFold(n_splits=5, shuffle=True, random_state=seed)\n",
        "    model = LGBMClassifier(**params)\n",
        "    \n",
        "    res=[]\n",
        "    for i, (tdx, vdx) in enumerate(stkfold.split(X, y)):\n",
        "        X_train, X_valid, y_train, y_valid = X.iloc[tdx], X.iloc[vdx], y[tdx], y[vdx]\n",
        "        model.fit(X_train, y_train,\n",
        "                 eval_set=[(X_train, y_train), (X_valid, y_valid)],\n",
        "                 early_stopping_rounds=30, verbose=False)\n",
        "        preds = model.predict_proba(X_valid)\n",
        "        res.append(roc_auc_score(y_valid, preds[:,1]))\n",
        "    \n",
        "    err = np.mean(res)\n",
        "    \n",
        "    return model, err"
      ],
      "metadata": {
        "id": "Cdbk7uoWyZfM"
      },
      "execution_count": null,
      "outputs": []
    },
    {
      "cell_type": "code",
      "source": [
        "model = LGBMClassifier(random_state=seed, n_estimators=830,num_leaves=454, max_depth=61,\n",
        "                       learning_rate=0.006910869038433314, min_split_gain=0.00667926424629105, \n",
        "                       feature_fraction=0.3764303138879782, bagging_freq=8)\n",
        "\n",
        "stkfold = StratifiedKFold(n_splits=5, shuffle=True, random_state=seed)\n",
        "\n",
        "def calc(X, y, model, cv):\n",
        "    res=[]\n",
        "    local_probs=pd.DataFrame()\n",
        "    probs = pd.DataFrame()\n",
        "\n",
        "    for i, (tdx, vdx) in enumerate(cv.split(X, y)):\n",
        "        X_train, X_valid, y_train, y_valid = X.iloc[tdx], X.iloc[vdx], y[tdx], y[vdx]\n",
        "        model.fit(X_train, y_train,\n",
        "                 eval_set=[(X_train, y_train), (X_valid, y_valid)],\n",
        "                 early_stopping_rounds=30, verbose=False)\n",
        "        \n",
        "        preds = model.predict_proba(X_valid)\n",
        "        oof_predict = model.predict_proba(test_df)\n",
        "        local_probs['fold_%i'%i] = oof_predict[:,1]\n",
        "        res.append(roc_auc_score(y_valid, preds[:,1]))\n",
        "\n",
        "    print('ROC AUC:', round(np.mean(res), 6))    \n",
        "    local_probs['res'] = local_probs.mean(axis=1)\n",
        "    probs['target'] = local_probs['res']\n",
        "    \n",
        "    return probs"
      ],
      "metadata": {
        "id": "gSsrPU1zyjLF"
      },
      "execution_count": null,
      "outputs": []
    }
  ]
}